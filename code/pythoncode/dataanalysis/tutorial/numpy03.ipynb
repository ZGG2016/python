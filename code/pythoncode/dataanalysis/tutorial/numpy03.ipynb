{
 "cells": [
  {
   "cell_type": "code",
   "execution_count": 43,
   "metadata": {
    "collapsed": true,
    "pycharm": {
     "is_executing": false
    }
   },
   "outputs": [],
   "source": [
    "import numpy as np\n",
    "from numpy.random import randn\n",
    "from numpy.linalg import inv, qr"
   ]
  },
  {
   "cell_type": "markdown",
   "source": [
    "## 将数组以二进制格式保存到磁盘"
   ],
   "metadata": {
    "collapsed": false
   }
  },
  {
   "cell_type": "code",
   "execution_count": 12,
   "outputs": [
    {
     "name": "stdout",
     "text": [
      "[0 1 2 3 4 5 6 7 8 9]\n"
     ],
     "output_type": "stream"
    }
   ],
   "source": [
    "arr = np.arange(10)\n",
    "np.save('../resource/some_array.npy', arr)\n",
    "res = np.load('../resource/some_array.npy')\n",
    "print(res)"
   ],
   "metadata": {
    "collapsed": false,
    "pycharm": {
     "name": "#%%\n",
     "is_executing": false
    }
   }
  },
  {
   "cell_type": "code",
   "execution_count": 14,
   "outputs": [
    {
     "name": "stdout",
     "text": [
      "[0 1 2 3 4 5 6 7 8 9]\n"
     ],
     "output_type": "stream"
    }
   ],
   "source": [
    "# 保存多个数组到一个压缩文件\n",
    "np.savez('../resource/array_archive.npz',a=arr,b=arr)\n",
    "res = np.load('../resource/array_archive.npz')\n",
    "print(res['b'])"
   ],
   "metadata": {
    "collapsed": false,
    "pycharm": {
     "name": "#%%\n",
     "is_executing": false
    }
   }
  },
  {
   "cell_type": "markdown",
   "source": [
    "## 存取文本文件"
   ],
   "metadata": {
    "collapsed": false
   }
  },
  {
   "cell_type": "code",
   "execution_count": 15,
   "outputs": [
    {
     "name": "stdout",
     "text": [
      "[[ 0.580052  0.18673   1.040717  1.134411]\n [ 0.194163 -0.636917 -0.938659  0.124094]\n [-0.12641   0.268607 -0.695724  0.047428]\n [-1.484413  0.004176 -0.744203  0.005487]\n [ 2.302869  0.200131  1.670238 -1.88109 ]\n [-0.19323   1.047233  0.482803  0.960334]]\n"
     ],
     "output_type": "stream"
    }
   ],
   "source": [
    "arr = np.loadtxt('../resource/array_ex.txt', delimiter=',')\n",
    "print(arr)"
   ],
   "metadata": {
    "collapsed": false,
    "pycharm": {
     "name": "#%%\n",
     "is_executing": false
    }
   }
  },
  {
   "cell_type": "code",
   "execution_count": 17,
   "outputs": [
    {
     "name": "stdout",
     "text": [
      "[[ 0.99272058 -1.29667733  1.28687094 -1.68718185 -0.23013874]\n [-0.67044917  1.83304107 -1.5378137   0.31869594 -1.46358893]\n [-0.08360717  0.53059242  0.48221899  0.64943573  0.35902812]\n [ 0.05411431 -1.27427675  0.27376551 -0.3044794   0.40771155]]\n"
     ],
     "output_type": "stream"
    }
   ],
   "source": [
    "arr = randn(4,5)\n",
    "print(arr)\n",
    "np.savetxt('../resource/savetxt.txt', arr, delimiter='|')"
   ],
   "metadata": {
    "collapsed": false,
    "pycharm": {
     "name": "#%%\n",
     "is_executing": false
    }
   }
  },
  {
   "cell_type": "code",
   "execution_count": 40,
   "outputs": [
    {
     "name": "stdout",
     "text": [
      "[[ 1.  2. nan]\n [nan  5.  6.]\n [ 7. nan  9.]]\n"
     ],
     "output_type": "stream"
    }
   ],
   "source": [
    "arr = np.genfromtxt('../resource/genfromtxt.txt', \n",
    "                    delimiter=',')\n",
    "print(arr)"
   ],
   "metadata": {
    "collapsed": false,
    "pycharm": {
     "name": "#%%\n",
     "is_executing": false
    }
   }
  },
  {
   "cell_type": "code",
   "execution_count": 39,
   "outputs": [
    {
     "name": "stdout",
     "text": [
      "[( 1.,  2., -3.) (-1.,  5.,  6.) ( 7., -2.,  9.)]\n"
     ],
     "output_type": "stream"
    }
   ],
   "source": [
    "arr = np.genfromtxt('../resource/genfromtxt.txt', \n",
    "                    delimiter=',',\n",
    "                    names=\"a,b,c\",\n",
    "                    missing_values={'a':'','b':'','c':''}, # 键是列名\n",
    "                    filling_values={'a':-1,'b':-2,'c':-3})\n",
    "print(arr)"
   ],
   "metadata": {
    "collapsed": false,
    "pycharm": {
     "name": "#%%\n",
     "is_executing": false
    }
   }
  },
  {
   "cell_type": "markdown",
   "source": [
    "# 线性代数"
   ],
   "metadata": {
    "collapsed": false,
    "pycharm": {
     "name": "#%% md\n"
    }
   }
  },
  {
   "cell_type": "code",
   "execution_count": 41,
   "outputs": [
    {
     "name": "stdout",
     "text": [
      "[[ 28  64]\n [ 67 181]]\n[[ 28  64]\n [ 67 181]]\n"
     ],
     "output_type": "stream"
    }
   ],
   "source": [
    "x = np.array([[1,2,3],[4,5,6]])\n",
    "y = np.array([[6,23],[-1,7],[8,9]])\n",
    "print(x.dot(y))\n",
    "print(np.dot(x,y))"
   ],
   "metadata": {
    "collapsed": false,
    "pycharm": {
     "name": "#%%\n",
     "is_executing": false
    }
   }
  },
  {
   "cell_type": "code",
   "execution_count": 42,
   "outputs": [
    {
     "name": "stdout",
     "text": [
      "[ 6. 15.]\n"
     ],
     "output_type": "stream"
    }
   ],
   "source": [
    "print(np.dot(x, np.ones(3)))"
   ],
   "metadata": {
    "collapsed": false,
    "pycharm": {
     "name": "#%%\n",
     "is_executing": false
    }
   }
  },
  {
   "cell_type": "code",
   "execution_count": 45,
   "outputs": [
    {
     "name": "stdout",
     "text": [
      "[[10 14]\n [14 20]]\n[[ 5.  -3.5]\n [-3.5  2.5]]\n"
     ],
     "output_type": "stream"
    }
   ],
   "source": [
    "x = np.array([[1,2],[3,4]])\n",
    "mat = x.T.dot(x)\n",
    "print(mat)\n",
    "print(inv(mat))"
   ],
   "metadata": {
    "collapsed": false,
    "pycharm": {
     "name": "#%%\n",
     "is_executing": false
    }
   }
  },
  {
   "cell_type": "code",
   "execution_count": 46,
   "outputs": [
    {
     "name": "stdout",
     "text": [
      "[[ 1.00000000e+00 -2.66453526e-15]\n [ 7.10542736e-15  1.00000000e+00]]\n"
     ],
     "output_type": "stream"
    }
   ],
   "source": [
    "print(mat.dot(inv(mat)))"
   ],
   "metadata": {
    "collapsed": false,
    "pycharm": {
     "name": "#%%\n",
     "is_executing": false
    }
   }
  },
  {
   "cell_type": "code",
   "execution_count": 48,
   "outputs": [
    {
     "name": "stdout",
     "text": [
      "[[-0.58123819 -0.81373347]\n [-0.81373347  0.58123819]]\n[[-17.20465053 -24.41200414]\n [  0.           0.23249528]]\n"
     ],
     "output_type": "stream"
    }
   ],
   "source": [
    "q, r = qr(mat)\n",
    "print(q)\n",
    "print(r)"
   ],
   "metadata": {
    "collapsed": false,
    "pycharm": {
     "name": "#%%\n",
     "is_executing": false
    }
   }
  },
  {
   "cell_type": "code",
   "execution_count": 49,
   "outputs": [
    {
     "name": "stdout",
     "text": [
      "[-1.  1.]\n"
     ],
     "output_type": "stream"
    }
   ],
   "source": [
    "a = np.array([[1, 2], [3, 5]])\n",
    "b = np.array([1, 2])\n",
    "r = np.linalg.solve(a, b)\n",
    "print(r)"
   ],
   "metadata": {
    "collapsed": false,
    "pycharm": {
     "name": "#%%\n",
     "is_executing": false
    }
   }
  },
  {
   "cell_type": "markdown",
   "source": [
    "## 随机数生成"
   ],
   "metadata": {
    "collapsed": false,
    "pycharm": {
     "name": "#%% md\n"
    }
   }
  },
  {
   "cell_type": "code",
   "execution_count": 50,
   "outputs": [
    {
     "name": "stdout",
     "text": [
      "[[ 0.21452509  0.86054569  1.04320982 -3.25091413]\n [-0.63439609 -0.74416178  1.0333856   0.02408537]\n [ 0.32384691  1.50815315 -0.06029726  0.89714069]\n [-2.06298773 -0.26640992 -0.93032027 -0.48463629]]\n"
     ],
     "output_type": "stream"
    }
   ],
   "source": [
    "# 标准正态分布\n",
    "sample = np.random.normal(size=(4,4))\n",
    "print(sample)"
   ],
   "metadata": {
    "collapsed": false,
    "pycharm": {
     "name": "#%%\n",
     "is_executing": false
    }
   }
  },
  {
   "cell_type": "code",
   "execution_count": 52,
   "outputs": [
    {
     "name": "stdout",
     "text": [
      "[[0.89310024 0.18542612 0.43966607 0.08979698]\n [0.51661318 0.58345682 0.36778554 0.78454922]\n [0.33166053 0.95728574 0.50415564 0.20831039]\n [0.00374553 0.42955235 0.32525685 0.36086962]]\n[[4 3 2 3]\n [0 2 3 4]\n [4 4 3 2]\n [0 0 0 0]]\n"
     ],
     "output_type": "stream"
    }
   ],
   "source": [
    "print(np.random.rand(4,4))\n",
    "print(np.random.randint(5, size=(4,4)))"
   ],
   "metadata": {
    "collapsed": false,
    "pycharm": {
     "name": "#%%\n",
     "is_executing": false
    }
   }
  },
  {
   "cell_type": "markdown",
   "source": [
    "## 范例：随机漫步"
   ],
   "metadata": {
    "collapsed": false
   }
  },
  {
   "cell_type": "code",
   "execution_count": 55,
   "outputs": [
    {
     "name": "stdout",
     "text": [
      "63\n"
     ],
     "output_type": "stream"
    }
   ],
   "source": [
    "nsteps = 1000\n",
    "draws = np.random.randint(0,2,size=nsteps)\n",
    "steps = np.where(draws>0,1,-1)\n",
    "walk = steps.cumsum()\n",
    "print((np.abs(walk)>=10).argmax())"
   ],
   "metadata": {
    "collapsed": false,
    "pycharm": {
     "name": "#%%\n",
     "is_executing": false
    }
   }
  },
  {
   "cell_type": "markdown",
   "source": [
    "## 一次模拟多个随机漫步"
   ],
   "metadata": {
    "collapsed": false
   }
  },
  {
   "cell_type": "code",
   "execution_count": 56,
   "outputs": [
    {
     "name": "stdout",
     "text": [
      "[ True False  True ...  True False  True]\n3384\n"
     ],
     "output_type": "stream"
    }
   ],
   "source": [
    "nwalks = 5000\n",
    "nsteps = 1000\n",
    "draws = np.random.randint(0,2,size=(nwalks,nsteps))\n",
    "steps = np.where(draws>0,1,-1)\n",
    "walks = steps.cumsum(1)\n",
    "hits30 = (np.abs(walks)>=30).any(1)\n",
    "print(hits30)\n",
    "print(hits30.sum())"
   ],
   "metadata": {
    "collapsed": false,
    "pycharm": {
     "name": "#%%\n",
     "is_executing": false
    }
   }
  },
  {
   "cell_type": "code",
   "execution_count": 57,
   "outputs": [
    {
     "name": "stdout",
     "text": [
      "503.1625295508274\n"
     ],
     "output_type": "stream"
    }
   ],
   "source": [
    "crossing_times = (np.abs(walks[hits30])>=30).argmax(1)\n",
    "print(crossing_times.mean())"
   ],
   "metadata": {
    "collapsed": false,
    "pycharm": {
     "name": "#%%\n",
     "is_executing": false
    }
   }
  },
  {
   "cell_type": "code",
   "execution_count": 59,
   "outputs": [
    {
     "name": "stdout",
     "text": [
      "[[-0.19146873  0.22888976 -0.30905772 ... -0.30283906  0.18404091\n  -0.02892877]\n [-0.14631012 -0.15531822 -0.13453228 ...  0.00255435  0.00159295\n   0.04394064]\n [-0.09431699  0.12301313  0.05182038 ...  0.05831877  0.08544023\n   0.4547216 ]\n ...\n [ 0.42803162  0.1213048   0.14052429 ...  0.20815523 -0.05878678\n   0.47321649]\n [ 0.08694055 -0.1081495  -0.20544704 ...  0.38203625  0.24240653\n   0.60877502]\n [ 0.19289014  0.07196167 -0.36247542 ...  0.16513907  0.15610533\n   0.30490698]]\n"
     ],
     "output_type": "stream"
    }
   ],
   "source": [
    "steps = np.random.normal(loc=0, scale=0.25, size=(nwalks, nsteps))\n",
    "print(steps)"
   ],
   "metadata": {
    "collapsed": false,
    "pycharm": {
     "name": "#%%\n",
     "is_executing": false
    }
   }
  }
 ],
 "metadata": {
  "kernelspec": {
   "display_name": "Python 3",
   "language": "python",
   "name": "python3"
  },
  "language_info": {
   "codemirror_mode": {
    "name": "ipython",
    "version": 2
   },
   "file_extension": ".py",
   "mimetype": "text/x-python",
   "name": "python",
   "nbconvert_exporter": "python",
   "pygments_lexer": "ipython2",
   "version": "2.7.6"
  },
  "pycharm": {
   "stem_cell": {
    "cell_type": "raw",
    "source": [],
    "metadata": {
     "collapsed": false
    }
   }
  }
 },
 "nbformat": 4,
 "nbformat_minor": 0
}