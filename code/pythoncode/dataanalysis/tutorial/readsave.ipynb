{
 "cells": [
  {
   "cell_type": "code",
   "execution_count": 70,
   "metadata": {
    "collapsed": true,
    "pycharm": {
     "is_executing": false
    }
   },
   "outputs": [],
   "source": [
    "import sys\n",
    "from pandas import Series, DataFrame, MultiIndex\n",
    "import pandas as pd\n",
    "import numpy as np\n",
    "from numpy import nan as NA\n",
    "import csv\n",
    "import json\n",
    "from lxml.html import parse\n",
    "from urllib import request\n",
    "from lxml import objectify\n",
    "from io import StringIO"
   ]
  },
  {
   "cell_type": "markdown",
   "source": [
    "## 读写文本格式的数据\n"
   ],
   "metadata": {
    "collapsed": false
   }
  },
  {
   "cell_type": "code",
   "execution_count": 2,
   "outputs": [
    {
     "name": "stdout",
     "text": [
      "   a   b   c   d message\n0  1   2   3   4   hello\n1  5   6   7   8   world\n2  9  10  11  12     foo\n"
     ],
     "output_type": "stream"
    }
   ],
   "source": [
    "# 含标题\n",
    "df = pd.read_csv(\"../resource/ex1.csv\")\n",
    "print(df)"
   ],
   "metadata": {
    "collapsed": false,
    "pycharm": {
     "name": "#%%\n",
     "is_executing": false
    }
   }
  },
  {
   "cell_type": "code",
   "execution_count": 4,
   "outputs": [
    {
     "name": "stdout",
     "text": [
      "   a   b   c   d message\n0  1   2   3   4   hello\n1  5   6   7   8   world\n2  9  10  11  12     foo\n"
     ],
     "output_type": "stream"
    }
   ],
   "source": [
    "print(pd.read_table(\"../resource/ex1.csv\", sep=\",\"))"
   ],
   "metadata": {
    "collapsed": false,
    "pycharm": {
     "name": "#%%\n",
     "is_executing": false
    }
   }
  },
  {
   "cell_type": "code",
   "execution_count": 5,
   "outputs": [
    {
     "name": "stdout",
     "text": [
      "   0   1   2   3      4\n0  1   2   3   4  hello\n1  5   6   7   8  world\n2  9  10  11  12    foo\n   a   b   c   d message\n0  1   2   3   4   hello\n1  5   6   7   8   world\n2  9  10  11  12     foo\n"
     ],
     "output_type": "stream"
    }
   ],
   "source": [
    "# 不含标题\n",
    "print(pd.read_csv(\"../resource/ex2.csv\", header=None))\n",
    "print(pd.read_csv(\"../resource/ex2.csv\", \n",
    "                  names=['a','b','c','d','message']))\n"
   ],
   "metadata": {
    "collapsed": false,
    "pycharm": {
     "name": "#%%\n",
     "is_executing": false
    }
   }
  },
  {
   "cell_type": "code",
   "execution_count": 6,
   "outputs": [
    {
     "name": "stdout",
     "text": [
      "         a   b   c   d\nmessage               \nhello    1   2   3   4\nworld    5   6   7   8\nfoo      9  10  11  12\n"
     ],
     "output_type": "stream"
    }
   ],
   "source": [
    "# 指定message列作为dataframe的索引\n",
    "names = ['a','b','c','d','message']\n",
    "print(pd.read_csv(\"../resource/ex2.csv\",\n",
    "                  names=names,\n",
    "                  index_col='message'))"
   ],
   "metadata": {
    "collapsed": false,
    "pycharm": {
     "name": "#%%\n",
     "is_executing": false
    }
   }
  },
  {
   "cell_type": "code",
   "execution_count": 4,
   "outputs": [
    {
     "name": "stdout",
     "text": [
      "           value1  value2\nkey1 key2                \none  a          1       2\n     b          3       4\n     c          5       6\n     d          7       8\ntwo  a          9      10\n     b         11      12\n     c         13      14\n     d         15      16\n"
     ],
     "output_type": "stream"
    }
   ],
   "source": [
    "# 将多列做成层次化索引\n",
    "parsed = pd.read_csv(\"../resource/csv_mindex.csv\",\n",
    "                     index_col=['key1','key2'])\n",
    "print(parsed)"
   ],
   "metadata": {
    "collapsed": false,
    "pycharm": {
     "name": "#%%\n",
     "is_executing": false
    }
   }
  },
  {
   "cell_type": "code",
   "execution_count": 6,
   "outputs": [
    {
     "name": "stdout",
     "text": [
      "            A         B         C\naaa -0.264438 -1.026059 -0.619500\nbbb  0.927272  0.302904 -0.032399\nccc -0.264273 -0.386314 -0.217601\nddd -0.871858 -0.348382  1.100491\n"
     ],
     "output_type": "stream"
    }
   ],
   "source": [
    "# 不是固定的分隔符分隔字段，使用正则\n",
    "res = pd.read_table(\"../resource/ex3.txt\",\n",
    "                    sep='\\s+')\n",
    "print(res)"
   ],
   "metadata": {
    "collapsed": false,
    "pycharm": {
     "name": "#%%\n",
     "is_executing": false
    }
   }
  },
  {
   "cell_type": "code",
   "execution_count": 8,
   "outputs": [
    {
     "name": "stdout",
     "text": [
      "   a   b   c   d message\n0  1   2   3   4   hello\n1  5   6   7   8   world\n2  9  10  11  12     foo\n"
     ],
     "output_type": "stream"
    }
   ],
   "source": [
    "# 跳过文件的第 1 3 4 行\n",
    "res = pd.read_csv(\"../resource/ex4.csv\",\n",
    "                  skiprows=[0,2,3])\n",
    "print(res)"
   ],
   "metadata": {
    "collapsed": false,
    "pycharm": {
     "name": "#%%\n",
     "is_executing": false
    }
   }
  },
  {
   "cell_type": "code",
   "execution_count": 9,
   "outputs": [
    {
     "name": "stdout",
     "text": [
      "  something  a   b     c   d message\n0       one  1   2   3.0   4     NaN\n1       two  5   6   NaN   8   world\n2     three  9  10  11.0  12     foo\n   something      a      b      c      d  message\n0      False  False  False  False  False     True\n1      False  False  False   True  False    False\n2      False  False  False  False  False    False\n"
     ],
     "output_type": "stream"
    }
   ],
   "source": [
    "# 缺失值：NA -1.#IND NULL\n",
    "res = pd.read_csv(\"../resource/ex5.csv\")\n",
    "print(res)\n",
    "print(pd.isnull(res))"
   ],
   "metadata": {
    "collapsed": false,
    "pycharm": {
     "name": "#%%\n",
     "is_executing": false
    }
   }
  },
  {
   "cell_type": "code",
   "execution_count": 15,
   "outputs": [
    {
     "name": "stdout",
     "text": [
      "  something  a   b     c   d message\n0       one  1   2   3.0   4     NaN\n1       two  5   6   NaN   8   world\n2     three  9  10  11.0  12     NaN\n"
     ],
     "output_type": "stream"
    }
   ],
   "source": [
    "# 此时，值为foo的单元格也为NaN\n",
    "res = pd.read_csv(\"../resource/ex5.csv\",\n",
    "                  na_values=['foo'])\n",
    "print(res)\n"
   ],
   "metadata": {
    "collapsed": false,
    "pycharm": {
     "name": "#%%\n",
     "is_executing": false
    }
   }
  },
  {
   "cell_type": "code",
   "execution_count": 16,
   "outputs": [
    {
     "name": "stdout",
     "text": [
      "  something  a   b     c   d message\n0       NaN  1   2   3.0   4     NaN\n1       two  5   6   NaN   8   world\n2     three  9  10  11.0  12     NaN\n"
     ],
     "output_type": "stream"
    }
   ],
   "source": [
    "# 为各列分别指定缺失值\n",
    "res = pd.read_csv(\"../resource/ex5.csv\",\n",
    "                  na_values={\n",
    "                      'message':['foo','NA'],\n",
    "                      'something':'one'\n",
    "                  })\n",
    "print(res)"
   ],
   "metadata": {
    "collapsed": false,
    "pycharm": {
     "name": "#%%\n",
     "is_executing": false
    }
   }
  },
  {
   "cell_type": "markdown",
   "source": [
    "## 逐块读取文本文件\n",
    "\n",
    "数据量很大时"
   ],
   "metadata": {
    "collapsed": false,
    "pycharm": {
     "name": "#%% md\n"
    }
   }
  },
  {
   "cell_type": "code",
   "execution_count": 17,
   "outputs": [
    {
     "name": "stdout",
     "text": [
      "           one       two     three      four key\n0     0.467976 -0.038649 -0.295344 -1.824726   L\n1    -0.358893  1.404453  0.704965 -0.200638   B\n2    -0.501840  0.659254 -0.421691 -0.057688   G\n3     0.204886  1.074134  1.388361 -0.982404   R\n4     0.354628 -0.133116  0.283763 -0.837063   Q\n...        ...       ...       ...       ...  ..\n9995  2.311896 -0.417070 -1.409599 -0.515821   L\n9996 -0.479893 -0.650419  0.745152 -0.646038   E\n9997  0.523331  0.787112  0.486066  1.093156   K\n9998 -0.362559  0.598894 -1.843201  0.887292   G\n9999 -0.096376 -1.012999 -0.657431 -0.573315   0\n\n[10000 rows x 5 columns]\n"
     ],
     "output_type": "stream"
    }
   ],
   "source": [
    "res = pd.read_csv(\"../resource/ex6.csv\")\n",
    "print(res)"
   ],
   "metadata": {
    "collapsed": false,
    "pycharm": {
     "name": "#%%\n",
     "is_executing": false
    }
   }
  },
  {
   "cell_type": "code",
   "execution_count": 18,
   "outputs": [
    {
     "name": "stdout",
     "text": [
      "        one       two     three      four key\n0  0.467976 -0.038649 -0.295344 -1.824726   L\n1 -0.358893  1.404453  0.704965 -0.200638   B\n2 -0.501840  0.659254 -0.421691 -0.057688   G\n3  0.204886  1.074134  1.388361 -0.982404   R\n4  0.354628 -0.133116  0.283763 -0.837063   Q\n"
     ],
     "output_type": "stream"
    }
   ],
   "source": [
    "# 仅读5行\n",
    "print(pd.read_csv(\"../resource/ex6.csv\", nrows=5))\n"
   ],
   "metadata": {
    "collapsed": false,
    "pycharm": {
     "name": "#%%\n",
     "is_executing": false
    }
   }
  },
  {
   "cell_type": "code",
   "execution_count": 21,
   "outputs": [
    {
     "name": "stdout",
     "text": [
      "<pandas.io.parsers.readers.TextFileReader object at 0x00000250CDE26550>\nE    368.0\nX    364.0\nL    346.0\nO    343.0\nQ    340.0\nM    338.0\nJ    337.0\nF    335.0\nK    334.0\nH    330.0\ndtype: float64\n"
     ],
     "output_type": "stream"
    },
    {
     "name": "stderr",
     "text": [
      "C:\\Users\\zgg\\AppData\\Local\\Temp\\ipykernel_3484\\437882053.py:5: FutureWarning: The default dtype for empty Series will be 'object' instead of 'float64' in a future version. Specify a dtype explicitly to silence this warning.\n  tot = Series([])\n"
     ],
     "output_type": "stream"
    }
   ],
   "source": [
    "# 逐块读取\n",
    "chunker = pd.read_csv(\"../resource/ex6.csv\", chunksize=1000)\n",
    "print(chunker)\n",
    "\n",
    "tot = Series([])\n",
    "for piece in chunker:\n",
    "    tot = tot.add(piece['key'].value_counts(),fill_value=0)\n",
    "tot = tot.sort_values(ascending=False)\n",
    "print(tot[:10])"
   ],
   "metadata": {
    "collapsed": false,
    "pycharm": {
     "name": "#%%\n",
     "is_executing": false
    }
   }
  },
  {
   "cell_type": "markdown",
   "source": [
    "## 将数据写出到文本格式"
   ],
   "metadata": {
    "collapsed": false,
    "pycharm": {
     "name": "#%% md\n"
    }
   }
  },
  {
   "cell_type": "code",
   "execution_count": 22,
   "outputs": [
    {
     "name": "stdout",
     "text": [
      "  something  a   b     c   d message\n0       one  1   2   3.0   4     NaN\n1       two  5   6   NaN   8   world\n2     three  9  10  11.0  12     foo\n"
     ],
     "output_type": "stream"
    }
   ],
   "source": [
    "data = pd.read_csv(\"../resource/ex5.csv\")\n",
    "print(data)"
   ],
   "metadata": {
    "collapsed": false,
    "pycharm": {
     "name": "#%%\n",
     "is_executing": false
    }
   }
  },
  {
   "cell_type": "code",
   "execution_count": 23,
   "outputs": [],
   "source": [
    "data.to_csv(\"../resource/ex5_2.csv\")"
   ],
   "metadata": {
    "collapsed": false,
    "pycharm": {
     "name": "#%%\n",
     "is_executing": false
    }
   }
  },
  {
   "cell_type": "code",
   "execution_count": 26,
   "outputs": [
    {
     "name": "stdout",
     "text": [
      "|something|a|b|c|d|message\r\n0|one|1|2|3.0|4|\r\n1|two|5|6||8|world\r\n2|three|9|10|11.0|12|foo\r\n"
     ],
     "output_type": "stream"
    }
   ],
   "source": [
    "# 指定分隔符\n",
    "data.to_csv(sys.stdout, sep='|')"
   ],
   "metadata": {
    "collapsed": false,
    "pycharm": {
     "name": "#%%\n",
     "is_executing": false
    }
   }
  },
  {
   "cell_type": "code",
   "execution_count": 27,
   "outputs": [
    {
     "name": "stdout",
     "text": [
      "|something|a|b|c|d|message\r\n0|one|1|2|3.0|4|NULL\r\n1|two|5|6|NULL|8|world\r\n2|three|9|10|11.0|12|foo\r\n"
     ],
     "output_type": "stream"
    }
   ],
   "source": [
    "# 标记空字符串\n",
    "data.to_csv(sys.stdout, sep='|',na_rep='NULL')"
   ],
   "metadata": {
    "collapsed": false,
    "pycharm": {
     "name": "#%%\n",
     "is_executing": false
    }
   }
  },
  {
   "cell_type": "code",
   "execution_count": 29,
   "outputs": [
    {
     "name": "stdout",
     "text": [
      "a|b|c\r\n1|2|3.0\r\n5|6|NULL\r\n9|10|11.0\r\n"
     ],
     "output_type": "stream"
    }
   ],
   "source": [
    "# 不写行列标签\n",
    "data.to_csv(sys.stdout, \n",
    "            sep='|',\n",
    "            na_rep='NULL',\n",
    "            index=False,\n",
    "            columns=['a','b','c'])"
   ],
   "metadata": {
    "collapsed": false,
    "pycharm": {
     "name": "#%%\n",
     "is_executing": false
    }
   }
  },
  {
   "cell_type": "code",
   "execution_count": 31,
   "outputs": [],
   "source": [
    "dates = pd.date_range('1/1/2000',periods=7)\n",
    "ts = Series(np.arange(7), index=dates)\n",
    "ts.to_csv(\"../resource/tseries.csv\")"
   ],
   "metadata": {
    "collapsed": false,
    "pycharm": {
     "name": "#%%\n",
     "is_executing": false
    }
   }
  },
  {
   "cell_type": "markdown",
   "source": [
    "## 手工处理分隔符格式"
   ],
   "metadata": {
    "collapsed": false,
    "pycharm": {
     "name": "#%% md\n",
     "is_executing": false
    }
   }
  },
  {
   "cell_type": "code",
   "execution_count": 33,
   "outputs": [
    {
     "name": "stdout",
     "text": [
      "['a', 'b', 'c']\n['1', '2', '3']\n['1', '2', '3', '4']\n"
     ],
     "output_type": "stream"
    }
   ],
   "source": [
    "\n",
    "f = open(\"../resource/ex7.csv\")\n",
    "reader = csv.reader(f)\n",
    "for line in reader:\n",
    "    print(line)"
   ],
   "metadata": {
    "collapsed": false,
    "pycharm": {
     "name": "#%%\n",
     "is_executing": false
    }
   }
  },
  {
   "cell_type": "code",
   "execution_count": 38,
   "outputs": [
    {
     "name": "stdout",
     "text": [
      "[['a', 'b', 'c'], ['1', '2', '3'], ['1', '2', '3', '4']]\n['a', 'b', 'c'] [['1', '2', '3'], ['1', '2', '3', '4']]\n{'a': ('1', '1'), 'b': ('2', '2'), 'c': ('3', '3')}\n"
     ],
     "output_type": "stream"
    }
   ],
   "source": [
    "lines = list(csv.reader(open(\"../resource/ex7.csv\")))\n",
    "print(lines)\n",
    "\n",
    "header, values = lines[0], lines[1:]\n",
    "print(header, values)\n",
    "\n",
    "data_dict = {h: v for h, v in zip(header, zip(*values))}\n",
    "print(data_dict)"
   ],
   "metadata": {
    "collapsed": false,
    "pycharm": {
     "name": "#%%\n",
     "is_executing": false
    }
   }
  },
  {
   "cell_type": "code",
   "execution_count": 42,
   "outputs": [],
   "source": [
    "# 自定义分隔符\n",
    "class my_dialect(csv.Dialect):\n",
    "    lineterminator = '\\n'\n",
    "    delimiter = ';'\n",
    "    quotechar = '\"'\n",
    "    quoting = csv.QUOTE_MINIMAL\n",
    "f = open(\"../resource/ex7.csv\")\n",
    "reader = csv.reader(f, dialect=my_dialect)\n",
    "# 也可以直接指定\n",
    "reader2 = csv.reader(f, delimiter = ';')"
   ],
   "metadata": {
    "collapsed": false,
    "pycharm": {
     "name": "#%%\n",
     "is_executing": false
    }
   }
  },
  {
   "cell_type": "code",
   "execution_count": 43,
   "outputs": [],
   "source": [
    "# 手动输出分隔符文件\n",
    "with open(\"../resource/mydata.csv\", 'w') as f:\n",
    "    writer = csv.writer(f, dialect=my_dialect)\n",
    "    writer.writerow(('one','two','three'))\n",
    "    writer.writerow(('1','2','3'))"
   ],
   "metadata": {
    "collapsed": false,
    "pycharm": {
     "name": "#%%\n",
     "is_executing": false
    }
   }
  },
  {
   "cell_type": "markdown",
   "source": [
    "## JSON数据"
   ],
   "metadata": {
    "collapsed": false
   }
  },
  {
   "cell_type": "code",
   "execution_count": 45,
   "outputs": [],
   "source": [
    "obj = \"\"\"\n",
    "{\"name\": \"Wes\",\n",
    " \"places_lived\": [\"United States\", \"Spain\", \"Germany\"],\n",
    " \"pet\": null,\n",
    " \"siblings\": [{\"name\": \"Scott\", \"age\": 25, \"pet\": \"Zuko\"},\n",
    "              {\"name\": \"Katie\", \"age\": 33, \"pet\": \"Cisco\"}]\n",
    "}\n",
    "\"\"\""
   ],
   "metadata": {
    "collapsed": false,
    "pycharm": {
     "name": "#%%\n",
     "is_executing": false
    }
   }
  },
  {
   "cell_type": "code",
   "execution_count": 46,
   "outputs": [
    {
     "name": "stdout",
     "text": [
      "{'name': 'Wes', 'places_lived': ['United States', 'Spain', 'Germany'], 'pet': None, 'siblings': [{'name': 'Scott', 'age': 25, 'pet': 'Zuko'}, {'name': 'Katie', 'age': 33, 'pet': 'Cisco'}]}\n"
     ],
     "output_type": "stream"
    }
   ],
   "source": [
    "# json->python\n",
    "res = json.loads(obj)\n",
    "print(res)"
   ],
   "metadata": {
    "collapsed": false,
    "pycharm": {
     "name": "#%%\n",
     "is_executing": false
    }
   }
  },
  {
   "cell_type": "code",
   "execution_count": 47,
   "outputs": [
    {
     "name": "stdout",
     "text": [
      "{\"name\": \"Wes\", \"places_lived\": [\"United States\", \"Spain\", \"Germany\"], \"pet\": null, \"siblings\": [{\"name\": \"Scott\", \"age\": 25, \"pet\": \"Zuko\"}, {\"name\": \"Katie\", \"age\": 33, \"pet\": \"Cisco\"}]}\n"
     ],
     "output_type": "stream"
    }
   ],
   "source": [
    "# python->json\n",
    "asjson = json.dumps(res)\n",
    "print(asjson)"
   ],
   "metadata": {
    "collapsed": false,
    "pycharm": {
     "name": "#%%\n",
     "is_executing": false
    }
   }
  },
  {
   "cell_type": "code",
   "execution_count": 48,
   "outputs": [
    {
     "name": "stdout",
     "text": [
      "    name  age\n0  Scott   25\n1  Katie   33\n"
     ],
     "output_type": "stream"
    }
   ],
   "source": [
    "# 转dataframe\n",
    "siblings = DataFrame(res['siblings'], columns=['name','age'])\n",
    "print(siblings)"
   ],
   "metadata": {
    "collapsed": false,
    "pycharm": {
     "name": "#%%\n",
     "is_executing": false
    }
   }
  },
  {
   "cell_type": "markdown",
   "source": [
    "## XML和HTML: Web信息收集"
   ],
   "metadata": {
    "collapsed": false,
    "pycharm": {
     "name": "#%% md\n"
    }
   }
  },
  {
   "cell_type": "code",
   "execution_count": 53,
   "outputs": [
    {
     "name": "stdout",
     "text": [
      "[<Element a at 0x250d142a040>, <Element a at 0x250d1354db0>, <Element a at 0x250d1354680>, <Element a at 0x250d1354130>, <Element a at 0x250d13544f0>]\n"
     ],
     "output_type": "stream"
    }
   ],
   "source": [
    "parsed = parse(request.urlopen('https://blog.csdn.net/nav/back-end'))\n",
    "doc = parsed.getroot()\n",
    "links = doc.findall(\".//a\")\n",
    "print(links[15:20])"
   ],
   "metadata": {
    "collapsed": false,
    "pycharm": {
     "name": "#%%\n",
     "is_executing": false
    }
   }
  },
  {
   "cell_type": "code",
   "execution_count": 55,
   "outputs": [
    {
     "name": "stdout",
     "text": [
      "/nav/cloud\n云平台\n"
     ],
     "output_type": "stream"
    }
   ],
   "source": [
    "# 获取url和链接文本\n",
    "lnk = links[15]\n",
    "print(lnk.get(\"href\"))\n",
    "print(lnk.text_content())"
   ],
   "metadata": {
    "collapsed": false,
    "pycharm": {
     "name": "#%%\n",
     "is_executing": false
    }
   }
  },
  {
   "cell_type": "code",
   "execution_count": 56,
   "outputs": [
    {
     "name": "stdout",
     "text": [
      "['https://blog.csdn.net/lf21qp', 'https://blog.csdn.net/lf21qp', 'https://blog.csdn.net/QinTao9961220', 'https://blog.csdn.net/QinTao9961220', 'https://blog.csdn.net/wstever', 'https://blog.csdn.net/wstever', 'https://blog.csdn.net/qq_40647372', 'https://blog.csdn.net/qq_40647372', 'https://blog.csdn.net/bishe401', 'https://blog.csdn.net/bishe401']\n"
     ],
     "output_type": "stream"
    }
   ],
   "source": [
    "urls = [lnk.get(\"href\") for lnk in doc.findall(\".//a\")]\n",
    "print(urls[-10:])"
   ],
   "metadata": {
    "collapsed": false,
    "pycharm": {
     "name": "#%%\n",
     "is_executing": false
    }
   }
  },
  {
   "cell_type": "code",
   "execution_count": 57,
   "outputs": [
    {
     "traceback": [
      "\u001b[1;31m---------------------------------------------------------------------------\u001b[0m",
      "\u001b[1;31mIndexError\u001b[0m                                Traceback (most recent call last)",
      "Input \u001b[1;32mIn [57]\u001b[0m, in \u001b[0;36m<cell line: 3>\u001b[1;34m()\u001b[0m\n\u001b[0;32m      1\u001b[0m \u001b[38;5;66;03m# 获取表格\u001b[39;00m\n\u001b[0;32m      2\u001b[0m tables \u001b[38;5;241m=\u001b[39m doc\u001b[38;5;241m.\u001b[39mfindall(\u001b[38;5;124m\"\u001b[39m\u001b[38;5;124m.//table\u001b[39m\u001b[38;5;124m\"\u001b[39m)\n\u001b[1;32m----> 3\u001b[0m \u001b[38;5;28mprint\u001b[39m(\u001b[43mtables\u001b[49m\u001b[43m[\u001b[49m\u001b[38;5;241;43m0\u001b[39;49m\u001b[43m]\u001b[49m)\n",
      "\u001b[1;31mIndexError\u001b[0m: list index out of range"
     ],
     "ename": "IndexError",
     "evalue": "list index out of range",
     "output_type": "error"
    }
   ],
   "source": [
    "# 获取表格\n",
    "tables = doc.findall(\".//table\")\n",
    "tb1 = tables[0]\n",
    "print(tb1)"
   ],
   "metadata": {
    "collapsed": false,
    "pycharm": {
     "name": "#%%\n",
     "is_executing": false
    }
   }
  },
  {
   "cell_type": "code",
   "execution_count": null,
   "outputs": [],
   "source": [
    "# 获取表格标题行\n",
    "rows = tb1.findall(\".//tr\")\n"
   ],
   "metadata": {
    "collapsed": false,
    "pycharm": {
     "name": "#%%\n"
    }
   }
  },
  {
   "cell_type": "code",
   "execution_count": null,
   "outputs": [],
   "source": [
    "# 获取表格单元格的文本\n",
    "def _unpack(row, kind='td'):\n",
    "    elts = row.findall(\".//%s\" % kind)\n",
    "    return [val.text_content() for val in elts]\n",
    "\n",
    "_unpack(rows[0], kind='th')\n",
    "_unpack(rows[0], kind='td')"
   ],
   "metadata": {
    "collapsed": false,
    "pycharm": {
     "name": "#%%\n"
    }
   }
  },
  {
   "cell_type": "code",
   "execution_count": null,
   "outputs": [],
   "source": [
    "from pandas.io.parsers import TextParser\n",
    "def parse_options_data(table):\n",
    "    rows = table.findall(\".//tr\")\n",
    "    header = _unpack(rows[0], kind='th')\n",
    "    data = [_unpack(r) for r in rows[1:]]\n",
    "    # onverts lists of lists/tuples into DataFrames \n",
    "    # with proper type inference and optional \n",
    "    # (e.g. string to datetime) conversion. \n",
    "    return TextParser(data, names=header).get_chunk()\n",
    "\n",
    "parse_options_data(tb1)"
   ],
   "metadata": {
    "collapsed": false,
    "pycharm": {
     "name": "#%%\n"
    }
   }
  },
  {
   "cell_type": "code",
   "execution_count": 69,
   "outputs": [
    {
     "name": "stdout",
     "text": [
      "   INDICATOR_SEQ PARENT_SEQ           AGENCY_NAME  \\\n1          28445             Metro-North Railroad   \n2          28445             Metro-North Railroad   \n\n                         INDICATOR_NAME  \\\n1  On-Time Performance (West of Hudson)   \n2  On-Time Performance (West of Hudson)   \n\n                                         DESCRIPTION  PERIOD_YEAR  \\\n1  Percent of commuter trains that arrive at thei...         2008   \n2  Percent of commuter trains that arrive at thei...         2008   \n\n   PERIOD_MONTH            CATEGORY FREQUENCY DESIRED_CHANGE INDICATOR_UNIT  \\\n1             2  Service Indicators         M              U              %   \n2             3  Service Indicators         M              U              %   \n\n   DECIMAL_PLACES YTD_TARGET YTD_ACTUAL MONTHLY_TARGET MONTHLY_ACTUAL  \n1               1       95.0       96.0           95.0           95.0  \n2               1       95.0       96.3           95.0           96.9  \n"
     ],
     "output_type": "stream"
    }
   ],
   "source": [
    "path = \"../resource/mta_perf/Performance_MNR.xml\"\n",
    "parsed = objectify.parse(open(path))\n",
    "root = parsed.getroot()\n",
    "\n",
    "data = []\n",
    "\n",
    "for elt in root.INDICATOR:\n",
    "    el_data = {}\n",
    "    for child in elt.getchildren():\n",
    "        el_data[child.tag] = child.pyval\n",
    "    data.append(el_data)\n",
    "\n",
    "perf = DataFrame(data)\n",
    "print(perf[1:3])"
   ],
   "metadata": {
    "collapsed": false,
    "pycharm": {
     "name": "#%%\n",
     "is_executing": false
    }
   }
  },
  {
   "cell_type": "code",
   "execution_count": 75,
   "outputs": [
    {
     "name": "stdout",
     "text": [
      "<_io.StringIO object at 0x00000250CDDBE280>\nhttp://www.baidu.com\nbaidu\n"
     ],
     "output_type": "stream"
    }
   ],
   "source": [
    "tag = '<a href=\"http://www.baidu.com\">baidu</a>'\n",
    "print(StringIO(tag))\n",
    "root = objectify.parse(StringIO(tag)).getroot()\n",
    "print(root.get(\"href\"))\n",
    "print(root.text)"
   ],
   "metadata": {
    "collapsed": false,
    "pycharm": {
     "name": "#%%\n",
     "is_executing": false
    }
   }
  },
  {
   "cell_type": "markdown",
   "source": [
    "## 二进制数据格式"
   ],
   "metadata": {
    "collapsed": false
   }
  },
  {
   "cell_type": "code",
   "execution_count": 77,
   "outputs": [
    {
     "name": "stdout",
     "text": [
      "   a   b   c   d message\n0  1   2   3   4   hello\n1  5   6   7   8   world\n2  9  10  11  12     foo\n"
     ],
     "output_type": "stream"
    }
   ],
   "source": [
    "frame = pd.read_csv(\"../resource/ex1.csv\")\n",
    "print(frame)\n",
    "# 以 pickle形式保存\n",
    "frame.to_pickle(\"../resource/frame_pickle\")"
   ],
   "metadata": {
    "collapsed": false,
    "pycharm": {
     "name": "#%%\n",
     "is_executing": false
    }
   }
  },
  {
   "cell_type": "code",
   "execution_count": 79,
   "outputs": [
    {
     "name": "stdout",
     "text": [
      "   a   b   c   d message\n0  1   2   3   4   hello\n1  5   6   7   8   world\n2  9  10  11  12     foo\n"
     ],
     "output_type": "stream"
    }
   ],
   "source": [
    "# 读取\n",
    "print(pd.read_pickle(\"../resource/frame_pickle\"))"
   ],
   "metadata": {
    "collapsed": false,
    "pycharm": {
     "name": "#%%\n",
     "is_executing": false
    }
   }
  },
  {
   "cell_type": "markdown",
   "source": [
    "## 使用HDF5\n",
    "\n",
    "HDF：层次型数据格式\n",
    "\n",
    "先安装 `pip install tables`\n",
    "\n",
    "适用于:\n",
    "- 非常大以致于无法放入内存中的数据集\n",
    "- 一次写多次读的数据集"
   ],
   "metadata": {
    "collapsed": false
   }
  },
  {
   "cell_type": "code",
   "execution_count": 81,
   "outputs": [
    {
     "name": "stdout",
     "text": [
      "<class 'pandas.io.pytables.HDFStore'>\nFile path: ../resource/mydata.h5\n\n"
     ],
     "output_type": "stream"
    }
   ],
   "source": [
    "store = pd.HDFStore('../resource/mydata.h5')\n",
    "store['obj1'] = frame\n",
    "store['obj1_col'] = frame['a']\n",
    "print(store)"
   ],
   "metadata": {
    "collapsed": false,
    "pycharm": {
     "name": "#%%\n",
     "is_executing": false
    }
   }
  },
  {
   "cell_type": "code",
   "execution_count": 82,
   "outputs": [
    {
     "name": "stdout",
     "text": [
      "   a   b   c   d message\n0  1   2   3   4   hello\n1  5   6   7   8   world\n2  9  10  11  12     foo\n"
     ],
     "output_type": "stream"
    }
   ],
   "source": [
    "print(store['obj1'])"
   ],
   "metadata": {
    "collapsed": false,
    "pycharm": {
     "name": "#%%\n",
     "is_executing": false
    }
   }
  },
  {
   "cell_type": "code",
   "execution_count": null,
   "outputs": [],
   "source": [
    "import os\n",
    "store.close()\n",
    "os.remove('mydata.h5')\n"
   ],
   "metadata": {
    "collapsed": false,
    "pycharm": {
     "name": "#%%\n"
    }
   }
  },
  {
   "cell_type": "markdown",
   "source": [
    "## 读取Microsoft Excel文件\n",
    "\n",
    "pip install openpyxl\n",
    "\n",
    "pip install xlrd"
   ],
   "metadata": {
    "collapsed": false
   }
  },
  {
   "cell_type": "code",
   "execution_count": 85,
   "outputs": [
    {
     "name": "stdout",
     "text": [
      "   Unnamed: 0  a   b   c   d message\n0           0  1   2   3   4   hello\n1           1  5   6   7   8   world\n2           2  9  10  11  12     foo\n"
     ],
     "output_type": "stream"
    }
   ],
   "source": [
    "xls_file = pd.ExcelFile('../resource/ex1.xlsx')\n",
    "table = xls_file.parse(\"Sheet1\")\n",
    "print(table)"
   ],
   "metadata": {
    "collapsed": false,
    "pycharm": {
     "name": "#%%\n",
     "is_executing": false
    }
   }
  },
  {
   "cell_type": "markdown",
   "source": [
    "## 使用HTML和WebAPI"
   ],
   "metadata": {
    "collapsed": false,
    "pycharm": {
     "name": "#%% md\n"
    }
   }
  },
  {
   "cell_type": "code",
   "execution_count": null,
   "outputs": [],
   "source": [
    "import requests\n",
    "url = 'https://search.twitter.com/search.json?q=python%20pandas'\n",
    "resp = requests.get(url)\n",
    "print(resp)"
   ],
   "metadata": {
    "collapsed": false,
    "pycharm": {
     "name": "#%%\n"
    }
   }
  },
  {
   "cell_type": "code",
   "execution_count": null,
   "outputs": [],
   "source": [
    "data = json.loads(resp.text)\n",
    "print(data.keys())"
   ],
   "metadata": {
    "collapsed": false,
    "pycharm": {
     "name": "#%%\n"
    }
   }
  },
  {
   "cell_type": "code",
   "execution_count": null,
   "outputs": [],
   "source": [
    "tweet_fields = ['created_at','from_user','id','text']\n",
    "tweets = DataFrame(data['results'], columns=tweet_fields)\n",
    "print(tweets)\n",
    "print(tweets.iloc[7])"
   ],
   "metadata": {
    "collapsed": false,
    "pycharm": {
     "name": "#%%\n"
    }
   }
  },
  {
   "cell_type": "markdown",
   "source": [
    "## 使用数据库"
   ],
   "metadata": {
    "collapsed": false
   }
  },
  {
   "cell_type": "code",
   "execution_count": null,
   "outputs": [],
   "source": [
    "import sqlite3\n",
    "\n",
    "query = \"\"\"\n",
    "CREATE TABLE test\n",
    "(a VARCHAR(20), b VARCHAR(20),\n",
    " c REAL,        d INTEGER\n",
    ");\"\"\"\n",
    "\n",
    "con = sqlite3.connect(':memory:')\n",
    "con.execute(query)\n",
    "con.commit()"
   ],
   "metadata": {
    "collapsed": false,
    "pycharm": {
     "name": "#%%\n"
    }
   }
  },
  {
   "cell_type": "code",
   "execution_count": null,
   "outputs": [],
   "source": [
    "data = [('Atlanta', 'Georgia', 1.25, 6),\n",
    "        ('Tallahassee', 'Florida', 2.6, 3),\n",
    "        ('Sacramento', 'California', 1.7, 5)]\n",
    "stmt = \"INSERT INTO test VALUES(?, ?, ?, ?)\"\n",
    "\n",
    "con.executemany(stmt, data)\n",
    "con.commit()"
   ],
   "metadata": {
    "collapsed": false,
    "pycharm": {
     "name": "#%%\n"
    }
   }
  },
  {
   "cell_type": "code",
   "execution_count": null,
   "outputs": [],
   "source": [
    "cursor = con.execute('select * from test')\n",
    "rows = cursor.fetchall()\n",
    "rows"
   ],
   "metadata": {
    "collapsed": false,
    "pycharm": {
     "name": "#%%\n"
    }
   }
  },
  {
   "cell_type": "code",
   "execution_count": null,
   "outputs": [],
   "source": [
    "cursor.description"
   ],
   "metadata": {
    "collapsed": false,
    "pycharm": {
     "name": "#%%\n"
    }
   }
  },
  {
   "cell_type": "code",
   "execution_count": null,
   "outputs": [],
   "source": [
    "DataFrame(rows, columns=zip(*cursor.description)[0])"
   ],
   "metadata": {
    "collapsed": false,
    "pycharm": {
     "name": "#%%\n"
    }
   }
  },
  {
   "cell_type": "code",
   "execution_count": null,
   "outputs": [],
   "source": [
    "import pandas.io.sql as sql\n",
    "sql.read_sql('select * from test', con)"
   ],
   "metadata": {
    "collapsed": false,
    "pycharm": {
     "name": "#%%\n"
    }
   }
  },
  {
   "cell_type": "code",
   "execution_count": null,
   "outputs": [],
   "source": [
    "import pymongo\n",
    "con = pymongo.Connection('localhost', port=27017)\n",
    "tweets = con.db.tweets\n",
    "url = 'https://search.twitter.com/search.json?q=python%20pandas'\n",
    "data = json.loads(requests.get(url).text)\n",
    "\n",
    "for tweet in data['results']:\n",
    "    tweets.save(tweet)\n",
    "\n",
    "cursor = tweets.find({'from_user': 'wesmckinn'})\n",
    "tweet_fields = ['created_at','from_user','id','text']\n",
    "result = DataFrame(data['results'], columns=tweet_fields)\n",
    "print(result)\n"
   ],
   "metadata": {
    "collapsed": false,
    "pycharm": {
     "name": "#%%\n"
    }
   }
  }
 ],
 "metadata": {
  "kernelspec": {
   "display_name": "Python 3",
   "language": "python",
   "name": "python3"
  },
  "language_info": {
   "codemirror_mode": {
    "name": "ipython",
    "version": 2
   },
   "file_extension": ".py",
   "mimetype": "text/x-python",
   "name": "python",
   "nbconvert_exporter": "python",
   "pygments_lexer": "ipython2",
   "version": "2.7.6"
  },
  "pycharm": {
   "stem_cell": {
    "cell_type": "raw",
    "source": [],
    "metadata": {
     "collapsed": false
    }
   }
  }
 },
 "nbformat": 4,
 "nbformat_minor": 0
}