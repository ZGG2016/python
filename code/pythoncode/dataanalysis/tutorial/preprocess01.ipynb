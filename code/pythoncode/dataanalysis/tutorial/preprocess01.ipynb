{
 "cells": [
  {
   "cell_type": "code",
   "execution_count": 1,
   "metadata": {
    "collapsed": true,
    "pycharm": {
     "is_executing": false
    }
   },
   "outputs": [],
   "source": [
    "from pandas import Series, DataFrame\n",
    "import pandas as pd\n",
    "import numpy as np"
   ]
  },
  {
   "cell_type": "markdown",
   "source": [
    "## 数据库风格的DataFrame合并"
   ],
   "metadata": {
    "collapsed": false
   }
  },
  {
   "cell_type": "code",
   "execution_count": 2,
   "outputs": [
    {
     "name": "stdout",
     "text": [
      "  key1  data1\n0    b      0\n1    b      1\n2    a      2\n3    c      3\n4    a      4\n5    a      5\n6    b      6\n  key  data2\n0   a      0\n1   b      1\n2   d      2\n"
     ],
     "output_type": "stream"
    }
   ],
   "source": [
    "df1 = DataFrame({'key1':['b','b','a','c','a','a','b'],\n",
    "                 'data1':range(7)})\n",
    "df2 = DataFrame({'key':['a','b','d'],\n",
    "                 'data2':range(3)})\n",
    "print(df1)\n",
    "print(df2)"
   ],
   "metadata": {
    "collapsed": false,
    "pycharm": {
     "name": "#%%\n",
     "is_executing": false
    }
   }
  },
  {
   "cell_type": "code",
   "execution_count": 5,
   "outputs": [
    {
     "name": "stdout",
     "text": [
      "  key1  data1 key  data2\n0    b      0   a      0\n1    b      1   b      1\n2    a      2   d      2\n"
     ],
     "output_type": "stream"
    }
   ],
   "source": [
    "print(pd.merge(df1, df2))\n"
   ],
   "metadata": {
    "collapsed": false,
    "pycharm": {
     "name": "#%%\n",
     "is_executing": false
    }
   }
  }
 ],
 "metadata": {
  "kernelspec": {
   "display_name": "Python 3",
   "language": "python",
   "name": "python3"
  },
  "language_info": {
   "codemirror_mode": {
    "name": "ipython",
    "version": 2
   },
   "file_extension": ".py",
   "mimetype": "text/x-python",
   "name": "python",
   "nbconvert_exporter": "python",
   "pygments_lexer": "ipython2",
   "version": "2.7.6"
  },
  "pycharm": {
   "stem_cell": {
    "cell_type": "raw",
    "source": [],
    "metadata": {
     "collapsed": false
    }
   }
  }
 },
 "nbformat": 4,
 "nbformat_minor": 0
}