{
 "cells": [
  {
   "cell_type": "code",
   "execution_count": 2,
   "metadata": {
    "collapsed": true,
    "pycharm": {
     "is_executing": false
    }
   },
   "outputs": [],
   "source": [
    "from pandas import Series, DataFrame\n",
    "import pandas as pd\n",
    "import numpy as np"
   ]
  },
  {
   "cell_type": "markdown",
   "source": [
    "## 排序和排名"
   ],
   "metadata": {
    "collapsed": false
   }
  },
  {
   "cell_type": "code",
   "execution_count": 3,
   "outputs": [
    {
     "name": "stdout",
     "text": [
      "a    1\nb    2\nc    3\nd    0\ndtype: int64\n"
     ],
     "output_type": "stream"
    }
   ],
   "source": [
    "obj = Series(range(4), index=['d','a','b','c'])\n",
    "# 按行或列索引排序\n",
    "obj2 = obj.sort_index()\n",
    "print(obj2)"
   ],
   "metadata": {
    "collapsed": false,
    "pycharm": {
     "name": "#%%\n",
     "is_executing": false
    }
   }
  },
  {
   "cell_type": "code",
   "execution_count": 6,
   "outputs": [
    {
     "name": "stdout",
     "text": [
      "       d  a  b  c\none    4  5  6  7\nthree  0  1  2  3\n       a  b  c  d\nthree  1  2  3  0\none    5  6  7  4\n"
     ],
     "output_type": "stream"
    }
   ],
   "source": [
    "frame = DataFrame(np.arange(8).reshape((2,4)), \n",
    "                  index=['three','one'],\n",
    "                  columns=['d','a','b','c'])\n",
    "frame2 = frame.sort_index()\n",
    "print(frame2)\n",
    "frame3 = frame.sort_index(axis=1)\n",
    "print(frame3)"
   ],
   "metadata": {
    "collapsed": false,
    "pycharm": {
     "name": "#%%\n",
     "is_executing": false
    }
   }
  },
  {
   "cell_type": "code",
   "execution_count": 7,
   "outputs": [
    {
     "name": "stdout",
     "text": [
      "       d  c  b  a\nthree  0  3  2  1\none    4  7  6  5\n"
     ],
     "output_type": "stream"
    }
   ],
   "source": [
    "print(frame.sort_index(axis=1, ascending=False))"
   ],
   "metadata": {
    "collapsed": false,
    "pycharm": {
     "name": "#%%\n",
     "is_executing": false
    }
   }
  },
  {
   "cell_type": "code",
   "execution_count": 8,
   "outputs": [
    {
     "name": "stdout",
     "text": [
      "2   -3\n3    2\n0    4\n1    7\ndtype: int64\n"
     ],
     "output_type": "stream"
    }
   ],
   "source": [
    "# 按值对Series排序\n",
    "obj = Series([4,7,-3,2])\n",
    "print(obj.sort_values())"
   ],
   "metadata": {
    "collapsed": false,
    "pycharm": {
     "name": "#%%\n",
     "is_executing": false
    }
   }
  },
  {
   "cell_type": "code",
   "execution_count": 9,
   "outputs": [
    {
     "name": "stdout",
     "text": [
      "4   -3.0\n5    2.0\n0    4.0\n2    7.0\n1    NaN\n3    NaN\ndtype: float64\n"
     ],
     "output_type": "stream"
    }
   ],
   "source": [
    "# 缺失值放到末尾\n",
    "obj = Series([4, np.nan, 7, np.nan, -3, 2])\n",
    "print(obj.sort_values())"
   ],
   "metadata": {
    "collapsed": false,
    "pycharm": {
     "name": "#%%\n",
     "is_executing": false
    }
   }
  },
  {
   "cell_type": "code",
   "execution_count": 12,
   "outputs": [
    {
     "name": "stdout",
     "text": [
      "   b  a\n0  4  0\n1  7  1\n2 -3  0\n3  2  1\n   b  a\n2 -3  0\n3  2  1\n0  4  0\n1  7  1\n   b  a\n2 -3  0\n0  4  0\n3  2  1\n1  7  1\n"
     ],
     "output_type": "stream"
    }
   ],
   "source": [
    "# 按其中一列或多列排序\n",
    "frame = DataFrame({'b':[4,7,-3,2],'a':[0,1,0,1]})\n",
    "print(frame)\n",
    "print(frame.sort_values(by='b'))\n",
    "print(frame.sort_values(by=['a','b']))"
   ],
   "metadata": {
    "collapsed": false,
    "pycharm": {
     "name": "#%%\n",
     "is_executing": false
    }
   }
  },
  {
   "cell_type": "code",
   "execution_count": 13,
   "outputs": [
    {
     "name": "stdout",
     "text": [
      "0    6.5\n1    1.0\n2    6.5\n3    4.5\n4    3.0\n5    2.0\n6    4.5\ndtype: float64\n"
     ],
     "output_type": "stream"
    }
   ],
   "source": [
    "# 排名\n",
    "obj = Series([7, -5, 7, 4, 2, 0, 4])\n",
    "# 在相同分组中，为各值分配平均排名\n",
    "print(obj.rank())"
   ],
   "metadata": {
    "collapsed": false,
    "pycharm": {
     "name": "#%%\n",
     "is_executing": false
    }
   }
  },
  {
   "cell_type": "code",
   "execution_count": 14,
   "outputs": [
    {
     "name": "stdout",
     "text": [
      "0    6.0\n1    1.0\n2    7.0\n3    4.0\n4    3.0\n5    2.0\n6    5.0\ndtype: float64\n"
     ],
     "output_type": "stream"
    }
   ],
   "source": [
    "# 在相同分组中，为各值分配第一排名\n",
    "print(obj.rank(method='first'))"
   ],
   "metadata": {
    "collapsed": false,
    "pycharm": {
     "name": "#%%\n",
     "is_executing": false
    }
   }
  },
  {
   "cell_type": "code",
   "execution_count": 15,
   "outputs": [
    {
     "name": "stdout",
     "text": [
      "0    2.0\n1    7.0\n2    2.0\n3    4.0\n4    5.0\n5    6.0\n6    4.0\ndtype: float64\n0    1.0\n1    7.0\n2    1.0\n3    3.0\n4    5.0\n5    6.0\n6    3.0\ndtype: float64\n"
     ],
     "output_type": "stream"
    }
   ],
   "source": [
    "# 在相同分组中，为各值分配最大排名\n",
    "print(obj.rank(ascending=False, method='max'))\n",
    "# 在相同分组中，为各值分配最小排名\n",
    "print(obj.rank(ascending=False, method='min'))\n"
   ],
   "metadata": {
    "collapsed": false,
    "pycharm": {
     "name": "#%%\n",
     "is_executing": false
    }
   }
  },
  {
   "cell_type": "code",
   "execution_count": 16,
   "outputs": [
    {
     "name": "stdout",
     "text": [
      "     b  a    c\n0  4.3  0 -2.0\n1  7.0  1  5.0\n2 -3.0  0  8.0\n3  2.0  1 -2.5\n     b    a    c\n0  3.0  2.0  1.0\n1  3.0  1.0  2.0\n2  1.0  2.0  3.0\n3  3.0  2.0  1.0\n"
     ],
     "output_type": "stream"
    }
   ],
   "source": [
    "frame = DataFrame({'b':[4.3, 7, -3, 2],\n",
    "                   'a':[0, 1, 0, 1],\n",
    "                   'c':[-2, 5, 8, -2.5]})\n",
    "print(frame)\n",
    "print(frame.rank(axis=1))"
   ],
   "metadata": {
    "collapsed": false,
    "pycharm": {
     "name": "#%%\n",
     "is_executing": false
    }
   }
  },
  {
   "cell_type": "markdown",
   "source": [
    "## 带有重复值的轴索引"
   ],
   "metadata": {
    "collapsed": false,
    "pycharm": {
     "name": "#%% md\n"
    }
   }
  },
  {
   "cell_type": "code",
   "execution_count": 17,
   "outputs": [
    {
     "name": "stdout",
     "text": [
      "a    0\na    1\nb    2\nb    3\nc    4\ndtype: int64\n"
     ],
     "output_type": "stream"
    }
   ],
   "source": [
    "obj = Series(range(5), index=['a','a','b','b','c'])\n",
    "print(obj)"
   ],
   "metadata": {
    "collapsed": false,
    "pycharm": {
     "name": "#%%\n",
     "is_executing": false
    }
   }
  },
  {
   "cell_type": "code",
   "execution_count": 18,
   "outputs": [
    {
     "name": "stdout",
     "text": [
      "False\n"
     ],
     "output_type": "stream"
    }
   ],
   "source": [
    "print(obj.index.is_unique)"
   ],
   "metadata": {
    "collapsed": false,
    "pycharm": {
     "name": "#%%\n",
     "is_executing": false
    }
   }
  },
  {
   "cell_type": "code",
   "execution_count": 19,
   "outputs": [
    {
     "name": "stdout",
     "text": [
      "a    0\na    1\ndtype: int64\n4\n"
     ],
     "output_type": "stream"
    }
   ],
   "source": [
    "# 重复索引返回series\n",
    "print(obj['a'])\n",
    "# 不重复索引返回标量值\n",
    "print(obj['c'])\n"
   ],
   "metadata": {
    "collapsed": false,
    "pycharm": {
     "name": "#%%\n",
     "is_executing": false
    }
   }
  },
  {
   "cell_type": "code",
   "execution_count": 20,
   "outputs": [
    {
     "name": "stdout",
     "text": [
      "          0         1         2\na  0.566535  1.594597 -0.340173\na  0.498034  0.114467 -0.467178\nb -0.420690 -0.379445 -0.149683\nb -0.880011  1.048230 -0.061825\n          0         1         2\nb -0.420690 -0.379445 -0.149683\nb -0.880011  1.048230 -0.061825\n"
     ],
     "output_type": "stream"
    }
   ],
   "source": [
    "df = DataFrame(np.random.randn(4,3), index=['a','a','b','b'])\n",
    "print(df)\n",
    "print(df.loc['b'])"
   ],
   "metadata": {
    "collapsed": false,
    "pycharm": {
     "name": "#%%\n",
     "is_executing": false
    }
   }
  },
  {
   "cell_type": "markdown",
   "source": [
    "## 汇总和计算描述统计"
   ],
   "metadata": {
    "collapsed": false
   }
  },
  {
   "cell_type": "code",
   "execution_count": 21,
   "outputs": [
    {
     "name": "stdout",
     "text": [
      "    one  two\na  1.40  NaN\nb  7.10 -4.5\nc   NaN  NaN\nd  0.75 -1.3\n"
     ],
     "output_type": "stream"
    }
   ],
   "source": [
    "df = DataFrame([[1.4, np.nan], [7.1, -4.5],\n",
    "                [np.nan, np.nan], [0.75, -1.3]],\n",
    "               index=['a','b','c','d'],\n",
    "               columns=['one','two'])\n",
    "print(df)"
   ],
   "metadata": {
    "collapsed": false,
    "pycharm": {
     "name": "#%%\n",
     "is_executing": false
    }
   }
  },
  {
   "cell_type": "code",
   "execution_count": 23,
   "outputs": [
    {
     "name": "stdout",
     "text": [
      "one    9.25\ntwo   -5.80\ndtype: float64\na    1.40\nb    2.60\nc    0.00\nd   -0.55\ndtype: float64\n"
     ],
     "output_type": "stream"
    }
   ],
   "source": [
    "# 求和 \n",
    "# 排除NA\n",
    "print(df.sum())\n",
    "print(df.sum(axis=1))"
   ],
   "metadata": {
    "collapsed": false,
    "pycharm": {
     "name": "#%%\n",
     "is_executing": false
    }
   }
  },
  {
   "cell_type": "code",
   "execution_count": 24,
   "outputs": [
    {
     "name": "stdout",
     "text": [
      "a      NaN\nb    1.300\nc      NaN\nd   -0.275\ndtype: float64\n"
     ],
     "output_type": "stream"
    }
   ],
   "source": [
    "# 不排除NA\n",
    "print(df.mean(axis=1, skipna=False))\n"
   ],
   "metadata": {
    "collapsed": false,
    "pycharm": {
     "name": "#%%\n",
     "is_executing": false
    }
   }
  },
  {
   "cell_type": "code",
   "execution_count": 26,
   "outputs": [
    {
     "name": "stdout",
     "text": [
      "one    7.1\ntwo   -1.3\ndtype: float64\none    b\ntwo    d\ndtype: object\n"
     ],
     "output_type": "stream"
    }
   ],
   "source": [
    "print(df.max())\n",
    "# 最大值的索引\n",
    "print(df.idxmax())"
   ],
   "metadata": {
    "collapsed": false,
    "pycharm": {
     "name": "#%%\n",
     "is_executing": false
    }
   }
  },
  {
   "cell_type": "code",
   "execution_count": 27,
   "outputs": [
    {
     "name": "stdout",
     "text": [
      "    one  two\na  1.40  NaN\nb  8.50 -4.5\nc   NaN  NaN\nd  9.25 -5.8\n"
     ],
     "output_type": "stream"
    }
   ],
   "source": [
    "# 累计和\n",
    "print(df.cumsum())\n"
   ],
   "metadata": {
    "collapsed": false,
    "pycharm": {
     "name": "#%%\n",
     "is_executing": false
    }
   }
  },
  {
   "cell_type": "code",
   "execution_count": 28,
   "outputs": [
    {
     "name": "stdout",
     "text": [
      "            one       two\ncount  3.000000  2.000000\nmean   3.083333 -2.900000\nstd    3.493685  2.262742\nmin    0.750000 -4.500000\n25%    1.075000 -3.700000\n50%    1.400000 -2.900000\n75%    4.250000 -2.100000\nmax    7.100000 -1.300000\n"
     ],
     "output_type": "stream"
    }
   ],
   "source": [
    "# 计算列的汇总统计\n",
    "print(df.describe())"
   ],
   "metadata": {
    "collapsed": false,
    "pycharm": {
     "name": "#%%\n",
     "is_executing": false
    }
   }
  },
  {
   "cell_type": "code",
   "execution_count": 29,
   "outputs": [
    {
     "name": "stdout",
     "text": [
      "count     16\nunique     3\ntop        a\nfreq       8\ndtype: object\n"
     ],
     "output_type": "stream"
    }
   ],
   "source": [
    "obj = Series(['a','a','b','c'] * 4)\n",
    "print(obj.describe())"
   ],
   "metadata": {
    "collapsed": false,
    "pycharm": {
     "name": "#%%\n",
     "is_executing": false
    }
   }
  },
  {
   "cell_type": "markdown",
   "source": [
    "## 相关系数与协方差"
   ],
   "metadata": {
    "collapsed": false
   }
  },
  {
   "cell_type": "code",
   "execution_count": 40,
   "outputs": [],
   "source": [
    "import pandas.io.data as web\n",
    "\n",
    "all_data = {}\n",
    "for ticker in ['AAPL', 'IBM', 'MSFT', 'GOOG']:\n",
    "    all_data[ticker] = web.get_data_yahoo(ticker)\n",
    "\n",
    "price = DataFrame({tic: data['Adj Close']\n",
    "                   for tic, data in all_data.iteritems()})\n",
    "volume = DataFrame({tic: data['Volume']\n",
    "                    for tic, data in all_data.iteritems()})\n"
   ],
   "metadata": {
    "collapsed": false,
    "pycharm": {
     "name": "#%%\n",
     "is_executing": false
    }
   }
  },
  {
   "cell_type": "code",
   "execution_count": null,
   "outputs": [],
   "source": [
    "# [90, 91]  (91-90)/90\n",
    "returns = price.pct_change()\n",
    "returns.tail()"
   ],
   "metadata": {
    "collapsed": false,
    "pycharm": {
     "name": "#%%\n"
    }
   }
  },
  {
   "cell_type": "code",
   "execution_count": null,
   "outputs": [],
   "source": [
    "# 相关系数\n",
    "returns.MSFT.corr(returns.IBM)"
   ],
   "metadata": {
    "collapsed": false,
    "pycharm": {
     "name": "#%%\n"
    }
   }
  },
  {
   "cell_type": "code",
   "execution_count": null,
   "outputs": [],
   "source": [
    "# 协方差\n",
    "returns.MSFT.cov(returns.IBM)"
   ],
   "metadata": {
    "collapsed": false,
    "pycharm": {
     "name": "#%%\n"
    }
   }
  },
  {
   "cell_type": "code",
   "execution_count": null,
   "outputs": [],
   "source": [
    "returns.corr()"
   ],
   "metadata": {
    "collapsed": false,
    "pycharm": {
     "name": "#%%\n"
    }
   }
  },
  {
   "cell_type": "code",
   "execution_count": null,
   "outputs": [],
   "source": [
    "returns.cov()"
   ],
   "metadata": {
    "collapsed": false,
    "pycharm": {
     "name": "#%%\n"
    }
   }
  },
  {
   "cell_type": "code",
   "execution_count": null,
   "outputs": [],
   "source": [
    "# 其列或行与另一个Series或dataframe间的相关系数\n",
    "returns.corrwith(returns.IBM)"
   ],
   "metadata": {
    "collapsed": false,
    "pycharm": {
     "name": "#%%\n"
    }
   }
  },
  {
   "cell_type": "code",
   "execution_count": null,
   "outputs": [],
   "source": [
    "# 传一个dataframe会计算按列名配对的相关系数\n",
    "returns.corrwith(volume)\n"
   ],
   "metadata": {
    "collapsed": false,
    "pycharm": {
     "name": "#%%\n"
    }
   }
  },
  {
   "cell_type": "markdown",
   "source": [
    "## 唯一值、值计数以及成员资格"
   ],
   "metadata": {
    "collapsed": false
   }
  },
  {
   "cell_type": "code",
   "execution_count": 3,
   "outputs": [
    {
     "name": "stdout",
     "text": [
      "0    c\n1    a\n2    d\n3    a\n4    a\n5    b\n6    b\n7    c\n8    c\ndtype: object\n"
     ],
     "output_type": "stream"
    }
   ],
   "source": [
    "obj = Series(['c','a','d','a','a','b','b','c','c'])\n",
    "print(obj)"
   ],
   "metadata": {
    "collapsed": false,
    "pycharm": {
     "name": "#%%\n",
     "is_executing": false
    }
   }
  },
  {
   "cell_type": "code",
   "execution_count": 6,
   "outputs": [
    {
     "name": "stdout",
     "text": [
      "['c' 'a' 'd' 'b']\n['a' 'b' 'c' 'd']\n"
     ],
     "output_type": "stream"
    }
   ],
   "source": [
    "uniques = obj.unique()\n",
    "print(uniques)\n",
    "uniques.sort()\n",
    "print(uniques)"
   ],
   "metadata": {
    "collapsed": false,
    "pycharm": {
     "name": "#%%\n",
     "is_executing": false
    }
   }
  },
  {
   "cell_type": "code",
   "execution_count": 7,
   "outputs": [
    {
     "name": "stdout",
     "text": [
      "c    3\na    3\nb    2\nd    1\ndtype: int64\n"
     ],
     "output_type": "stream"
    }
   ],
   "source": [
    "# 计算各值出现的频率\n",
    "print(obj.value_counts())"
   ],
   "metadata": {
    "collapsed": false,
    "pycharm": {
     "name": "#%%\n",
     "is_executing": false
    }
   }
  },
  {
   "cell_type": "code",
   "execution_count": 8,
   "outputs": [
    {
     "name": "stdout",
     "text": [
      "c    3\na    3\nd    1\nb    2\ndtype: int64\n"
     ],
     "output_type": "stream"
    }
   ],
   "source": [
    "print(pd.value_counts(obj.values, sort=False))"
   ],
   "metadata": {
    "collapsed": false,
    "pycharm": {
     "name": "#%%\n",
     "is_executing": false
    }
   }
  },
  {
   "cell_type": "code",
   "execution_count": 9,
   "outputs": [
    {
     "name": "stdout",
     "text": [
      "0     True\n1    False\n2    False\n3    False\n4    False\n5     True\n6     True\n7     True\n8     True\ndtype: bool\n0    c\n5    b\n6    b\n7    c\n8    c\ndtype: object\n"
     ],
     "output_type": "stream"
    }
   ],
   "source": [
    "mask = obj.isin(['b','c'])\n",
    "print(mask)\n",
    "print(obj[mask])"
   ],
   "metadata": {
    "collapsed": false,
    "pycharm": {
     "name": "#%%\n",
     "is_executing": false
    }
   }
  },
  {
   "cell_type": "code",
   "execution_count": 10,
   "outputs": [
    {
     "name": "stdout",
     "text": [
      "   Qu1  Qu2  Qu3\n0    1    2    1\n1    3    3    5\n2    4    1    2\n3    3    2    4\n4    4    3    4\n"
     ],
     "output_type": "stream"
    }
   ],
   "source": [
    "data = DataFrame({'Qu1':[1,3,4,3,4],\n",
    "                  'Qu2':[2,3,1,2,3],\n",
    "                  'Qu3':[1,5,2,4,4]})\n",
    "print(data)"
   ],
   "metadata": {
    "collapsed": false,
    "pycharm": {
     "name": "#%%\n",
     "is_executing": false
    }
   }
  },
  {
   "cell_type": "code",
   "execution_count": 11,
   "outputs": [
    {
     "name": "stdout",
     "text": [
      "   Qu1  Qu2  Qu3\n1  1.0  1.0  1.0\n2  0.0  2.0  1.0\n3  2.0  2.0  0.0\n4  2.0  0.0  2.0\n5  0.0  0.0  1.0\n"
     ],
     "output_type": "stream"
    }
   ],
   "source": [
    "res = data.apply(pd.value_counts).fillna(0)\n",
    "print(res)"
   ],
   "metadata": {
    "collapsed": false,
    "pycharm": {
     "name": "#%%\n",
     "is_executing": false
    }
   }
  },
  {
   "cell_type": "markdown",
   "source": [
    "## 处理缺失数据"
   ],
   "metadata": {
    "collapsed": false
   }
  },
  {
   "cell_type": "code",
   "execution_count": 12,
   "outputs": [
    {
     "name": "stdout",
     "text": [
      "0     aardvark\n1    artichoke\n2          NaN\n3      avocado\ndtype: object\n"
     ],
     "output_type": "stream"
    }
   ],
   "source": [
    "string_data = Series(['aardvark','artichoke',np.nan, 'avocado'])\n",
    "print(string_data)"
   ],
   "metadata": {
    "collapsed": false,
    "pycharm": {
     "name": "#%%\n",
     "is_executing": false
    }
   }
  },
  {
   "cell_type": "code",
   "execution_count": 13,
   "outputs": [
    {
     "name": "stdout",
     "text": [
      "0    False\n1    False\n2     True\n3    False\ndtype: bool\n"
     ],
     "output_type": "stream"
    }
   ],
   "source": [
    "print(string_data.isnull())"
   ],
   "metadata": {
    "collapsed": false,
    "pycharm": {
     "name": "#%%\n",
     "is_executing": false
    }
   }
  },
  {
   "cell_type": "code",
   "execution_count": 14,
   "outputs": [
    {
     "name": "stdout",
     "text": [
      "0     True\n1    False\n2     True\n3    False\ndtype: bool\n"
     ],
     "output_type": "stream"
    }
   ],
   "source": [
    "string_data[0] = None\n",
    "print(string_data.isnull())"
   ],
   "metadata": {
    "collapsed": false,
    "pycharm": {
     "name": "#%%\n",
     "is_executing": false
    }
   }
  },
  {
   "cell_type": "code",
   "execution_count": 15,
   "outputs": [
    {
     "name": "stdout",
     "text": [
      "1    artichoke\n3      avocado\ndtype: object\n"
     ],
     "output_type": "stream"
    }
   ],
   "source": [
    "# 过滤掉NA\n",
    "print(string_data.dropna())"
   ],
   "metadata": {
    "collapsed": false,
    "pycharm": {
     "name": "#%%\n",
     "is_executing": false
    }
   }
  },
  {
   "cell_type": "markdown",
   "source": [
    "## 滤除缺失数据"
   ],
   "metadata": {
    "collapsed": false,
    "pycharm": {
     "name": "#%% md\n"
    }
   }
  },
  {
   "cell_type": "code",
   "execution_count": 16,
   "outputs": [],
   "source": [
    "from numpy import nan as NA"
   ],
   "metadata": {
    "collapsed": false,
    "pycharm": {
     "name": "#%%\n",
     "is_executing": false
    }
   }
  },
  {
   "cell_type": "code",
   "execution_count": 17,
   "outputs": [
    {
     "name": "stdout",
     "text": [
      "0    1.0\n2    3.5\n4    7.0\ndtype: float64\n"
     ],
     "output_type": "stream"
    }
   ],
   "source": [
    "data = Series([1,NA,3.5,NA,7])\n",
    "print(data.dropna())"
   ],
   "metadata": {
    "collapsed": false,
    "pycharm": {
     "name": "#%%\n",
     "is_executing": false
    }
   }
  },
  {
   "cell_type": "code",
   "execution_count": 19,
   "outputs": [
    {
     "name": "stdout",
     "text": [
      "0    1.0\n2    3.5\n4    7.0\ndtype: float64\n"
     ],
     "output_type": "stream"
    }
   ],
   "source": [
    "print(data[data.notnull()])"
   ],
   "metadata": {
    "collapsed": false,
    "pycharm": {
     "name": "#%%\n",
     "is_executing": false
    }
   }
  },
  {
   "cell_type": "code",
   "execution_count": 20,
   "outputs": [
    {
     "name": "stdout",
     "text": [
      "     0    1    2\n0  1.0  6.5  3.0\n1  1.0  NaN  NaN\n2  NaN  NaN  NaN\n3  NaN  6.5  3.0\n"
     ],
     "output_type": "stream"
    }
   ],
   "source": [
    "data = DataFrame([[1,6.5,3],[1,NA,NA],\n",
    "                  [NA,NA,NA],[NA,6.5,3]])\n",
    "print(data)"
   ],
   "metadata": {
    "collapsed": false,
    "pycharm": {
     "name": "#%%\n",
     "is_executing": false
    }
   }
  },
  {
   "cell_type": "code",
   "execution_count": 21,
   "outputs": [
    {
     "name": "stdout",
     "text": [
      "     0    1    2\n0  1.0  6.5  3.0\n"
     ],
     "output_type": "stream"
    }
   ],
   "source": [
    "# 对于DataFrame，默认丢弃任何含有缺失值的行\n",
    "cleaned = data.dropna()\n",
    "print(cleaned)"
   ],
   "metadata": {
    "collapsed": false,
    "pycharm": {
     "name": "#%%\n",
     "is_executing": false
    }
   }
  },
  {
   "cell_type": "code",
   "execution_count": 22,
   "outputs": [
    {
     "name": "stdout",
     "text": [
      "     0    1    2\n0  1.0  6.5  3.0\n1  1.0  NaN  NaN\n3  NaN  6.5  3.0\n"
     ],
     "output_type": "stream"
    }
   ],
   "source": [
    "# 丢弃全为NA的行\n",
    "print(data.dropna(how='all'))"
   ],
   "metadata": {
    "collapsed": false,
    "pycharm": {
     "name": "#%%\n",
     "is_executing": false
    }
   }
  },
  {
   "cell_type": "code",
   "execution_count": 24,
   "outputs": [
    {
     "name": "stdout",
     "text": [
      "     0    1    2   4\n0  1.0  6.5  3.0 NaN\n1  1.0  NaN  NaN NaN\n2  NaN  NaN  NaN NaN\n3  NaN  6.5  3.0 NaN\n     0    1    2\n0  1.0  6.5  3.0\n1  1.0  NaN  NaN\n2  NaN  NaN  NaN\n3  NaN  6.5  3.0\n"
     ],
     "output_type": "stream"
    }
   ],
   "source": [
    "data[4] = NA\n",
    "print(data)\n",
    "# 丢弃全为NA的列\n",
    "print(data.dropna(how='all', axis=1))\n"
   ],
   "metadata": {
    "collapsed": false,
    "pycharm": {
     "name": "#%%\n",
     "is_executing": false
    }
   }
  },
  {
   "cell_type": "code",
   "execution_count": 25,
   "outputs": [
    {
     "name": "stdout",
     "text": [
      "          0         1         2\n0  0.135056       NaN       NaN\n1  0.269923       NaN       NaN\n2 -0.453790       NaN  0.817831\n3 -0.370024       NaN  0.677103\n4  0.349742 -0.493709 -0.327878\n5  1.077066  0.327366 -1.140526\n6  0.152491  0.419116  1.223080\n"
     ],
     "output_type": "stream"
    }
   ],
   "source": [
    "df = DataFrame(np.random.randn(7,3))\n",
    "df.iloc[:4,1] = NA\n",
    "df.iloc[:2,2] = NA\n",
    "print(df)"
   ],
   "metadata": {
    "collapsed": false,
    "pycharm": {
     "name": "#%%\n",
     "is_executing": false
    }
   }
  },
  {
   "cell_type": "code",
   "execution_count": 29,
   "outputs": [
    {
     "name": "stdout",
     "text": [
      "          0         1         2\n2 -0.453790       NaN  0.817831\n3 -0.370024       NaN  0.677103\n4  0.349742 -0.493709 -0.327878\n5  1.077066  0.327366 -1.140526\n6  0.152491  0.419116  1.223080\n          0         1         2\n4  0.349742 -0.493709 -0.327878\n5  1.077066  0.327366 -1.140526\n6  0.152491  0.419116  1.223080\n"
     ],
     "output_type": "stream"
    }
   ],
   "source": [
    "# 只要有2个非NA值就可以保留\n",
    "print(df.dropna(thresh=2))\n",
    "print(df.dropna(thresh=3))\n"
   ],
   "metadata": {
    "collapsed": false,
    "pycharm": {
     "name": "#%%\n",
     "is_executing": false
    }
   }
  }
 ],
 "metadata": {
  "kernelspec": {
   "display_name": "Python 3",
   "language": "python",
   "name": "python3"
  },
  "language_info": {
   "codemirror_mode": {
    "name": "ipython",
    "version": 2
   },
   "file_extension": ".py",
   "mimetype": "text/x-python",
   "name": "python",
   "nbconvert_exporter": "python",
   "pygments_lexer": "ipython2",
   "version": "2.7.6"
  },
  "pycharm": {
   "stem_cell": {
    "cell_type": "raw",
    "source": [],
    "metadata": {
     "collapsed": false
    }
   }
  }
 },
 "nbformat": 4,
 "nbformat_minor": 0
}