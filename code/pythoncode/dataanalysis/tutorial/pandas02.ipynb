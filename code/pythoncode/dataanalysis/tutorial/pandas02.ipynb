{
 "cells": [
  {
   "cell_type": "code",
   "execution_count": 1,
   "metadata": {
    "collapsed": true,
    "pycharm": {
     "is_executing": false
    }
   },
   "outputs": [],
   "source": [
    "from pandas import Series, DataFrame\n",
    "import pandas as pd\n",
    "import numpy as np"
   ]
  },
  {
   "cell_type": "markdown",
   "source": [
    "## 重新索引"
   ],
   "metadata": {
    "collapsed": false
   }
  },
  {
   "cell_type": "code",
   "execution_count": 4,
   "outputs": [
    {
     "name": "stdout",
     "text": [
      "d    4.5\nb    7.2\na   -5.3\nc    3.6\ndtype: float64\na   -5.3\nb    7.2\nc    3.6\nd    4.5\ne    NaN\ndtype: float64\na   -5.3\nb    7.2\nc    3.6\nd    4.5\ne    0.0\ndtype: float64\n"
     ],
     "output_type": "stream"
    }
   ],
   "source": [
    "obj = Series([4.5,7.2,-5.3,3.6], index=['d','b','a','c'])\n",
    "print(obj)\n",
    "# 按新索引重排\n",
    "obj2 = obj.reindex(['a','b','c','d','e'])\n",
    "print(obj2)\n",
    "print(obj.reindex(['a','b','c','d','e'], fill_value=0))"
   ],
   "metadata": {
    "collapsed": false,
    "pycharm": {
     "name": "#%%\n",
     "is_executing": false
    }
   }
  },
  {
   "cell_type": "code",
   "execution_count": 6,
   "outputs": [
    {
     "name": "stdout",
     "text": [
      "0      blue\n2    purple\n4    yellow\ndtype: object\n0      blue\n1      blue\n2    purple\n3    purple\n4    yellow\n5    yellow\ndtype: object\n0      blue\n1    purple\n2    purple\n3    yellow\n4    yellow\n5       NaN\ndtype: object\n"
     ],
     "output_type": "stream"
    }
   ],
   "source": [
    "obj3 = Series(['blue','purple','yellow'], index=[0,2,4])\n",
    "print(obj3)\n",
    "# 插值处理，ffill向前值填充\n",
    "print(obj3.reindex(range(6),method='ffill'))\n",
    "print(obj3.reindex(range(6),method='bfill'))"
   ],
   "metadata": {
    "collapsed": false,
    "pycharm": {
     "name": "#%%\n",
     "is_executing": false
    }
   }
  },
  {
   "cell_type": "code",
   "execution_count": 8,
   "outputs": [
    {
     "name": "stdout",
     "text": [
      "   Ohio  Texas  California\na     0      1           2\nc     3      4           5\nd     6      7           8\n"
     ],
     "output_type": "stream"
    }
   ],
   "source": [
    "frame = DataFrame(np.arange(9).reshape((3,3)), \n",
    "                  index=['a','c','d'],\n",
    "                  columns=['Ohio','Texas','California'])\n",
    "print(frame)"
   ],
   "metadata": {
    "collapsed": false,
    "pycharm": {
     "name": "#%%\n",
     "is_executing": false
    }
   }
  },
  {
   "cell_type": "code",
   "execution_count": 9,
   "outputs": [
    {
     "name": "stdout",
     "text": [
      "   Ohio  Texas  California\na   0.0    1.0         2.0\nb   NaN    NaN         NaN\nc   3.0    4.0         5.0\nd   6.0    7.0         8.0\n"
     ],
     "output_type": "stream"
    }
   ],
   "source": [
    "# 对DataFrame，仅传一个序列，就是重排索引\n",
    "frame2 = frame.reindex(['a','b','c','d'])\n",
    "print(frame2)"
   ],
   "metadata": {
    "collapsed": false,
    "pycharm": {
     "name": "#%%\n",
     "is_executing": false
    }
   }
  },
  {
   "cell_type": "code",
   "execution_count": 10,
   "outputs": [
    {
     "name": "stdout",
     "text": [
      "   Texas  Utah  California\na      1   NaN           2\nc      4   NaN           5\nd      7   NaN           8\n"
     ],
     "output_type": "stream"
    }
   ],
   "source": [
    "# 重排列\n",
    "states = ['Texas','Utah','California']\n",
    "print(frame.reindex(columns=states))"
   ],
   "metadata": {
    "collapsed": false,
    "pycharm": {
     "name": "#%%\n",
     "is_executing": false
    }
   }
  },
  {
   "cell_type": "code",
   "execution_count": 14,
   "outputs": [
    {
     "name": "stdout",
     "text": [
      "   Ohio  Texas  California\na     0      1           2\nc     3      4           5\nd     6      7           8\n   Texas  Utah  California\na    1.0   NaN         2.0\nb    1.0   NaN         2.0\nc    4.0   NaN         5.0\nd    7.0   NaN         8.0\n"
     ],
     "output_type": "stream"
    }
   ],
   "source": [
    "print(frame)\n",
    "# 同时重排索引和列，插值只能按轴0应用\n",
    "print(frame.reindex(index=['a','b','c','d'], columns=states)\n",
    "      .ffill())"
   ],
   "metadata": {
    "collapsed": false,
    "pycharm": {
     "name": "#%%\n",
     "is_executing": false
    }
   }
  },
  {
   "cell_type": "markdown",
   "source": [
    "## 丢弃指定轴上的项"
   ],
   "metadata": {
    "collapsed": false,
    "pycharm": {
     "name": "#%% md\n",
     "is_executing": false
    }
   }
  },
  {
   "cell_type": "code",
   "execution_count": 23,
   "outputs": [
    {
     "name": "stdout",
     "text": [
      "a    0\nb    1\nc    2\nd    3\ne    4\ndtype: int32\na    0\nb    1\nd    3\ne    4\ndtype: int32\na    0\nb    1\ne    4\ndtype: int32\na    0\nb    1\nc    2\nd    3\ne    4\ndtype: int32\n"
     ],
     "output_type": "stream"
    }
   ],
   "source": [
    "obj = Series(np.arange(5), index=['a','b','c','d','e'])\n",
    "print(obj)\n",
    "# 返回的是一个新对象，对源对象没有影响\n",
    "new_obj = obj.drop('c')\n",
    "print(new_obj)\n",
    "print(obj.drop(['d','c']))"
   ],
   "metadata": {
    "collapsed": false,
    "pycharm": {
     "name": "#%%\n",
     "is_executing": false
    }
   }
  },
  {
   "cell_type": "code",
   "execution_count": 24,
   "outputs": [
    {
     "name": "stdout",
     "text": [
      "          one  two  three  four\nOhio        0    1      2     3\nColorado    4    5      6     7\nUtah        8    9     10    11\nNew York   12   13     14    15\n          one  two  three  four\nUtah        8    9     10    11\nNew York   12   13     14    15\n"
     ],
     "output_type": "stream"
    }
   ],
   "source": [
    "# 对DataFrame，可以删除任意轴上的索引值\n",
    "# {0 or 'index', 1 or 'columns'}\n",
    "data = DataFrame(np.arange(16).reshape((4,4)),\n",
    "                 index=['Ohio','Colorado','Utah','New York'],\n",
    "                 columns=['one','two','three','four'])\n",
    "print(data)\n",
    "print(data.drop(['Colorado','Ohio']))"
   ],
   "metadata": {
    "collapsed": false,
    "pycharm": {
     "name": "#%%\n",
     "is_executing": false
    }
   }
  },
  {
   "cell_type": "code",
   "execution_count": 25,
   "outputs": [
    {
     "name": "stdout",
     "text": [
      "          one  three  four\nOhio        0      2     3\nColorado    4      6     7\nUtah        8     10    11\nNew York   12     14    15\n          one  three\nOhio        0      2\nColorado    4      6\nUtah        8     10\nNew York   12     14\n"
     ],
     "output_type": "stream"
    }
   ],
   "source": [
    "print(data.drop('two',axis=1))\n",
    "print(data.drop(['two','four'],axis=1))"
   ],
   "metadata": {
    "collapsed": false,
    "pycharm": {
     "name": "#%%\n",
     "is_executing": false
    }
   }
  },
  {
   "cell_type": "markdown",
   "source": [
    "## 索引、选取和过滤"
   ],
   "metadata": {
    "collapsed": false,
    "pycharm": {
     "name": "#%% md\n",
     "is_executing": false
    }
   }
  },
  {
   "cell_type": "code",
   "execution_count": 27,
   "outputs": [
    {
     "name": "stdout",
     "text": [
      "a    0\nb    1\nc    2\nd    3\ndtype: int32\n1\n1\n"
     ],
     "output_type": "stream"
    }
   ],
   "source": [
    "obj = Series(np.arange(4), index=['a','b','c','d'])\n",
    "print(obj)\n",
    "print(obj['b'])\n",
    "print(obj[1])\n"
   ],
   "metadata": {
    "collapsed": false,
    "pycharm": {
     "name": "#%%\n",
     "is_executing": false
    }
   }
  },
  {
   "cell_type": "code",
   "execution_count": 28,
   "outputs": [
    {
     "name": "stdout",
     "text": [
      "c    2\nd    3\ndtype: int32\nb    1\na    0\nd    3\ndtype: int32\n"
     ],
     "output_type": "stream"
    }
   ],
   "source": [
    "print(obj[2:4])\n",
    "print(obj[['b','a','d']])"
   ],
   "metadata": {
    "collapsed": false,
    "pycharm": {
     "name": "#%%\n",
     "is_executing": false
    }
   }
  },
  {
   "cell_type": "code",
   "execution_count": 29,
   "outputs": [
    {
     "name": "stdout",
     "text": [
      "b    1\nd    3\ndtype: int32\na    0\nb    1\ndtype: int32\n"
     ],
     "output_type": "stream"
    }
   ],
   "source": [
    "print(obj[[1,3]])\n",
    "print(obj[obj<2])"
   ],
   "metadata": {
    "collapsed": false,
    "pycharm": {
     "name": "#%%\n",
     "is_executing": false
    }
   }
  },
  {
   "cell_type": "code",
   "execution_count": 30,
   "outputs": [
    {
     "name": "stdout",
     "text": [
      "b    1\nc    2\ndtype: int32\n"
     ],
     "output_type": "stream"
    }
   ],
   "source": [
    "# 使用标签的切片是末端是包含的\n",
    "print(obj['b':'c'])"
   ],
   "metadata": {
    "collapsed": false,
    "pycharm": {
     "name": "#%%\n",
     "is_executing": false
    }
   }
  },
  {
   "cell_type": "code",
   "execution_count": 31,
   "outputs": [
    {
     "name": "stdout",
     "text": [
      "a    0\nb    5\nc    5\nd    3\ndtype: int32\n"
     ],
     "output_type": "stream"
    }
   ],
   "source": [
    "# 设置\n",
    "obj['b':'c'] = 5\n",
    "print(obj)"
   ],
   "metadata": {
    "collapsed": false,
    "pycharm": {
     "name": "#%%\n",
     "is_executing": false
    }
   }
  },
  {
   "cell_type": "code",
   "execution_count": 2,
   "outputs": [
    {
     "name": "stdout",
     "text": [
      "          one  two  three  four\nOhio        0    1      2     3\nColorado    4    5      6     7\nUtah        8    9     10    11\nNew York   12   13     14    15\n"
     ],
     "output_type": "stream"
    }
   ],
   "source": [
    "data = DataFrame(np.arange(16).reshape((4,4)),\n",
    "                 index=['Ohio','Colorado','Utah','New York'],\n",
    "                 columns=['one','two','three','four'])\n",
    "print(data)"
   ],
   "metadata": {
    "collapsed": false,
    "pycharm": {
     "name": "#%%\n",
     "is_executing": false
    }
   }
  },
  {
   "cell_type": "code",
   "execution_count": 3,
   "outputs": [
    {
     "name": "stdout",
     "text": [
      "Ohio         1\nColorado     5\nUtah         9\nNew York    13\nName: two, dtype: int32\n          three  one\nOhio          2    0\nColorado      6    4\nUtah         10    8\nNew York     14   12\n"
     ],
     "output_type": "stream"
    }
   ],
   "source": [
    "print(data['two'])\n",
    "print(data[['three','one']])"
   ],
   "metadata": {
    "collapsed": false,
    "pycharm": {
     "name": "#%%\n",
     "is_executing": false
    }
   }
  },
  {
   "cell_type": "code",
   "execution_count": 4,
   "outputs": [
    {
     "name": "stdout",
     "text": [
      "          one  two  three  four\nOhio        0    1      2     3\nColorado    4    5      6     7\n          one  two  three  four\nColorado    4    5      6     7\nUtah        8    9     10    11\nNew York   12   13     14    15\n"
     ],
     "output_type": "stream"
    }
   ],
   "source": [
    "# 切片选取行\n",
    "print(data[:2])\n",
    "# 布尔型数组选取行\n",
    "print(data[data['three']>5])\n"
   ],
   "metadata": {
    "collapsed": false,
    "pycharm": {
     "name": "#%%\n",
     "is_executing": false
    }
   }
  },
  {
   "cell_type": "code",
   "execution_count": 5,
   "outputs": [
    {
     "name": "stdout",
     "text": [
      "            one    two  three   four\nOhio       True   True   True   True\nColorado   True  False  False  False\nUtah      False  False  False  False\nNew York  False  False  False  False\n          one  two  three  four\nOhio        0    0      0     0\nColorado    0    5      6     7\nUtah        8    9     10    11\nNew York   12   13     14    15\n"
     ],
     "output_type": "stream"
    }
   ],
   "source": [
    "print(data<5)\n",
    "# 布尔型DataFrame选取行\n",
    "data[data<5] = 0\n",
    "print(data)"
   ],
   "metadata": {
    "collapsed": false,
    "pycharm": {
     "name": "#%%\n",
     "is_executing": false
    }
   }
  },
  {
   "cell_type": "code",
   "execution_count": 20,
   "outputs": [
    {
     "name": "stdout",
     "text": [
      "          two  three\nColorado    5      6\n"
     ],
     "output_type": "stream"
    }
   ],
   "source": [
    "print(data.loc[['Colorado'],['two','three']])\n",
    "# print(data.loc[['Colorado','Utah'],[3,0,1]])"
   ],
   "metadata": {
    "collapsed": false,
    "pycharm": {
     "name": "#%%\n",
     "is_executing": false
    }
   }
  },
  {
   "cell_type": "code",
   "execution_count": 39,
   "outputs": [
    {
     "name": "stdout",
     "text": [
      "one       8\ntwo       9\nthree    10\nfour     11\nName: Utah, dtype: int32\nOhio        0\nColorado    5\nUtah        9\nName: two, dtype: int32\n"
     ],
     "output_type": "stream"
    }
   ],
   "source": [
    "print(data.iloc[2])\n",
    "print(data.loc[:'Utah','two'])\n",
    "#print(data.iloc[data.three>5,:3])"
   ],
   "metadata": {
    "collapsed": false,
    "pycharm": {
     "name": "#%%\n",
     "is_executing": false
    }
   }
  },
  {
   "cell_type": "code",
   "execution_count": 17,
   "outputs": [
    {
     "name": "stdout",
     "text": [
      "one      0\ntwo      0\nthree    0\nfour     0\nName: Ohio, dtype: int32\nOhio         0\nColorado     5\nUtah         9\nNew York    13\nName: two, dtype: int32\n"
     ],
     "output_type": "stream"
    }
   ],
   "source": [
    "# 根据标签选取单行或单列\n",
    "print(data.xs('Ohio'))\n",
    "print(data.xs('two',axis=1))"
   ],
   "metadata": {
    "collapsed": false,
    "pycharm": {
     "name": "#%%\n",
     "is_executing": false
    }
   }
  },
  {
   "cell_type": "markdown",
   "source": [
    "## 算术运算和数据对齐"
   ],
   "metadata": {
    "collapsed": false,
    "pycharm": {
     "name": "#%% md\n"
    }
   }
  },
  {
   "cell_type": "code",
   "execution_count": 22,
   "outputs": [
    {
     "name": "stdout",
     "text": [
      "a    7.3\nc   -2.5\nd    3.4\ne    1.5\ndtype: float64\na   -2.1\nc    3.6\ne   -1.5\nf    4.0\ng    3.1\ndtype: float64\n"
     ],
     "output_type": "stream"
    }
   ],
   "source": [
    "s1 = Series([7.3,-2.5,3.4,1.5],index=['a','c','d','e'])\n",
    "s2 = Series([-2.1,3.6,-1.5,4,3.1],index=['a','c','e','f','g'])\n",
    "print(s1)\n",
    "print(s2)"
   ],
   "metadata": {
    "collapsed": false,
    "pycharm": {
     "name": "#%%\n",
     "is_executing": false
    }
   }
  },
  {
   "cell_type": "code",
   "execution_count": 23,
   "outputs": [
    {
     "name": "stdout",
     "text": [
      "a    5.2\nc    1.1\nd    NaN\ne    0.0\nf    NaN\ng    NaN\ndtype: float64\n"
     ],
     "output_type": "stream"
    }
   ],
   "source": [
    "print(s1+s2)"
   ],
   "metadata": {
    "collapsed": false,
    "pycharm": {
     "name": "#%%\n",
     "is_executing": false
    }
   }
  },
  {
   "cell_type": "code",
   "execution_count": 25,
   "outputs": [
    {
     "name": "stdout",
     "text": [
      "          b  c  d\nOhio      0  1  2\nTexas     3  4  5\nColorado  6  7  8\n        b   d   e\nUtah    0   1   2\nOhio    3   4   5\nTexas   6   7   8\nOregon  9  10  11\n"
     ],
     "output_type": "stream"
    }
   ],
   "source": [
    "df1 = DataFrame(np.arange(9).reshape((3,3)),\n",
    "                columns=list('bcd'),\n",
    "                index=['Ohio','Texas','Colorado'])\n",
    "df2 = DataFrame(np.arange(12).reshape((4,3)),\n",
    "                columns=list('bde'),\n",
    "                index=['Utah','Ohio','Texas','Oregon'])\n",
    "print(df1)\n",
    "print(df2)"
   ],
   "metadata": {
    "collapsed": false,
    "pycharm": {
     "name": "#%%\n",
     "is_executing": false
    }
   }
  },
  {
   "cell_type": "code",
   "execution_count": 26,
   "outputs": [
    {
     "name": "stdout",
     "text": [
      "            b   c     d   e\nColorado  NaN NaN   NaN NaN\nOhio      3.0 NaN   6.0 NaN\nOregon    NaN NaN   NaN NaN\nTexas     9.0 NaN  12.0 NaN\nUtah      NaN NaN   NaN NaN\n"
     ],
     "output_type": "stream"
    }
   ],
   "source": [
    "print(df1+df2)"
   ],
   "metadata": {
    "collapsed": false,
    "pycharm": {
     "name": "#%%\n",
     "is_executing": false
    }
   }
  },
  {
   "cell_type": "code",
   "execution_count": 27,
   "outputs": [
    {
     "name": "stdout",
     "text": [
      "   a  b   c   d\n0  0  1   2   3\n1  4  5   6   7\n2  8  9  10  11\n    a   b   c   d   e\n0   0   1   2   3   4\n1   5   6   7   8   9\n2  10  11  12  13  14\n3  15  16  17  18  19\n"
     ],
     "output_type": "stream"
    }
   ],
   "source": [
    "df1 = DataFrame(np.arange(12).reshape((3,4)),columns=list('abcd'))\n",
    "df2 = DataFrame(np.arange(20).reshape((4,5)),columns=list('abcde'))\n",
    "print(df1)\n",
    "print(df2)"
   ],
   "metadata": {
    "collapsed": false,
    "pycharm": {
     "name": "#%%\n",
     "is_executing": false
    }
   }
  },
  {
   "cell_type": "code",
   "execution_count": 28,
   "outputs": [
    {
     "name": "stdout",
     "text": [
      "      a     b     c     d   e\n0   0.0   2.0   4.0   6.0 NaN\n1   9.0  11.0  13.0  15.0 NaN\n2  18.0  20.0  22.0  24.0 NaN\n3   NaN   NaN   NaN   NaN NaN\n"
     ],
     "output_type": "stream"
    }
   ],
   "source": [
    "print(df1+df2)"
   ],
   "metadata": {
    "collapsed": false,
    "pycharm": {
     "name": "#%%\n",
     "is_executing": false
    }
   }
  },
  {
   "cell_type": "code",
   "execution_count": 29,
   "outputs": [
    {
     "name": "stdout",
     "text": [
      "      a     b     c     d     e\n0   0.0   2.0   4.0   6.0   4.0\n1   9.0  11.0  13.0  15.0   9.0\n2  18.0  20.0  22.0  24.0  14.0\n3  15.0  16.0  17.0  18.0  19.0\n"
     ],
     "output_type": "stream"
    }
   ],
   "source": [
    "# df1中缺的部分用0填充\n",
    "print(df1.add(df2,fill_value=0))\n"
   ],
   "metadata": {
    "collapsed": false,
    "pycharm": {
     "name": "#%%\n",
     "is_executing": false
    }
   }
  },
  {
   "cell_type": "code",
   "execution_count": 30,
   "outputs": [
    {
     "name": "stdout",
     "text": [
      "   a  b   c   d  e\n0  0  1   2   3  0\n1  4  5   6   7  0\n2  8  9  10  11  0\n"
     ],
     "output_type": "stream"
    }
   ],
   "source": [
    "# 重新索引时，指定填充值\n",
    "print(df1.reindex(columns=df2.columns, fill_value=0))\n"
   ],
   "metadata": {
    "collapsed": false,
    "pycharm": {
     "name": "#%%\n",
     "is_executing": false
    }
   }
  },
  {
   "cell_type": "code",
   "execution_count": 31,
   "outputs": [
    {
     "name": "stdout",
     "text": [
      "[[ 0  1  2  3]\n [ 4  5  6  7]\n [ 8  9 10 11]]\n[0 1 2 3]\n"
     ],
     "output_type": "stream"
    }
   ],
   "source": [
    "arr = np.arange(12).reshape((3,4))\n",
    "print(arr)\n",
    "print(arr[0])"
   ],
   "metadata": {
    "collapsed": false,
    "pycharm": {
     "name": "#%%\n",
     "is_executing": false
    }
   }
  },
  {
   "cell_type": "code",
   "execution_count": 32,
   "outputs": [
    {
     "name": "stdout",
     "text": [
      "[[0 0 0 0]\n [4 4 4 4]\n [8 8 8 8]]\n"
     ],
     "output_type": "stream"
    }
   ],
   "source": [
    "print(arr-arr[0])"
   ],
   "metadata": {
    "collapsed": false,
    "pycharm": {
     "name": "#%%\n",
     "is_executing": false
    }
   }
  },
  {
   "cell_type": "code",
   "execution_count": 33,
   "outputs": [
    {
     "name": "stdout",
     "text": [
      "        b   d   e\nUtah    0   1   2\nOhio    3   4   5\nTexas   6   7   8\nOregon  9  10  11\nb    0\nd    1\ne    2\nName: Utah, dtype: int32\n"
     ],
     "output_type": "stream"
    }
   ],
   "source": [
    "\n",
    "frame = DataFrame(np.arange(12).reshape((4,3)),\n",
    "                columns=list('bde'),\n",
    "                index=['Utah','Ohio','Texas','Oregon'])\n",
    "series = frame.iloc[0]\n",
    "print(frame)\n",
    "print(series)"
   ],
   "metadata": {
    "collapsed": false,
    "pycharm": {
     "name": "#%%\n",
     "is_executing": false
    }
   }
  },
  {
   "cell_type": "code",
   "execution_count": 34,
   "outputs": [
    {
     "name": "stdout",
     "text": [
      "        b  d  e\nUtah    0  0  0\nOhio    3  3  3\nTexas   6  6  6\nOregon  9  9  9\n"
     ],
     "output_type": "stream"
    }
   ],
   "source": [
    "# dataframe 和 series 运算\n",
    "print(frame-series)"
   ],
   "metadata": {
    "collapsed": false,
    "pycharm": {
     "name": "#%%\n",
     "is_executing": false
    }
   }
  },
  {
   "cell_type": "code",
   "execution_count": 35,
   "outputs": [
    {
     "name": "stdout",
     "text": [
      "          b   d     e   f\nUtah    0.0 NaN   3.0 NaN\nOhio    3.0 NaN   6.0 NaN\nTexas   6.0 NaN   9.0 NaN\nOregon  9.0 NaN  12.0 NaN\n"
     ],
     "output_type": "stream"
    }
   ],
   "source": [
    "series2 = Series(range(3), index=['b','e','f'])\n",
    "# 在行上广播\n",
    "print(frame+series2)"
   ],
   "metadata": {
    "collapsed": false,
    "pycharm": {
     "name": "#%%\n",
     "is_executing": false
    }
   }
  },
  {
   "cell_type": "code",
   "execution_count": 36,
   "outputs": [
    {
     "name": "stdout",
     "text": [
      "Utah       1\nOhio       4\nTexas      7\nOregon    10\nName: d, dtype: int32\n        b  d  e\nUtah   -1  0  1\nOhio   -1  0  1\nTexas  -1  0  1\nOregon -1  0  1\n"
     ],
     "output_type": "stream"
    }
   ],
   "source": [
    "# 在列上广播\n",
    "series3 = frame['d']\n",
    "print(series3)\n",
    "print(frame.sub(series3,axis=0))"
   ],
   "metadata": {
    "collapsed": false,
    "pycharm": {
     "name": "#%%\n",
     "is_executing": false
    }
   }
  },
  {
   "cell_type": "markdown",
   "source": [
    "## 函数应用和映射"
   ],
   "metadata": {
    "collapsed": false,
    "pycharm": {
     "name": "#%% md\n"
    }
   }
  },
  {
   "cell_type": "code",
   "execution_count": 40,
   "outputs": [
    {
     "name": "stdout",
     "text": [
      "               b         d         e\nUtah   -1.757670  2.397240 -0.522192\nOhio   -0.248123 -1.151036 -0.630171\nTexas  -0.734262  0.245614  0.075138\nOregon  1.894403 -0.068159 -0.503022\n               b         d         e\nUtah    1.757670  2.397240  0.522192\nOhio    0.248123  1.151036  0.630171\nTexas   0.734262  0.245614  0.075138\nOregon  1.894403  0.068159  0.503022\n"
     ],
     "output_type": "stream"
    }
   ],
   "source": [
    "# numpy的ufuncs(元素级数组方法)也可也操作pandas对象\n",
    "frame = DataFrame(np.random.randn(4,3),\n",
    "                columns=list('bde'),\n",
    "                index=['Utah','Ohio','Texas','Oregon'])\n",
    "print(frame)\n",
    "print(np.abs(frame))"
   ],
   "metadata": {
    "collapsed": false,
    "pycharm": {
     "name": "#%%\n",
     "is_executing": false
    }
   }
  },
  {
   "cell_type": "code",
   "execution_count": 41,
   "outputs": [
    {
     "name": "stdout",
     "text": [
      "b    3.652073\nd    3.548276\ne    0.705310\ndtype: float64\nUtah      4.154910\nOhio      0.902913\nTexas     0.979876\nOregon    2.397425\ndtype: float64\n"
     ],
     "output_type": "stream"
    }
   ],
   "source": [
    "# apply将函数应用到每行或每列\n",
    "f = lambda x: x.max()-x.min()\n",
    "print(frame.apply(f))\n",
    "print(frame.apply(f,axis=1))"
   ],
   "metadata": {
    "collapsed": false,
    "pycharm": {
     "name": "#%%\n",
     "is_executing": false
    }
   }
  },
  {
   "cell_type": "code",
   "execution_count": 42,
   "outputs": [
    {
     "name": "stdout",
     "text": [
      "            b         d         e\nmin -1.757670 -1.151036 -0.630171\nmax  1.894403  2.397240  0.075138\n"
     ],
     "output_type": "stream"
    }
   ],
   "source": [
    "# 传给apply的函数还可以返回由多个值组成的Series\n",
    "def f(x):\n",
    "    return Series([x.min(), x.max()], index=['min','max'])\n",
    "print(frame.apply(f))"
   ],
   "metadata": {
    "collapsed": false,
    "pycharm": {
     "name": "#%%\n",
     "is_executing": false
    }
   }
  },
  {
   "cell_type": "code",
   "execution_count": 46,
   "outputs": [
    {
     "name": "stdout",
     "text": [
      "            b      d      e\nUtah    -1.76   2.40  -0.52\nOhio    -0.25  -1.15  -0.63\nTexas   -0.73   0.25   0.08\nOregon   1.89  -0.07  -0.50\n"
     ],
     "output_type": "stream"
    }
   ],
   "source": [
    "# DataFrame的applymap作用在每个元素上\n",
    "formatt = lambda x: '%.2f' % x\n",
    "print(frame.applymap(formatt))"
   ],
   "metadata": {
    "collapsed": false,
    "pycharm": {
     "name": "#%%\n",
     "is_executing": false
    }
   }
  },
  {
   "cell_type": "code",
   "execution_count": 47,
   "outputs": [
    {
     "name": "stdout",
     "text": [
      "Utah      -0.52\nOhio      -0.63\nTexas      0.08\nOregon    -0.50\nName: e, dtype: object\n"
     ],
     "output_type": "stream"
    }
   ],
   "source": [
    "#Series上的map方法\n",
    "print(frame['e'].map(formatt))"
   ],
   "metadata": {
    "collapsed": false,
    "pycharm": {
     "name": "#%%\n",
     "is_executing": false
    }
   }
  }
 ],
 "metadata": {
  "kernelspec": {
   "display_name": "Python 3",
   "language": "python",
   "name": "python3"
  },
  "language_info": {
   "codemirror_mode": {
    "name": "ipython",
    "version": 2
   },
   "file_extension": ".py",
   "mimetype": "text/x-python",
   "name": "python",
   "nbconvert_exporter": "python",
   "pygments_lexer": "ipython2",
   "version": "2.7.6"
  },
  "pycharm": {
   "stem_cell": {
    "cell_type": "raw",
    "source": [],
    "metadata": {
     "collapsed": false
    }
   }
  }
 },
 "nbformat": 4,
 "nbformat_minor": 0
}