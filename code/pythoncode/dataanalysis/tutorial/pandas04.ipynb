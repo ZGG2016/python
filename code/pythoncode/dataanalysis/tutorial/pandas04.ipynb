{
 "cells": [
  {
   "cell_type": "code",
   "execution_count": 1,
   "metadata": {
    "collapsed": true,
    "pycharm": {
     "is_executing": false
    }
   },
   "outputs": [],
   "source": [
    "from pandas import Series, DataFrame, MultiIndex\n",
    "import pandas as pd\n",
    "import numpy as np\n",
    "from numpy import nan as NA"
   ]
  },
  {
   "cell_type": "code",
   "execution_count": 2,
   "outputs": [
    {
     "name": "stdout",
     "text": [
      "          0         1         2\n0 -0.437180       NaN       NaN\n1 -0.450245       NaN       NaN\n2  0.151723       NaN  0.111935\n3 -0.707274       NaN  0.159460\n4 -0.428655  0.278711  1.060489\n5  0.534986 -0.265240  0.141418\n6  0.207018  0.277816  0.230827\n"
     ],
     "output_type": "stream"
    }
   ],
   "source": [
    "df = DataFrame(np.random.randn(7,3))\n",
    "df.iloc[:4,1] = NA\n",
    "df.iloc[:2,2] = NA\n",
    "print(df)"
   ],
   "metadata": {
    "collapsed": false,
    "pycharm": {
     "name": "#%%\n",
     "is_executing": false
    }
   }
  },
  {
   "cell_type": "code",
   "execution_count": 3,
   "outputs": [
    {
     "name": "stdout",
     "text": [
      "          0         1         2\n0 -0.437180  0.000000  0.000000\n1 -0.450245  0.000000  0.000000\n2  0.151723  0.000000  0.111935\n3 -0.707274  0.000000  0.159460\n4 -0.428655  0.278711  1.060489\n5  0.534986 -0.265240  0.141418\n6  0.207018  0.277816  0.230827\n"
     ],
     "output_type": "stream"
    }
   ],
   "source": [
    "print(df.fillna(0))"
   ],
   "metadata": {
    "collapsed": false,
    "pycharm": {
     "name": "#%%\n",
     "is_executing": false
    }
   }
  },
  {
   "cell_type": "code",
   "execution_count": 4,
   "outputs": [
    {
     "name": "stdout",
     "text": [
      "          0         1         2\n0 -0.437180  0.500000       NaN\n1 -0.450245  0.500000       NaN\n2  0.151723  0.500000  0.111935\n3 -0.707274  0.500000  0.159460\n4 -0.428655  0.278711  1.060489\n5  0.534986 -0.265240  0.141418\n6  0.207018  0.277816  0.230827\n"
     ],
     "output_type": "stream"
    }
   ],
   "source": [
    "# 传一个字典，不同列填不同值\n",
    "print(df.fillna({1:0.5,3:-1}))\n"
   ],
   "metadata": {
    "collapsed": false,
    "pycharm": {
     "name": "#%%\n",
     "is_executing": false
    }
   }
  },
  {
   "cell_type": "code",
   "execution_count": 5,
   "outputs": [
    {
     "name": "stdout",
     "text": [
      "          0         1         2\n0 -0.437180  0.000000  0.000000\n1 -0.450245  0.000000  0.000000\n2  0.151723  0.000000  0.111935\n3 -0.707274  0.000000  0.159460\n4 -0.428655  0.278711  1.060489\n5  0.534986 -0.265240  0.141418\n6  0.207018  0.277816  0.230827\n"
     ],
     "output_type": "stream"
    }
   ],
   "source": [
    "# fillna默认返回新对象，但也可以就地修改\n",
    "_ = df.fillna(0, inplace=True)\n",
    "print(df)"
   ],
   "metadata": {
    "collapsed": false,
    "pycharm": {
     "name": "#%%\n",
     "is_executing": false
    }
   }
  },
  {
   "cell_type": "code",
   "execution_count": 6,
   "outputs": [
    {
     "name": "stdout",
     "text": [
      "          0         1         2\n0 -0.087906  0.115722 -1.461898\n1  0.771215 -0.415849 -1.848660\n2  0.560959       NaN  1.124725\n3  1.583438       NaN  0.135028\n4  0.093211       NaN       NaN\n5  0.307024       NaN       NaN\n"
     ],
     "output_type": "stream"
    }
   ],
   "source": [
    "df = DataFrame(np.random.randn(6,3))\n",
    "df.iloc[2:,1] = NA\n",
    "df.iloc[4:,2] = NA\n",
    "print(df)"
   ],
   "metadata": {
    "collapsed": false,
    "pycharm": {
     "name": "#%%\n",
     "is_executing": false
    }
   }
  },
  {
   "cell_type": "code",
   "execution_count": 7,
   "outputs": [
    {
     "name": "stdout",
     "text": [
      "          0         1         2\n0 -0.087906  0.115722 -1.461898\n1  0.771215 -0.415849 -1.848660\n2  0.560959 -0.415849  1.124725\n3  1.583438 -0.415849  0.135028\n4  0.093211 -0.415849  0.135028\n5  0.307024 -0.415849  0.135028\n"
     ],
     "output_type": "stream"
    }
   ],
   "source": [
    "print(df.fillna(method='ffill'))"
   ],
   "metadata": {
    "collapsed": false,
    "pycharm": {
     "name": "#%%\n",
     "is_executing": false
    }
   }
  },
  {
   "cell_type": "code",
   "execution_count": 8,
   "outputs": [
    {
     "name": "stdout",
     "text": [
      "          0         1         2\n0 -0.087906  0.115722 -1.461898\n1  0.771215 -0.415849 -1.848660\n2  0.560959 -0.415849  1.124725\n3  1.583438 -0.415849  0.135028\n4  0.093211       NaN  0.135028\n5  0.307024       NaN  0.135028\n"
     ],
     "output_type": "stream"
    }
   ],
   "source": [
    "# 最多连续填充2行\n",
    "print(df.fillna(method='ffill', limit=2))"
   ],
   "metadata": {
    "collapsed": false,
    "pycharm": {
     "name": "#%%\n",
     "is_executing": false
    }
   }
  },
  {
   "cell_type": "code",
   "execution_count": 9,
   "outputs": [
    {
     "name": "stdout",
     "text": [
      "0    1.000000\n1    3.833333\n2    3.500000\n3    3.833333\n4    7.000000\ndtype: float64\n"
     ],
     "output_type": "stream"
    }
   ],
   "source": [
    "# 使用均值填充\n",
    "data = Series([1,NA,3.5,NA,7])\n",
    "print(data.fillna(data.mean()))"
   ],
   "metadata": {
    "collapsed": false,
    "pycharm": {
     "name": "#%%\n",
     "is_executing": false
    }
   }
  },
  {
   "cell_type": "markdown",
   "source": [
    "## 层次化索引"
   ],
   "metadata": {
    "collapsed": false
   }
  },
  {
   "cell_type": "code",
   "execution_count": 12,
   "outputs": [
    {
     "name": "stdout",
     "text": [
      "a  1   -1.032649\n   2   -0.944436\n   3    0.275388\nb  1    0.633245\n   2    0.490437\n   3   -0.121062\nc  1    1.026703\n   2    1.406398\nd  2    0.107782\n   3   -0.320768\ndtype: float64\n"
     ],
     "output_type": "stream"
    }
   ],
   "source": [
    "data = Series(np.random.randn(10),\n",
    "              index=[['a','a','a','b','b','b','c','c','d','d'],\n",
    "                     [1,2,3,1,2,3,1,2,2,3]])\n",
    "print(data)"
   ],
   "metadata": {
    "collapsed": false,
    "pycharm": {
     "name": "#%%\n",
     "is_executing": false
    }
   }
  },
  {
   "cell_type": "code",
   "execution_count": 13,
   "outputs": [
    {
     "name": "stdout",
     "text": [
      "MultiIndex([('a', 1),\n            ('a', 2),\n            ('a', 3),\n            ('b', 1),\n            ('b', 2),\n            ('b', 3),\n            ('c', 1),\n            ('c', 2),\n            ('d', 2),\n            ('d', 3)],\n           )\n"
     ],
     "output_type": "stream"
    }
   ],
   "source": [
    "print(data.index)"
   ],
   "metadata": {
    "collapsed": false,
    "pycharm": {
     "name": "#%%\n",
     "is_executing": false
    }
   }
  },
  {
   "cell_type": "code",
   "execution_count": 15,
   "outputs": [
    {
     "name": "stdout",
     "text": [
      "1    0.633245\n2    0.490437\n3   -0.121062\ndtype: float64\nb  1    0.633245\n   2    0.490437\n   3   -0.121062\nc  1    1.026703\n   2    1.406398\ndtype: float64\n"
     ],
     "output_type": "stream"
    }
   ],
   "source": [
    "# 选取子集\n",
    "print(data['b'])\n",
    "print(data['b':'c'])\n"
   ],
   "metadata": {
    "collapsed": false,
    "pycharm": {
     "name": "#%%\n",
     "is_executing": false
    }
   }
  },
  {
   "cell_type": "code",
   "execution_count": 16,
   "outputs": [
    {
     "name": "stdout",
     "text": [
      "b  1    0.633245\n   2    0.490437\n   3   -0.121062\nd  2    0.107782\n   3   -0.320768\ndtype: float64\na   -0.944436\nb    0.490437\nc    1.406398\nd    0.107782\ndtype: float64\n"
     ],
     "output_type": "stream"
    }
   ],
   "source": [
    "print(data.loc[['b','d']])\n",
    "# 取第一层索引，再取第二层索引为2的\n",
    "print(data[:,2])"
   ],
   "metadata": {
    "collapsed": false,
    "pycharm": {
     "name": "#%%\n",
     "is_executing": false
    }
   }
  },
  {
   "cell_type": "code",
   "execution_count": 18,
   "outputs": [
    {
     "name": "stdout",
     "text": [
      "          1         2         3\na -1.032649 -0.944436  0.275388\nb  0.633245  0.490437 -0.121062\nc  1.026703  1.406398       NaN\nd       NaN  0.107782 -0.320768\na  1   -1.032649\n   2   -0.944436\n   3    0.275388\nb  1    0.633245\n   2    0.490437\n   3   -0.121062\nc  1    1.026703\n   2    1.406398\nd  2    0.107782\n   3   -0.320768\ndtype: float64\n"
     ],
     "output_type": "stream"
    }
   ],
   "source": [
    "print(data.unstack())\n",
    "print(data.unstack().stack())"
   ],
   "metadata": {
    "collapsed": false,
    "pycharm": {
     "name": "#%%\n",
     "is_executing": false
    }
   }
  },
  {
   "cell_type": "code",
   "execution_count": 19,
   "outputs": [
    {
     "name": "stdout",
     "text": [
      "     Ohio     Colorado\n    Green Red    Green\na 1     0   1        2\n  2     3   4        5\nb 1     6   7        8\n  3     9  10       11\n"
     ],
     "output_type": "stream"
    }
   ],
   "source": [
    "frame = DataFrame(np.arange(12).reshape((4,3)),\n",
    "                  index=[['a','a','b','b'],[1,2,1,3]],\n",
    "                  columns=[['Ohio','Ohio','Colorado'],\n",
    "                           ['Green','Red','Green']])\n",
    "print(frame)"
   ],
   "metadata": {
    "collapsed": false,
    "pycharm": {
     "name": "#%%\n",
     "is_executing": false
    }
   }
  },
  {
   "cell_type": "code",
   "execution_count": 20,
   "outputs": [
    {
     "name": "stdout",
     "text": [
      "state      Ohio     Colorado\ncolor     Green Red    Green\nkey1 key2                   \na    1        0   1        2\n     2        3   4        5\nb    1        6   7        8\n     3        9  10       11\n"
     ],
     "output_type": "stream"
    }
   ],
   "source": [
    "# 加索引名称\n",
    "frame.index.names = ['key1','key2']\n",
    "frame.columns.names = ['state','color']\n",
    "print(frame)"
   ],
   "metadata": {
    "collapsed": false,
    "pycharm": {
     "name": "#%%\n",
     "is_executing": false
    }
   }
  },
  {
   "cell_type": "code",
   "execution_count": 21,
   "outputs": [
    {
     "name": "stdout",
     "text": [
      "color      Green  Red\nkey1 key2            \na    1         0    1\n     2         3    4\nb    1         6    7\n     3         9   10\n"
     ],
     "output_type": "stream"
    }
   ],
   "source": [
    "# 选取列分组\n",
    "print(frame['Ohio'])\n"
   ],
   "metadata": {
    "collapsed": false,
    "pycharm": {
     "name": "#%%\n",
     "is_executing": false
    }
   }
  },
  {
   "cell_type": "code",
   "execution_count": null,
   "outputs": [],
   "source": [
    "# 创建MultiIndex，以复用\n",
    "MultiIndex.from_arrays([['Ohio','Ohio','Colorado'],\n",
    "                       ['Green','Red','Green']],\n",
    "                       names=['state','color'])\n"
   ],
   "metadata": {
    "collapsed": false,
    "pycharm": {
     "name": "#%%\n"
    }
   }
  },
  {
   "cell_type": "markdown",
   "source": [
    "## 重排分级顺序"
   ],
   "metadata": {
    "collapsed": false
   }
  },
  {
   "cell_type": "code",
   "execution_count": 24,
   "outputs": [
    {
     "name": "stdout",
     "text": [
      "state      Ohio     Colorado\ncolor     Green Red    Green\nkey1 key2                   \na    1        0   1        2\n     2        3   4        5\nb    1        6   7        8\n     3        9  10       11\n"
     ],
     "output_type": "stream"
    }
   ],
   "source": [
    "print(frame)"
   ],
   "metadata": {
    "collapsed": false,
    "pycharm": {
     "name": "#%%\n",
     "is_executing": false
    }
   }
  },
  {
   "cell_type": "code",
   "execution_count": 25,
   "outputs": [
    {
     "name": "stdout",
     "text": [
      "state      Ohio     Colorado\ncolor     Green Red    Green\nkey2 key1                   \n1    a        0   1        2\n2    a        3   4        5\n1    b        6   7        8\n3    b        9  10       11\n"
     ],
     "output_type": "stream"
    }
   ],
   "source": [
    "# 互换索引\n",
    "print(frame.swaplevel('key1','key2'))"
   ],
   "metadata": {
    "collapsed": false,
    "pycharm": {
     "name": "#%%\n",
     "is_executing": false
    }
   }
  },
  {
   "cell_type": "code",
   "execution_count": 27,
   "outputs": [
    {
     "name": "stdout",
     "text": [
      "state     Colorado  Ohio    \ncolor        Green Green Red\nkey1 key2                   \na    1           2     0   1\n     2           5     3   4\nb    1           8     6   7\n     3          11     9  10\n"
     ],
     "output_type": "stream"
    },
    {
     "name": "stderr",
     "text": [
      "C:\\Users\\zgg\\AppData\\Local\\Temp\\ipykernel_7540\\645927641.py:1: FutureWarning: In a future version of pandas all arguments of DataFrame.sort_index will be keyword-only.\n  print(frame.sort_index(1))\n"
     ],
     "output_type": "stream"
    }
   ],
   "source": [
    "# 先对外层索引进行排序，再对内层索引进行排序\n",
    "print(frame.sort_index(1))\n"
   ],
   "metadata": {
    "collapsed": false,
    "pycharm": {
     "name": "#%%\n",
     "is_executing": false
    }
   }
  },
  {
   "cell_type": "code",
   "execution_count": 28,
   "outputs": [
    {
     "name": "stdout",
     "text": [
      "state      Ohio     Colorado\ncolor     Green Red    Green\nkey2 key1                   \n1    a        0   1        2\n     b        6   7        8\n2    a        3   4        5\n3    b        9  10       11\n"
     ],
     "output_type": "stream"
    }
   ],
   "source": [
    "print(frame.swaplevel(0,1).sort_index())"
   ],
   "metadata": {
    "collapsed": false,
    "pycharm": {
     "name": "#%%\n",
     "is_executing": false
    }
   }
  },
  {
   "cell_type": "markdown",
   "source": [
    "## 根据级别汇总统计"
   ],
   "metadata": {
    "collapsed": false
   }
  },
  {
   "cell_type": "code",
   "execution_count": 29,
   "outputs": [
    {
     "name": "stdout",
     "text": [
      "state  Ohio     Colorado\ncolor Green Red    Green\nkey2                    \n1         6   8       10\n2         3   4        5\n3         9  10       11\n"
     ],
     "output_type": "stream"
    },
    {
     "name": "stderr",
     "text": [
      "C:\\Users\\zgg\\AppData\\Local\\Temp\\ipykernel_7540\\2955184520.py:2: FutureWarning: Using the level keyword in DataFrame and Series aggregations is deprecated and will be removed in a future version. Use groupby instead. df.sum(level=1) should use df.groupby(level=1).sum().\n  print(frame.sum(level='key2'))\n"
     ],
     "output_type": "stream"
    }
   ],
   "source": [
    "# 指定在某条轴上求和\n",
    "print(frame.sum(level='key2'))"
   ],
   "metadata": {
    "collapsed": false,
    "pycharm": {
     "name": "#%%\n",
     "is_executing": false
    }
   }
  },
  {
   "cell_type": "code",
   "execution_count": 32,
   "outputs": [
    {
     "name": "stdout",
     "text": [
      "color      Green  Red\nkey1 key2            \na    1         2    1\n     2         8    4\nb    1        14    7\n     3        20   10\n"
     ],
     "output_type": "stream"
    },
    {
     "name": "stderr",
     "text": [
      "C:\\Users\\zgg\\AppData\\Local\\Temp\\ipykernel_7540\\2850790489.py:1: FutureWarning: Using the level keyword in DataFrame and Series aggregations is deprecated and will be removed in a future version. Use groupby instead. df.sum(level=1) should use df.groupby(level=1).sum().\n  print(frame.sum(level='color', axis=1))\n"
     ],
     "output_type": "stream"
    }
   ],
   "source": [
    "print(frame.sum(level='color', axis=1))"
   ],
   "metadata": {
    "collapsed": false,
    "pycharm": {
     "name": "#%%\n",
     "is_executing": false
    }
   }
  },
  {
   "cell_type": "markdown",
   "source": [
    "## 使用DataFrame的列"
   ],
   "metadata": {
    "collapsed": false
   }
  },
  {
   "cell_type": "code",
   "execution_count": 33,
   "outputs": [
    {
     "name": "stdout",
     "text": [
      "   a  b    c  d\n0  0  7  one  0\n1  1  6  one  1\n2  2  5  one  2\n3  3  4  two  0\n4  4  3  two  1\n5  5  2  two  2\n6  6  1  two  3\n"
     ],
     "output_type": "stream"
    }
   ],
   "source": [
    "frame = DataFrame({'a':range(7),'b':range(7,0,-1),\n",
    "                   'c':['one','one','one','two','two','two','two'],\n",
    "                   'd':[0,1,2,0,1,2,3]})\n",
    "print(frame)"
   ],
   "metadata": {
    "collapsed": false,
    "pycharm": {
     "name": "#%%\n",
     "is_executing": false
    }
   }
  },
  {
   "cell_type": "code",
   "execution_count": 34,
   "outputs": [
    {
     "name": "stdout",
     "text": [
      "       a  b\nc   d      \none 0  0  7\n    1  1  6\n    2  2  5\ntwo 0  3  4\n    1  4  3\n    2  5  2\n    3  6  1\n"
     ],
     "output_type": "stream"
    }
   ],
   "source": [
    "# 将列转为行索引\n",
    "frame2 = frame.set_index(['c','d'])\n",
    "print(frame2)"
   ],
   "metadata": {
    "collapsed": false,
    "pycharm": {
     "name": "#%%\n",
     "is_executing": false
    }
   }
  },
  {
   "cell_type": "code",
   "execution_count": 35,
   "outputs": [
    {
     "name": "stdout",
     "text": [
      "       a  b    c  d\nc   d              \none 0  0  7  one  0\n    1  1  6  one  1\n    2  2  5  one  2\ntwo 0  3  4  two  0\n    1  4  3  two  1\n    2  5  2  two  2\n    3  6  1  two  3\n"
     ],
     "output_type": "stream"
    }
   ],
   "source": [
    "# 默认会移除这些列，但也可以将其保留\n",
    "print(frame.set_index(['c','d'],drop=False))\n"
   ],
   "metadata": {
    "collapsed": false,
    "pycharm": {
     "name": "#%%\n",
     "is_executing": false
    }
   }
  },
  {
   "cell_type": "code",
   "execution_count": 36,
   "outputs": [
    {
     "name": "stdout",
     "text": [
      "     c  d  a  b\n0  one  0  0  7\n1  one  1  1  6\n2  one  2  2  5\n3  two  0  3  4\n4  two  1  4  3\n5  two  2  5  2\n6  two  3  6  1\n"
     ],
     "output_type": "stream"
    }
   ],
   "source": [
    "# 将索引转到列\n",
    "print(frame2.reset_index())\n"
   ],
   "metadata": {
    "collapsed": false,
    "pycharm": {
     "name": "#%%\n",
     "is_executing": false
    }
   }
  },
  {
   "cell_type": "markdown",
   "source": [
    "## 整数索引"
   ],
   "metadata": {
    "collapsed": false
   }
  },
  {
   "cell_type": "code",
   "execution_count": 37,
   "outputs": [
    {
     "name": "stdout",
     "text": [
      "0    0.0\n1    1.0\n2    2.0\ndtype: float64\n"
     ],
     "output_type": "stream"
    }
   ],
   "source": [
    "ser = Series(np.arange(3.))\n",
    "print(ser)"
   ],
   "metadata": {
    "collapsed": false,
    "pycharm": {
     "name": "#%%\n",
     "is_executing": false
    }
   }
  },
  {
   "cell_type": "code",
   "execution_count": 38,
   "outputs": [
    {
     "name": "stdout",
     "text": [
      "a    0.0\nb    1.0\nc    2.0\ndtype: float64\n"
     ],
     "output_type": "stream"
    }
   ],
   "source": [
    "# 使用非整数索引\n",
    "ser2 = Series(np.arange(3.),index=['a','b','c'])\n",
    "print(ser2)"
   ],
   "metadata": {
    "collapsed": false,
    "pycharm": {
     "name": "#%%\n",
     "is_executing": false
    }
   }
  },
  {
   "cell_type": "code",
   "execution_count": 39,
   "outputs": [
    {
     "name": "stdout",
     "text": [
      "0    0.0\ndtype: float64\n"
     ],
     "output_type": "stream"
    }
   ],
   "source": [
    "print(ser.iloc[:1])"
   ],
   "metadata": {
    "collapsed": false,
    "pycharm": {
     "name": "#%%\n",
     "is_executing": false
    }
   }
  },
  {
   "cell_type": "code",
   "execution_count": 40,
   "outputs": [
    {
     "name": "stdout",
     "text": [
      "2.0\n"
     ],
     "output_type": "stream"
    }
   ],
   "source": [
    "ser3 = Series(np.arange(3.),index=[-5,1,3])\n",
    "print(ser3.iloc[2])"
   ],
   "metadata": {
    "collapsed": false,
    "pycharm": {
     "name": "#%%\n",
     "is_executing": false
    }
   }
  },
  {
   "cell_type": "code",
   "execution_count": 41,
   "outputs": [
    {
     "name": "stdout",
     "text": [
      "0    0\n1    1\nName: 2, dtype: int32\n"
     ],
     "output_type": "stream"
    }
   ],
   "source": [
    "frame = DataFrame(np.arange(6).reshape(3,2),\n",
    "                  index=[2,0,1])\n",
    "print(frame.iloc[0])"
   ],
   "metadata": {
    "collapsed": false,
    "pycharm": {
     "name": "#%%\n",
     "is_executing": false
    }
   }
  },
  {
   "cell_type": "markdown",
   "source": [
    "## 面板数据"
   ],
   "metadata": {
    "collapsed": false
   }
  },
  {
   "cell_type": "code",
   "execution_count": 42,
   "outputs": [],
   "source": [
    "import pandas.io.data as web\n",
    "\n",
    "pdata = pd.Panel(dict((stk, web.get_data_yahoo(stk))\n",
    "                       for stk in ['AAPL', 'GOOG', 'MSFT', 'DELL']))"
   ],
   "metadata": {
    "collapsed": false,
    "pycharm": {
     "name": "#%%\n",
     "is_executing": false
    }
   }
  },
  {
   "cell_type": "code",
   "execution_count": null,
   "outputs": [],
   "source": [
    "pdata"
   ],
   "metadata": {
    "collapsed": false,
    "pycharm": {
     "name": "#%%\n"
    }
   }
  },
  {
   "cell_type": "code",
   "execution_count": null,
   "outputs": [],
   "source": [
    "pdata = pdata.swapaxes('items', 'minor')\n",
    "pdata['Adj Close']"
   ],
   "metadata": {
    "collapsed": false,
    "pycharm": {
     "name": "#%%\n"
    }
   }
  },
  {
   "cell_type": "code",
   "execution_count": null,
   "outputs": [],
   "source": [
    "pdata.ix[:, '6/1/2012', :]"
   ],
   "metadata": {
    "collapsed": false,
    "pycharm": {
     "name": "#%%\n"
    }
   }
  },
  {
   "cell_type": "code",
   "execution_count": null,
   "outputs": [],
   "source": [
    "pdata.ix['Adj Close', '5/22/2012':, :]"
   ],
   "metadata": {
    "collapsed": false,
    "pycharm": {
     "name": "#%%\n"
    }
   }
  },
  {
   "cell_type": "code",
   "execution_count": null,
   "outputs": [],
   "source": [
    "stacked = pdata.ix[:, '5/30/2012':, :].to_frame()\n",
    "stacked"
   ],
   "metadata": {
    "collapsed": false,
    "pycharm": {
     "name": "#%%\n"
    }
   }
  },
  {
   "cell_type": "code",
   "execution_count": null,
   "outputs": [],
   "source": [
    "stacked.to_panel()"
   ],
   "metadata": {
    "collapsed": false,
    "pycharm": {
     "name": "#%%\n"
    }
   }
  }
 ],
 "metadata": {
  "kernelspec": {
   "display_name": "Python 3",
   "language": "python",
   "name": "python3"
  },
  "language_info": {
   "codemirror_mode": {
    "name": "ipython",
    "version": 2
   },
   "file_extension": ".py",
   "mimetype": "text/x-python",
   "name": "python",
   "nbconvert_exporter": "python",
   "pygments_lexer": "ipython2",
   "version": "2.7.6"
  },
  "pycharm": {
   "stem_cell": {
    "cell_type": "raw",
    "source": [],
    "metadata": {
     "collapsed": false
    }
   }
  }
 },
 "nbformat": 4,
 "nbformat_minor": 0
}