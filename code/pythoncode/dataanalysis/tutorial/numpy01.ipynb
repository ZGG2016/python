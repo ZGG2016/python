{
 "cells": [
  {
   "cell_type": "code",
   "execution_count": 1,
   "metadata": {
    "collapsed": true,
    "pycharm": {
     "is_executing": false
    }
   },
   "outputs": [],
   "source": [
    "import numpy as np\n",
    "from numpy.random import randn"
   ]
  },
  {
   "cell_type": "markdown",
   "source": [
    "## 创建ndarray"
   ],
   "metadata": {
    "collapsed": false,
    "pycharm": {
     "name": "#%% md\n",
     "is_executing": false
    }
   }
  },
  {
   "cell_type": "code",
   "execution_count": null,
   "outputs": [],
   "source": [
    "data1 = [6, 7.5, 8, 0, 1]\n",
    "arr1 = np.array(data1)\n",
    "print(arr1)\n",
    "\n",
    "data2 = [[1, 2, 3, 4], [5, 6, 7, 8]]\n",
    "arr2 = np.array(data2)\n",
    "print(arr2)"
   ],
   "metadata": {
    "collapsed": false,
    "pycharm": {
     "name": "#%%\n"
    }
   }
  },
  {
   "cell_type": "code",
   "execution_count": 6,
   "outputs": [
    {
     "name": "stdout",
     "text": [
      "2\n(2, 4)\nfloat64\nint32\n"
     ],
     "output_type": "stream"
    }
   ],
   "source": [
    "print(arr2.ndim)\n",
    "print(arr2.shape)\n",
    "\n",
    "print(arr1.dtype)\n",
    "print(arr2.dtype)"
   ],
   "metadata": {
    "collapsed": false,
    "pycharm": {
     "name": "#%%\n",
     "is_executing": false
    }
   }
  },
  {
   "cell_type": "code",
   "execution_count": 7,
   "outputs": [
    {
     "name": "stdout",
     "text": [
      "[0. 0. 0. 0. 0. 0. 0. 0. 0. 0.]\n[[0. 0. 0. 0. 0. 0.]\n [0. 0. 0. 0. 0. 0.]\n [0. 0. 0. 0. 0. 0.]]\n[[0. 0. 0. 0. 0. 0.]\n [0. 0. 0. 0. 0. 0.]\n [0. 0. 0. 0. 0. 0.]]\n"
     ],
     "output_type": "stream"
    }
   ],
   "source": [
    "print(np.zeros(10))\n",
    "\n",
    "print(np.zeros((3,6)))\n",
    "\n",
    "print(np.zeros_like(np.zeros((3,6))))"
   ],
   "metadata": {
    "collapsed": false,
    "pycharm": {
     "name": "#%%\n",
     "is_executing": false
    }
   }
  },
  {
   "cell_type": "code",
   "execution_count": 11,
   "outputs": [
    {
     "name": "stdout",
     "text": [
      "[6.  7.5 8.  0.  1. ]\n[[0. 0. 0.]\n [0. 0. 0.]]\n[[[1.21476269e-311 3.16202013e-322]\n  [0.00000000e+000 0.00000000e+000]\n  [1.69119330e-306 1.46301830e+185]]\n\n [[1.21046140e+161 2.34443391e-056]\n  [4.17841785e-062 1.21544342e-046]\n  [4.08748830e-033 4.35305725e-061]]]\n"
     ],
     "output_type": "stream"
    }
   ],
   "source": [
    "# 返回的是未初始化的垃圾值\n",
    "print(np.empty(5))\n",
    "print(np.empty((2,3)))\n",
    "print(np.empty((2,3,2))) \n"
   ],
   "metadata": {
    "collapsed": false,
    "pycharm": {
     "name": "#%%\n",
     "is_executing": false
    }
   }
  },
  {
   "cell_type": "code",
   "execution_count": 12,
   "outputs": [
    {
     "name": "stdout",
     "text": [
      "[0 1 2 3 4]\n"
     ],
     "output_type": "stream"
    }
   ],
   "source": [
    "print(np.arange(5))"
   ],
   "metadata": {
    "collapsed": false,
    "pycharm": {
     "name": "#%%\n",
     "is_executing": false
    }
   }
  },
  {
   "cell_type": "code",
   "execution_count": 14,
   "outputs": [
    {
     "name": "stdout",
     "text": [
      "[[1. 1. 1.]\n [1. 1. 1.]]\n[[1. 1. 1.]\n [1. 1. 1.]]\n"
     ],
     "output_type": "stream"
    }
   ],
   "source": [
    "print(np.ones((2,3)))\n",
    "print(np.ones_like(np.ones((2,3))))"
   ],
   "metadata": {
    "collapsed": false,
    "pycharm": {
     "name": "#%%\n",
     "is_executing": false
    }
   }
  },
  {
   "cell_type": "code",
   "execution_count": 15,
   "outputs": [
    {
     "name": "stdout",
     "text": [
      "[[1. 0. 0.]\n [0. 1. 0.]\n [0. 0. 1.]]\n[[1. 0. 0.]\n [0. 1. 0.]\n [0. 0. 1.]]\n"
     ],
     "output_type": "stream"
    }
   ],
   "source": [
    "print(np.eye(3))\n",
    "print(np.identity(3))"
   ],
   "metadata": {
    "collapsed": false,
    "pycharm": {
     "name": "#%%\n",
     "is_executing": false
    }
   }
  },
  {
   "cell_type": "markdown",
   "source": [
    "## ndarray数据类型"
   ],
   "metadata": {
    "collapsed": false,
    "pycharm": {
     "name": "#%% md\n",
     "is_executing": false
    }
   }
  },
  {
   "cell_type": "code",
   "execution_count": null,
   "outputs": [],
   "source": [
    "arr1 = np.array([1,2,3],dtype=np.float64)\n",
    "arr2 = np.array([1,2,3],dtype=np.int32)\n",
    "print(arr1.dtype)\n",
    "print(arr2.dtype)"
   ],
   "metadata": {
    "collapsed": false,
    "pycharm": {
     "name": "#%%\n"
    }
   }
  },
  {
   "cell_type": "code",
   "execution_count": 18,
   "outputs": [
    {
     "name": "stdout",
     "text": [
      "float64\n"
     ],
     "output_type": "stream"
    }
   ],
   "source": [
    "arr = np.array([1,2,3,4,5], dtype=np.int32)\n",
    "floar_arr = arr.astype(np.float64)\n",
    "print(floar_arr.dtype)"
   ],
   "metadata": {
    "collapsed": false,
    "pycharm": {
     "name": "#%%\n",
     "is_executing": false
    }
   }
  },
  {
   "cell_type": "code",
   "execution_count": 22,
   "outputs": [
    {
     "name": "stdout",
     "text": [
      "float64\n[ 3 -1 -2  0 12 10]\n[ 3 -1 -2  0 12 10]\n"
     ],
     "output_type": "stream"
    }
   ],
   "source": [
    "arr = np.array([3.7, -1.2, -2.6, 0.5, 12.9, 10.1])\n",
    "print(arr.dtype)\n",
    "# 被截取\n",
    "print(arr.astype(np.int32))\n",
    "print(arr.astype(np.int64))"
   ],
   "metadata": {
    "collapsed": false,
    "pycharm": {
     "name": "#%%\n",
     "is_executing": false
    }
   }
  },
  {
   "cell_type": "code",
   "execution_count": 24,
   "outputs": [
    {
     "name": "stdout",
     "text": [
      "[ 1.25 -9.6  43.  ]\n[ 1.25 -9.6  43.  ]\n"
     ],
     "output_type": "stream"
    }
   ],
   "source": [
    "arr = np.array(['1.25','-9.6','43'],dtype=np.string_)\n",
    "print(arr.astype(np.float64))\n",
    "# python类型自动映射到等价的dtype\n",
    "print(arr.astype(float))"
   ],
   "metadata": {
    "collapsed": false,
    "pycharm": {
     "name": "#%%\n",
     "is_executing": false
    }
   }
  },
  {
   "cell_type": "code",
   "execution_count": 26,
   "outputs": [
    {
     "data": {
      "text/plain": "array([0., 1., 2., 3., 4., 5., 6., 7., 8., 9.])"
     },
     "metadata": {},
     "output_type": "execute_result",
     "execution_count": 26
    }
   ],
   "source": [
    "arr = np.arange(10)\n",
    "calibers = np.array([.22,.270,.357,.380,.44,.50], dtype=np.float64)\n",
    "\n",
    "arr.astype(calibers.dtype)"
   ],
   "metadata": {
    "collapsed": false,
    "pycharm": {
     "name": "#%%\n",
     "is_executing": false
    }
   }
  },
  {
   "cell_type": "code",
   "execution_count": 31,
   "outputs": [
    {
     "name": "stdout",
     "text": [
      "[3358653761 3232564447 2552072680  153486976]\n[b'aa' b'bb']\n"
     ],
     "output_type": "stream"
    }
   ],
   "source": [
    "empty_arr = np.empty(4, dtype='u4')\n",
    "print(empty_arr)\n",
    "\n",
    "str_arr = np.array(['aa','bb'], dtype='S')\n",
    "print(str_arr)"
   ],
   "metadata": {
    "collapsed": false,
    "pycharm": {
     "name": "#%%\n",
     "is_executing": false
    }
   }
  },
  {
   "cell_type": "markdown",
   "source": [
    "## 数组和标量之间的运算"
   ],
   "metadata": {
    "collapsed": false
   }
  },
  {
   "cell_type": "code",
   "execution_count": 32,
   "outputs": [
    {
     "name": "stdout",
     "text": [
      "[[1. 2. 3.]\n [4. 5. 6.]]\n[[ 1.  4.  9.]\n [16. 25. 36.]]\n[[0. 0. 0.]\n [0. 0. 0.]]\n[[1.         0.5        0.33333333]\n [0.25       0.2        0.16666667]]\n[[1.         1.41421356 1.73205081]\n [2.         2.23606798 2.44948974]]\n"
     ],
     "output_type": "stream"
    }
   ],
   "source": [
    "arr = np.array([[1.,2.,3.],[4.,5.,6.]])\n",
    "print(arr)\n",
    "# 元素级：对应元素运算\n",
    "print(arr * arr)\n",
    "print(arr - arr)\n",
    "# 数组和标量的运算也会传播到数组的各个元素\n",
    "print(1 / arr)\n",
    "print(arr ** 0.5)"
   ],
   "metadata": {
    "collapsed": false,
    "pycharm": {
     "name": "#%%\n",
     "is_executing": false
    }
   }
  },
  {
   "cell_type": "markdown",
   "source": [
    "## 基本的索引和切片"
   ],
   "metadata": {
    "collapsed": false
   }
  },
  {
   "cell_type": "code",
   "execution_count": 33,
   "outputs": [
    {
     "name": "stdout",
     "text": [
      "5\n[5 6 7]\n"
     ],
     "output_type": "stream"
    }
   ],
   "source": [
    "# 索引从0开始\n",
    "arr = np.arange(10)\n",
    "print(arr[5])\n",
    "print(arr[5:8])"
   ],
   "metadata": {
    "collapsed": false,
    "pycharm": {
     "name": "#%%\n",
     "is_executing": false
    }
   }
  },
  {
   "cell_type": "code",
   "execution_count": 36,
   "outputs": [
    {
     "name": "stdout",
     "text": [
      "[ 0  1  2  3  4 12 12 12  8  9]\n[  0   1   2   3   4 100 200 300   8   9]\n"
     ],
     "output_type": "stream"
    }
   ],
   "source": [
    "# 标量值赋给一个切片，值会自动传播\n",
    "# 对切片的修改，会直接反应到源数组上\n",
    "arr[5:8] = 12\n",
    "print(arr)\n",
    "\n",
    "arr[5:8] = [100,200,300]\n",
    "print(arr)"
   ],
   "metadata": {
    "collapsed": false,
    "pycharm": {
     "name": "#%%\n",
     "is_executing": false
    }
   }
  },
  {
   "cell_type": "code",
   "execution_count": 38,
   "outputs": [
    {
     "name": "stdout",
     "text": [
      "[  100 12345   300]\n[    0     1     2     3     4   100 12345   300     8     9]\n[ 0  1  2  3  4 64 64 64  8  9]\n"
     ],
     "output_type": "stream"
    }
   ],
   "source": [
    "arr_slice = arr[5:8]\n",
    "print(arr_slice)\n",
    "arr_slice[1] = 12345\n",
    "print(arr)\n",
    "arr_slice[:]= 64\n",
    "print(arr)"
   ],
   "metadata": {
    "collapsed": false,
    "pycharm": {
     "name": "#%%\n",
     "is_executing": false
    }
   }
  },
  {
   "cell_type": "code",
   "execution_count": 39,
   "outputs": [
    {
     "name": "stdout",
     "text": [
      "[7 8 9]\n3\n3\n"
     ],
     "output_type": "stream"
    }
   ],
   "source": [
    "# 二维数组\n",
    "arr2d = np.array([[1,2,3],[4,5,6],[7,8,9]])\n",
    "print(arr2d[2]) \n",
    "print(arr2d[0][2])  \n",
    "print(arr2d[0,2]) # 等价上条语句"
   ],
   "metadata": {
    "collapsed": false,
    "pycharm": {
     "name": "#%%\n",
     "is_executing": false
    }
   }
  },
  {
   "cell_type": "code",
   "execution_count": 41,
   "outputs": [
    {
     "name": "stdout",
     "text": [
      "[[1 2 3]\n [4 5 6]]\n[4 5 6]\n5\n"
     ],
     "output_type": "stream"
    }
   ],
   "source": [
    "# 三维数组 2*2*3  [[ [],[],[] ], [ [],[],[] ]]\n",
    "arr3d = np.array([[[1,2,3],[4,5,6]], [[7,8,9],[10,11,12]]])\n",
    "print(arr3d[0]) # 二维的ndarray\n",
    "print(arr3d[0,1]) # 一维的ndarray\n",
    "print(arr3d[0,1, 1]) # 元素值\n",
    "\n",
    "# 进行几次切片获得单个元素，就是几维数组"
   ],
   "metadata": {
    "collapsed": false,
    "pycharm": {
     "name": "#%%\n",
     "is_executing": false
    }
   }
  },
  {
   "cell_type": "code",
   "execution_count": 42,
   "outputs": [
    {
     "name": "stdout",
     "text": [
      "[[1 2 3]\n [4 5 6]]\n[[[42 42 42]\n  [42 42 42]]\n\n [[ 7  8  9]\n  [10 11 12]]]\n[[1 2 3]\n [4 5 6]]\n"
     ],
     "output_type": "stream"
    }
   ],
   "source": [
    "old_values = arr3d[0].copy()\n",
    "print(old_values)\n",
    "arr3d[0] = 42\n",
    "print(arr3d)\n",
    "arr3d = old_values\n",
    "print(arr3d)"
   ],
   "metadata": {
    "collapsed": false,
    "pycharm": {
     "name": "#%%\n",
     "is_executing": false
    }
   }
  },
  {
   "cell_type": "code",
   "execution_count": 43,
   "outputs": [
    {
     "name": "stdout",
     "text": [
      "[ 1  2  3  4 64]\n[[1 2 3]\n [4 5 6]]\n[[2 3]\n [5 6]]\n"
     ],
     "output_type": "stream"
    }
   ],
   "source": [
    "print(arr[1:6])\n",
    "print(arr2d[:2])\n",
    "print(arr2d[:2,1:]) # 先x 再y"
   ],
   "metadata": {
    "collapsed": false,
    "pycharm": {
     "name": "#%%\n",
     "is_executing": false
    }
   }
  },
  {
   "cell_type": "markdown",
   "source": [
    "arr2d[:2,1:]\n",
    "\n",
    "      1:\n",
    "      ^\n",
    "    1 |2 3\n",
    "    4 |5 6\n",
    "    --|-----> :2\n",
    "    7 |8 9"
   ],
   "metadata": {
    "collapsed": false,
    "pycharm": {
     "name": "#%% md\n"
    }
   }
  },
  {
   "cell_type": "code",
   "execution_count": 44,
   "outputs": [
    {
     "name": "stdout",
     "text": [
      "[4 5]\n[7]\n[[1]\n [4]\n [7]]\n"
     ],
     "output_type": "stream"
    }
   ],
   "source": [
    "print(arr2d[1,:2])\n",
    "print(arr2d[2,:1])\n",
    "print(arr2d[:,:1])"
   ],
   "metadata": {
    "collapsed": false,
    "pycharm": {
     "name": "#%%\n",
     "is_executing": false
    }
   }
  },
  {
   "cell_type": "code",
   "execution_count": 45,
   "outputs": [
    {
     "name": "stdout",
     "text": [
      "[[1 2 3]\n [4 5 6]\n [7 8 9]]\n[[1 0 0]\n [4 0 0]\n [7 8 9]]\n"
     ],
     "output_type": "stream"
    }
   ],
   "source": [
    "# 切片表达式的复制操作\n",
    "print(arr2d)\n",
    "arr2d[:2,1:] = 0\n",
    "print(arr2d)"
   ],
   "metadata": {
    "collapsed": false,
    "pycharm": {
     "name": "#%%\n",
     "is_executing": false
    }
   }
  },
  {
   "cell_type": "markdown",
   "source": [
    "## 布尔型索引"
   ],
   "metadata": {
    "collapsed": false
   }
  },
  {
   "cell_type": "code",
   "execution_count": 2,
   "outputs": [
    {
     "name": "stdout",
     "text": [
      "['Bob' 'Joe' 'Will' 'Bob' 'Joe' 'Will' 'Joe']\n[[ 0.56937767  0.53038681 -1.45732939  3.5369157 ]\n [-0.48841991  0.40136465  0.7617514  -0.48316186]\n [ 0.98100129 -1.0747141   0.56805005  0.85687133]\n [-0.93795395 -0.69272005 -1.13345997 -0.93248051]\n [-0.34360924  0.74863721  0.37915001 -0.97702183]\n [ 0.69137333 -1.68646787  0.98095027 -0.15901111]\n [-1.05992549  1.20416534  0.42923931 -0.63708581]]\n"
     ],
     "output_type": "stream"
    }
   ],
   "source": [
    "names = np.array(['Bob','Joe','Will','Bob','Joe','Will','Joe'])\n",
    "data = randn(7,4)\n",
    "\n",
    "print(names)\n",
    "print(data)"
   ],
   "metadata": {
    "collapsed": false,
    "pycharm": {
     "name": "#%%\n",
     "is_executing": false
    }
   }
  },
  {
   "cell_type": "code",
   "execution_count": 4,
   "outputs": [
    {
     "name": "stdout",
     "text": [
      "[ True False False  True False False False]\n[[ 0.56937767  0.53038681 -1.45732939  3.5369157 ]\n [-0.93795395 -0.69272005 -1.13345997 -0.93248051]]\n"
     ],
     "output_type": "stream"
    }
   ],
   "source": [
    "# 数组比较运算\n",
    "print(names == 'Bob')\n",
    "# 布尔型数组用于数组索引\n",
    "# 布尔数组对应到数据数组中，如果对应是true，就取它，如果对应是false，就不取\n",
    "print(data[names == 'Bob']) # 选出第一行和第四行"
   ],
   "metadata": {
    "collapsed": false,
    "pycharm": {
     "name": "#%%\n",
     "is_executing": false
    }
   }
  },
  {
   "cell_type": "code",
   "execution_count": 6,
   "outputs": [
    {
     "name": "stdout",
     "text": [
      "[[-1.45732939  3.5369157 ]\n [-1.13345997 -0.93248051]]\n[ 3.5369157  -0.93248051]\n"
     ],
     "output_type": "stream"
    }
   ],
   "source": [
    "# 布尔型数组用于切片\n",
    "print(data[names == 'Bob', 2:])\n",
    "\n",
    "print(data[names == 'Bob', 3])"
   ],
   "metadata": {
    "collapsed": false,
    "pycharm": {
     "name": "#%%\n",
     "is_executing": false
    }
   }
  },
  {
   "cell_type": "code",
   "execution_count": 9,
   "outputs": [
    {
     "name": "stdout",
     "text": [
      "[False  True  True False  True  True  True]\n[False  True  True False  True  True  True]\n[[-0.48841991  0.40136465  0.7617514  -0.48316186]\n [ 0.98100129 -1.0747141   0.56805005  0.85687133]\n [-0.34360924  0.74863721  0.37915001 -0.97702183]\n [ 0.69137333 -1.68646787  0.98095027 -0.15901111]\n [-1.05992549  1.20416534  0.42923931 -0.63708581]]\n"
     ],
     "output_type": "stream"
    }
   ],
   "source": [
    "# 取否\n",
    "print(names != 'Bob')\n",
    "print(~(names == 'Bob'))\n",
    "print(data[~(names == 'Bob')])"
   ],
   "metadata": {
    "collapsed": false,
    "pycharm": {
     "name": "#%%\n",
     "is_executing": false
    }
   }
  },
  {
   "cell_type": "code",
   "execution_count": 11,
   "outputs": [
    {
     "name": "stdout",
     "text": [
      "[ True False  True  True False  True False]\n[[ 0.56937767  0.53038681 -1.45732939  3.5369157 ]\n [ 0.98100129 -1.0747141   0.56805005  0.85687133]\n [-0.93795395 -0.69272005 -1.13345997 -0.93248051]\n [ 0.69137333 -1.68646787  0.98095027 -0.15901111]]\n"
     ],
     "output_type": "stream"
    }
   ],
   "source": [
    "# 布尔条件 $ | !\n",
    "mask = (names == 'Bob') | (names == 'Will')\n",
    "print(mask)\n",
    "print(data[mask])"
   ],
   "metadata": {
    "collapsed": false,
    "pycharm": {
     "name": "#%%\n",
     "is_executing": false
    }
   }
  },
  {
   "cell_type": "code",
   "execution_count": 13,
   "outputs": [
    {
     "name": "stdout",
     "text": [
      "[[ 0.56937767  0.53038681 -1.45732939  3.5369157 ]\n [-0.48841991  0.40136465  0.7617514  -0.48316186]\n [ 0.98100129 -1.0747141   0.56805005  0.85687133]\n [-0.93795395 -0.69272005 -1.13345997 -0.93248051]\n [-0.34360924  0.74863721  0.37915001 -0.97702183]\n [ 0.69137333 -1.68646787  0.98095027 -0.15901111]\n [-1.05992549  1.20416534  0.42923931 -0.63708581]]\n0.5693776658683052\n[[ 0.56937767  0.53038681 -1.45732939  3.5369157 ]\n [-0.48841991  0.40136465  0.7617514  -0.48316186]\n [ 0.98100129 -1.0747141   0.56805005  0.85687133]\n [-0.93795395 -0.69272005 -1.13345997 -0.93248051]\n [-0.34360924  0.74863721  0.37915001 -0.97702183]\n [ 0.69137333 -1.68646787  0.98095027 -0.15901111]\n [-1.05992549  1.20416534  0.42923931 -0.63708581]]\n"
     ],
     "output_type": "stream"
    }
   ],
   "source": [
    "# 通过布尔数组选取的数据，是源数据的副本\n",
    "print(data)\n",
    "print(data[mask][0,0])\n",
    "\n",
    "data[mask][0,0] = 11\n",
    "print(data)"
   ],
   "metadata": {
    "collapsed": false,
    "pycharm": {
     "name": "#%%\n",
     "is_executing": false
    }
   }
  },
  {
   "cell_type": "code",
   "execution_count": 15,
   "outputs": [
    {
     "name": "stdout",
     "text": [
      "[[False False  True False]\n [ True False False  True]\n [False  True False False]\n [ True  True  True  True]\n [ True False False  True]\n [False  True False  True]\n [ True False False  True]]\n[[0.56937767 0.53038681 0.         3.5369157 ]\n [0.         0.40136465 0.7617514  0.        ]\n [0.98100129 0.         0.56805005 0.85687133]\n [0.         0.         0.         0.        ]\n [0.         0.74863721 0.37915001 0.        ]\n [0.69137333 0.         0.98095027 0.        ]\n [0.         1.20416534 0.42923931 0.        ]]\n"
     ],
     "output_type": "stream"
    }
   ],
   "source": [
    "# 通过布尔数组设置值\n",
    "\n",
    "# 将data中的负数，设为0\n",
    "print(data<0)\n",
    "data[data<0] = 0\n",
    "print(data)"
   ],
   "metadata": {
    "collapsed": false,
    "pycharm": {
     "name": "#%%\n",
     "is_executing": false
    }
   }
  },
  {
   "cell_type": "code",
   "execution_count": 16,
   "outputs": [
    {
     "name": "stdout",
     "text": [
      "[[7.         7.         7.         7.        ]\n [0.         0.40136465 0.7617514  0.        ]\n [7.         7.         7.         7.        ]\n [7.         7.         7.         7.        ]\n [0.         0.74863721 0.37915001 0.        ]\n [7.         7.         7.         7.        ]\n [0.         1.20416534 0.42923931 0.        ]]\n"
     ],
     "output_type": "stream"
    }
   ],
   "source": [
    "# 通过布尔数组设置整行整列的值\n",
    "data[names!='Joe'] = 7\n",
    "print(data)"
   ],
   "metadata": {
    "collapsed": false,
    "pycharm": {
     "name": "#%%\n",
     "is_executing": false
    }
   }
  },
  {
   "cell_type": "markdown",
   "source": [
    "## 花式索引\n",
    "\n",
    "使用整数数组索引，返回的是新数组"
   ],
   "metadata": {
    "collapsed": false,
    "pycharm": {
     "name": "#%% md\n"
    }
   }
  },
  {
   "cell_type": "code",
   "execution_count": 17,
   "outputs": [
    {
     "name": "stdout",
     "text": [
      "[[0. 0. 0. 0.]\n [1. 1. 1. 1.]\n [2. 2. 2. 2.]\n [3. 3. 3. 3.]\n [4. 4. 4. 4.]\n [5. 5. 5. 5.]\n [6. 6. 6. 6.]\n [7. 7. 7. 7.]]\n"
     ],
     "output_type": "stream"
    }
   ],
   "source": [
    "arr = np.empty((8,4))\n",
    "for i in range(8):\n",
    "    arr[i] = i\n",
    "print(arr)"
   ],
   "metadata": {
    "collapsed": false,
    "pycharm": {
     "name": "#%%\n",
     "is_executing": false
    }
   }
  },
  {
   "cell_type": "code",
   "execution_count": 21,
   "outputs": [
    {
     "name": "stdout",
     "text": [
      "[[4. 4. 4. 4.]\n [3. 3. 3. 3.]\n [0. 0. 0. 0.]\n [6. 6. 6. 6.]]\n[[5. 5. 5. 5.]\n [3. 3. 3. 3.]\n [1. 1. 1. 1.]]\n"
     ],
     "output_type": "stream"
    }
   ],
   "source": [
    "# 传入用于指定顺序的整数列表或ndarray\n",
    "print(arr[[4,3,0,6]])\n",
    "# 从末尾-1开始取\n",
    "print(arr[[-3,-5,-7]])"
   ],
   "metadata": {
    "collapsed": false,
    "pycharm": {
     "name": "#%%\n",
     "is_executing": false
    }
   }
  },
  {
   "cell_type": "code",
   "execution_count": 22,
   "outputs": [
    {
     "name": "stdout",
     "text": [
      "[[ 0  1  2  3]\n [ 4  5  6  7]\n [ 8  9 10 11]\n [12 13 14 15]\n [16 17 18 19]\n [20 21 22 23]\n [24 25 26 27]\n [28 29 30 31]]\n"
     ],
     "output_type": "stream"
    }
   ],
   "source": [
    "arr = np.arange(32).reshape((8,4))\n",
    "print(arr)"
   ],
   "metadata": {
    "collapsed": false,
    "pycharm": {
     "name": "#%%\n",
     "is_executing": false
    }
   }
  },
  {
   "cell_type": "code",
   "execution_count": 23,
   "outputs": [
    {
     "name": "stdout",
     "text": [
      "[ 4 23 29 10]\n"
     ],
     "output_type": "stream"
    }
   ],
   "source": [
    "# 第一个数组是取第几行，第二个数组是取对应行的第几个元素\n",
    "print(arr[[1,5,7,2],[0,3,1,2]])\n"
   ],
   "metadata": {
    "collapsed": false,
    "pycharm": {
     "name": "#%%\n",
     "is_executing": false
    }
   }
  },
  {
   "cell_type": "code",
   "execution_count": 24,
   "outputs": [
    {
     "name": "stdout",
     "text": [
      "[[ 4  7  5  6]\n [20 23 21 22]\n [28 31 29 30]\n [ 8 11  9 10]]\n"
     ],
     "output_type": "stream"
    }
   ],
   "source": [
    "# 取矩形区域\n",
    "\n",
    "# 先选取1 5 7 2行，得到一个数组，\n",
    "# 再数组每行的所有元素，再按照0,3,1,2顺序取每行的元素 \n",
    "# 【取特定行，对每行元素重新排序】\n",
    "print(arr[[1,5,7,2]][:,[0,3,1,2]])"
   ],
   "metadata": {
    "collapsed": false,
    "pycharm": {
     "name": "#%%\n",
     "is_executing": false
    }
   }
  },
  {
   "cell_type": "code",
   "execution_count": 25,
   "outputs": [
    {
     "name": "stdout",
     "text": [
      "(array([[1],\n       [5],\n       [7],\n       [2]]), array([[0, 3, 1, 2]]))\n"
     ],
     "output_type": "stream"
    }
   ],
   "source": [
    "# 将两个以一维整数数组转换为一个用于选取矩形区域的索引器\n",
    "\"\"\"\n",
    "Using `ix_` one can quickly construct index arrays that will index\n",
    "the cross product. ``a[np.ix_([1,3],[2,5])]`` returns the array\n",
    "``[[a[1,2] a[1,5]], [a[3,2] a[3,5]]]``.\n",
    "\"\"\"\n",
    "print(np.ix_([1,5,7,2],[0,3,1,2]))\n",
    "print(arr[np.ix_([1,5,7,2],[0,3,1,2])])"
   ],
   "metadata": {
    "collapsed": false,
    "pycharm": {
     "name": "#%%\n",
     "is_executing": false
    }
   }
  },
  {
   "cell_type": "markdown",
   "source": [
    "## 数组转置和轴对换"
   ],
   "metadata": {
    "collapsed": false
   }
  },
  {
   "cell_type": "code",
   "execution_count": 9,
   "outputs": [
    {
     "name": "stdout",
     "text": [
      "[[ 0  1  2  3  4]\n [ 5  6  7  8  9]\n [10 11 12 13 14]]\n[[ 0  5 10]\n [ 1  6 11]\n [ 2  7 12]\n [ 3  8 13]\n [ 4  9 14]]\n"
     ],
     "output_type": "stream"
    }
   ],
   "source": [
    "arr = np.arange(15).reshape((3,5))\n",
    "print(arr)\n",
    "\n",
    "arrt = arr.T\n",
    "print(arrt)"
   ],
   "metadata": {
    "collapsed": false,
    "pycharm": {
     "name": "#%%\n",
     "is_executing": false
    }
   }
  },
  {
   "cell_type": "code",
   "execution_count": 10,
   "outputs": [
    {
     "name": "stdout",
     "text": [
      "[[ 0  1  2  3  4]\n [ 5  6  7  8  9]\n [10 11 12 13 14]]\n[[ 0  5 10]\n [ 1  6 11]\n [ 2  7 12]\n [ 3  8 13]\n [ 4  9 14]]\n"
     ],
     "output_type": "stream"
    }
   ],
   "source": [
    "# 二维坐标轴\n",
    "print(arr.transpose((0,1)))\n",
    "print(arr.transpose((1,0)))"
   ],
   "metadata": {
    "collapsed": false,
    "pycharm": {
     "name": "#%%\n",
     "is_executing": false
    }
   }
  },
  {
   "cell_type": "code",
   "execution_count": 4,
   "outputs": [
    {
     "name": "stdout",
     "text": [
      "[[  0 999  10]\n [  1   6  11]\n [  2   7  12]\n [  3   8  13]\n [  4   9  14]]\n[[  0   1   2   3   4]\n [999   6   7   8   9]\n [ 10  11  12  13  14]]\n"
     ],
     "output_type": "stream"
    }
   ],
   "source": [
    "# 会修改到源数据\n",
    "arrt[0,1] = 999\n",
    "print(arrt)\n",
    "print(arr)"
   ],
   "metadata": {
    "collapsed": false,
    "pycharm": {
     "name": "#%%\n",
     "is_executing": false
    }
   }
  },
  {
   "cell_type": "code",
   "execution_count": 5,
   "outputs": [
    {
     "name": "stdout",
     "text": [
      "[[ 6.70002934 -0.35599228  2.7046997 ]\n [-0.35599228  7.02082114 -4.16147673]\n [ 2.7046997  -4.16147673 10.81892122]]\n"
     ],
     "output_type": "stream"
    }
   ],
   "source": [
    "# 计算内积\n",
    "arr = np.random.randn(6,3)\n",
    "print(np.dot(arr.T,arr))"
   ],
   "metadata": {
    "collapsed": false,
    "pycharm": {
     "name": "#%%\n",
     "is_executing": false
    }
   }
  },
  {
   "cell_type": "code",
   "execution_count": 8,
   "outputs": [
    {
     "name": "stdout",
     "text": [
      "[[[ 0  1  2  3]\n  [ 4  5  6  7]]\n\n [[ 8  9 10 11]\n  [12 13 14 15]]]\n[[[ 0  1  2  3]\n  [ 8  9 10 11]]\n\n [[ 4  5  6  7]\n  [12 13 14 15]]]\n"
     ],
     "output_type": "stream"
    }
   ],
   "source": [
    "# 三维坐标轴\n",
    "# 将数据放入坐标轴中，更改坐标轴，再依次取出数据\n",
    "# 0，0，0 -> 0\n",
    "# 0，1，0 -> 4\n",
    "arr = np.arange(16).reshape((2, 2, 4))\n",
    "print(arr)\n",
    "print(arr.transpose((1,0,2)))"
   ],
   "metadata": {
    "collapsed": false,
    "pycharm": {
     "name": "#%%\n",
     "is_executing": false
    }
   }
  },
  {
   "cell_type": "code",
   "execution_count": 13,
   "outputs": [
    {
     "name": "stdout",
     "text": [
      "[[[ 0  4]\n  [ 1  5]\n  [ 2  6]\n  [ 3  7]]\n\n [[ 8 12]\n  [ 9 13]\n  [10 14]\n  [11 15]]]\n"
     ],
     "output_type": "stream"
    }
   ],
   "source": [
    "arr = np.arange(16).reshape((2, 2, 4))\n",
    "# 转换y\\z轴；x轴不变，所以还是[[],[]]\n",
    "print(arr.swapaxes(1,2))"
   ],
   "metadata": {
    "collapsed": false,
    "pycharm": {
     "name": "#%%\n",
     "is_executing": false
    }
   }
  }
 ],
 "metadata": {
  "kernelspec": {
   "display_name": "Python 3",
   "language": "python",
   "name": "python3"
  },
  "language_info": {
   "codemirror_mode": {
    "name": "ipython",
    "version": 2
   },
   "file_extension": ".py",
   "mimetype": "text/x-python",
   "name": "python",
   "nbconvert_exporter": "python",
   "pygments_lexer": "ipython2",
   "version": "2.7.6"
  },
  "pycharm": {
   "stem_cell": {
    "cell_type": "raw",
    "source": [],
    "metadata": {
     "collapsed": false
    }
   }
  }
 },
 "nbformat": 4,
 "nbformat_minor": 0
}