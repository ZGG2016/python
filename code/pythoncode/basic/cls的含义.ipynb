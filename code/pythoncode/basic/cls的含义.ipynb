{
 "cells": [
  {
   "cell_type": "markdown",
   "metadata": {
    "collapsed": true,
    "pycharm": {
     "name": "#%% md\n"
    }
   },
   "source": [
    "cls表示类本身，self为类的一个实例\n"
   ]
  },
  {
   "cell_type": "code",
   "execution_count": null,
   "outputs": [],
   "source": [
    "# 以django中View类为例\n",
    "class View:\n",
    "    http_method_names = [\n",
    "        \"get\",\n",
    "        \"post\",\n",
    "        \"put\",\n",
    "        \"patch\",\n",
    "        \"delete\",\n",
    "        \"head\",\n",
    "        \"options\",\n",
    "        \"trace\",\n",
    "    ]\n",
    "\n",
    "    def __init__(self, **kwargs):\n",
    "        for key, value in kwargs.items():\n",
    "            setattr(self, key, value)\n",
    "\n",
    "    @classonlymethod\n",
    "    def as_view(cls, **initkwargs):\n",
    "        for key in initkwargs:\n",
    "            # 类的属性引用\n",
    "            if key in cls.http_method_names:\n",
    "                raise TypeError(\n",
    "                    \"The method name %s is not accepted as a keyword argument \"\n",
    "                    \"to %s().\" % (key, cls.__name__)\n",
    "                )\n",
    "            if not hasattr(cls, key):\n",
    "                raise TypeError(\n",
    "                    \"%s() received an invalid keyword %r. as_view \"\n",
    "                    \"only accepts arguments that are already \"\n",
    "                    \"attributes of the class.\" % (cls.__name__, key)\n",
    "                )\n",
    "\n",
    "        def view(request, *args, **kwargs):\n",
    "            # 类实例化一个对象\n",
    "            self = cls(**initkwargs)\n",
    "            self.setup(request, *args, **kwargs)\n",
    "            if not hasattr(self, \"request\"):\n",
    "                raise AttributeError(\n",
    "                    \"%s instance has no 'request' attribute. Did you override \"\n",
    "                    \"setup() and forget to call super()?\" % cls.__name__\n",
    "                )\n",
    "            return self.dispatch(request, *args, **kwargs)\n",
    "\n",
    "        view.view_class = cls\n",
    "        view.view_initkwargs = initkwargs\n",
    "\n",
    "        view.__doc__ = cls.__doc__\n",
    "        view.__module__ = cls.__module__\n",
    "        view.__annotations__ = cls.dispatch.__annotations__\n",
    "        # Copy possible attributes set by decorators, e.g. @csrf_exempt, from\n",
    "        # the dispatch method.\n",
    "        view.__dict__.update(cls.dispatch.__dict__)\n",
    "\n",
    "        return view\n",
    "\n",
    "    def setup(self, request, *args, **kwargs):\n",
    "        \"\"\"Initialize attributes shared by all view methods.\"\"\"\n",
    "        if hasattr(self, \"get\") and not hasattr(self, \"head\"):\n",
    "            self.head = self.get\n",
    "        self.request = request\n",
    "        self.args = args\n",
    "        self.kwargs = kwargs\n",
    "\n",
    "    def dispatch(self, request, *args, **kwargs):\n",
    "        # Try to dispatch to the right method; if a method doesn't exist,\n",
    "        # defer to the error handler. Also defer to the error handler if the\n",
    "        # request method isn't on the approved list.\n",
    "        if request.method.lower() in self.http_method_names:\n",
    "            handler = getattr(\n",
    "                self, request.method.lower(), self.http_method_not_allowed\n",
    "            )\n",
    "        else:\n",
    "            handler = self.http_method_not_allowed\n",
    "        return handler(request, *args, **kwargs)\n",
    "\n",
    "    def http_method_not_allowed(self, request, *args, **kwargs):\n",
    "        logger.warning(\n",
    "            \"Method Not Allowed (%s): %s\",\n",
    "            request.method,\n",
    "            request.path,\n",
    "            extra={\"status_code\": 405, \"request\": request},\n",
    "        )\n",
    "        return HttpResponseNotAllowed(self._allowed_methods())\n",
    "\n",
    "    def options(self, request, *args, **kwargs):\n",
    "        \"\"\"Handle responding to requests for the OPTIONS HTTP verb.\"\"\"\n",
    "        response = HttpResponse()\n",
    "        response.headers[\"Allow\"] = \", \".join(self._allowed_methods())\n",
    "        response.headers[\"Content-Length\"] = \"0\"\n",
    "        return response\n",
    "\n",
    "    def _allowed_methods(self):\n",
    "        return [m.upper() for m in self.http_method_names if hasattr(self, m)]\n"
   ],
   "metadata": {
    "collapsed": false,
    "pycharm": {
     "name": "#%%\n"
    }
   }
  }
 ],
 "metadata": {
  "kernelspec": {
   "display_name": "Python 3",
   "language": "python",
   "name": "python3"
  },
  "language_info": {
   "codemirror_mode": {
    "name": "ipython",
    "version": 2
   },
   "file_extension": ".py",
   "mimetype": "text/x-python",
   "name": "python",
   "nbconvert_exporter": "python",
   "pygments_lexer": "ipython2",
   "version": "2.7.6"
  }
 },
 "nbformat": 4,
 "nbformat_minor": 0
}