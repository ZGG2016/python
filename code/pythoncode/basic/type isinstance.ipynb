{
 "cells": [
  {
   "cell_type": "markdown",
   "metadata": {
    "collapsed": true,
    "pycharm": {
     "name": "#%% md\n"
    }
   },
   "source": [
    "## type\n",
    "```\n",
    "type(object) -> 返回对象的类型\n",
    "type(name, bases, dict) -> 返回一个新类型\n",
    "```"
   ]
  },
  {
   "cell_type": "code",
   "execution_count": 17,
   "outputs": [
    {
     "name": "stdout",
     "output_type": "stream",
     "text": [
      "<class 'str'>\n",
      "<class '__main__.A'>\n",
      "<class '__main__.AA'>\n",
      "<__main__.AA object at 0x0000028305FAFE50>\n",
      "zhangsan\n",
      "new A type\n"
     ]
    }
   ],
   "source": [
    "print(type('zhangsan'))\n",
    "\n",
    "class A:\n",
    "    pass\n",
    "a = A()\n",
    "print(type(a))\n",
    "\n",
    "AA = type('AA', (A,), {'name':'zhangsan','__doc__':'new A type'})  # 第二个参数是元组类型\n",
    "aa = AA()\n",
    "print(type(aa))\n",
    "print(aa)\n",
    "print(aa.name)\n",
    "print(aa.__doc__)"
   ],
   "metadata": {
    "collapsed": false,
    "pycharm": {
     "name": "#%%\n"
    }
   }
  },
  {
   "cell_type": "markdown",
   "source": [
    "## isinstance\n",
    "```\n",
    "def isinstance(x, A_tuple)\n",
    "```"
   ],
   "metadata": {
    "collapsed": false
   }
  },
  {
   "cell_type": "code",
   "execution_count": 16,
   "outputs": [
    {
     "name": "stdout",
     "output_type": "stream",
     "text": [
      "True\n",
      "True\n",
      "True\n",
      "False\n",
      "True\n",
      "False\n"
     ]
    }
   ],
   "source": [
    "class A:\n",
    "    pass\n",
    "\n",
    "class B(A):\n",
    "    pass\n",
    "\n",
    "class C:\n",
    "    pass\n",
    "\n",
    "class D:\n",
    "    pass\n",
    "\n",
    "b = B()\n",
    "print(isinstance(b, B))\n",
    "print(isinstance(b, A))\n",
    "print(isinstance(b, (B, C)))  # isinstance(b, B) or isinstance(b, C)\n",
    "print(isinstance(b, (C, D)))\n",
    "# type 和 isinstance 区别\n",
    "print(type(b) == B)\n",
    "print(type(b) == A) # False"
   ],
   "metadata": {
    "collapsed": false,
    "pycharm": {
     "name": "#%%\n"
    }
   }
  }
 ],
 "metadata": {
  "kernelspec": {
   "display_name": "Python 3",
   "language": "python",
   "name": "python3"
  },
  "language_info": {
   "codemirror_mode": {
    "name": "ipython",
    "version": 2
   },
   "file_extension": ".py",
   "mimetype": "text/x-python",
   "name": "python",
   "nbconvert_exporter": "python",
   "pygments_lexer": "ipython2",
   "version": "2.7.6"
  }
 },
 "nbformat": 4,
 "nbformat_minor": 0
}