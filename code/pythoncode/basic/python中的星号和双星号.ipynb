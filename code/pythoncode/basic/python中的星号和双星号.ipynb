{
 "cells": [
  {
   "cell_type": "markdown",
   "metadata": {
    "collapsed": true,
    "pycharm": {
     "name": "#%% md\n"
    }
   },
   "source": [
    "## python中的 * 和 **\n"
   ]
  },
  {
   "cell_type": "code",
   "execution_count": 4,
   "outputs": [
    {
     "name": "stdout",
     "output_type": "stream",
     "text": [
      "('zhangsan', 'lisi', 'wangyu')\n",
      "{'gender': 'man', 'age': 20}\n"
     ]
    }
   ],
   "source": [
    "# 在函数的形参中: *接收位置参数 **接收关键字参数\n",
    "def f1(*args, **kwargs):\n",
    "    print(args)\n",
    "    print(kwargs)\n",
    "\n",
    "f1(\"zhangsan\", \"lisi\", \"wangyu\", gender=\"man\", age=20)"
   ],
   "metadata": {
    "collapsed": false,
    "pycharm": {
     "name": "#%%\n"
    }
   }
  },
  {
   "cell_type": "code",
   "execution_count": 7,
   "outputs": [
    {
     "name": "stdout",
     "output_type": "stream",
     "text": [
      "zhangsan\n",
      "lisi\n",
      "----------------\n",
      "zhangsan\n",
      "lisi\n"
     ]
    }
   ],
   "source": [
    "# 在函数实参中: 分配参数\n",
    "def f2(x, y):\n",
    "    print(x)\n",
    "    print(y)\n",
    "\n",
    "f2(*(\"zhangsan\", \"lisi\"))\n",
    "print(\"----------------\")\n",
    "f2(**{\"x\": \"zhangsan\", \"y\": \"lisi\"})"
   ],
   "metadata": {
    "collapsed": false,
    "pycharm": {
     "name": "#%%\n"
    }
   }
  },
  {
   "cell_type": "code",
   "execution_count": 9,
   "outputs": [
    {
     "name": "stdout",
     "output_type": "stream",
     "text": [
      "1\n",
      "2\n",
      "[3, 4, 5]\n",
      "1\n",
      "2\n",
      "[3, 4, 5]\n"
     ]
    }
   ],
   "source": [
    "#\n",
    "a, b, *c = [1, 2, 3, 4, 5]\n",
    "print(a)\n",
    "print(b)\n",
    "print(c) # [3, 4, 5]\n",
    "\n",
    "d, e, *f = (1, 2, 3, 4, 5)\n",
    "print(d)\n",
    "print(e)\n",
    "print(f)"
   ],
   "metadata": {
    "collapsed": false,
    "pycharm": {
     "name": "#%%\n"
    }
   }
  }
 ],
 "metadata": {
  "kernelspec": {
   "display_name": "Python 3",
   "language": "python",
   "name": "python3"
  },
  "language_info": {
   "codemirror_mode": {
    "name": "ipython",
    "version": 2
   },
   "file_extension": ".py",
   "mimetype": "text/x-python",
   "name": "python",
   "nbconvert_exporter": "python",
   "pygments_lexer": "ipython2",
   "version": "2.7.6"
  }
 },
 "nbformat": 4,
 "nbformat_minor": 0
}