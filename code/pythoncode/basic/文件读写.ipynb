{
 "cells": [
  {
   "cell_type": "markdown",
   "metadata": {
    "collapsed": true,
    "pycharm": {
     "name": "#%% md\n"
    }
   },
   "source": [
    "## 读\n",
    "- read([n])：从文件当前位置起读取 n 个字节，若无参数，则表示读取至文件结束为止，返回字符串对象\n",
    "- readline()：读取文件中的一行，返回读取的一行数据，字符串形式。\n",
    "- readlines()：读取文件中的所有行，返回所有行为元素组成的列表。"
   ]
  },
  {
   "cell_type": "code",
   "execution_count": 5,
   "outputs": [
    {
     "name": "stdout",
     "output_type": "stream",
     "text": [
      "Sample data warehouse\n",
      "Enhanced slowly changing\n",
      "Recommended best practices\n",
      "<class 'str'>\n",
      "----------------------\n",
      "Sample dat\n",
      "<class 'str'>\n",
      "----------------------\n",
      "Sample data warehouse\n",
      "\n",
      "<class 'str'>\n",
      "----------------------\n",
      "['Sample data warehouse\\n', 'Enhanced slowly changing\\n', 'Recommended best practices']\n",
      "<class 'list'>\n",
      "----------------------\n"
     ]
    }
   ],
   "source": [
    "# 读全部字节\n",
    "with open('./resource/data.txt','r') as f:\n",
    "    tmp = f.read()\n",
    "    print(tmp)\n",
    "    print(type(tmp))\n",
    "print(\"----------------------\")\n",
    "\n",
    "# 读10个字节\n",
    "with open('./resource/data.txt','r') as f:\n",
    "    tmp = f.read(10)\n",
    "    print(tmp)\n",
    "    print(type(tmp))\n",
    "print(\"----------------------\")\n",
    "\n",
    "# 读取文件中的一行，返回读取的一行数据，字符串。\n",
    "with open('./resource/data.txt','r') as f:\n",
    "    tmp = f.readline()\n",
    "    print(tmp)\n",
    "    print(type(tmp))\n",
    "print(\"----------------------\")\n",
    "\n",
    "# 读取文件中的所有行，返回所有行为元素组成的列表。\n",
    "with open('./resource/data.txt','r') as f:\n",
    "    tmp = f.readlines()\n",
    "    print(tmp)\n",
    "    print(type(tmp))\n",
    "print(\"----------------------\")"
   ],
   "metadata": {
    "collapsed": false,
    "pycharm": {
     "name": "#%%\n"
    }
   }
  },
  {
   "cell_type": "code",
   "execution_count": 6,
   "outputs": [
    {
     "name": "stdout",
     "output_type": "stream",
     "text": [
      "Enhanced slowly changing\n",
      "\n"
     ]
    }
   ],
   "source": [
    "# 使用 linecache 模块读文件的第 n 行：\n",
    "import linecache\n",
    "# 读第二行\n",
    "sline = linecache.getline('./resource/data.txt', 2)\n",
    "print(sline)"
   ],
   "metadata": {
    "collapsed": false,
    "pycharm": {
     "name": "#%%\n"
    }
   }
  },
  {
   "cell_type": "markdown",
   "source": [
    "## 写\n",
    "- write()：写入字符串的所有字节，返回写入的字符数。必须是字符串。\n",
    "- writelines()：参数需要是可迭代类型，可以是字符串，可以是列表，但其元素必须是字符串。返回None。相当与`for line in list: f.write(line)`。注意，写入字典时，只写入键。\n"
   ],
   "metadata": {
    "collapsed": false,
    "pycharm": {
     "name": "#%% md\n"
    }
   }
  },
  {
   "cell_type": "code",
   "execution_count": 9,
   "outputs": [
    {
     "name": "stdout",
     "output_type": "stream",
     "text": [
      "3\n",
      "<class 'int'>\n",
      "3\n",
      "<class 'int'>\n",
      "----------------------\n",
      "None\n",
      "<class 'NoneType'>\n",
      "None\n",
      "<class 'NoneType'>\n",
      "----------------------\n"
     ]
    },
    {
     "ename": "TypeError",
     "evalue": "'int' object is not iterable",
     "output_type": "error",
     "traceback": [
      "\u001B[1;31m---------------------------------------------------------------------------\u001B[0m",
      "\u001B[1;31mTypeError\u001B[0m                                 Traceback (most recent call last)",
      "\u001B[1;32m~\\AppData\\Local\\Temp/ipykernel_22960/3305673513.py\u001B[0m in \u001B[0;36m<module>\u001B[1;34m\u001B[0m\n\u001B[0;32m     30\u001B[0m \u001B[1;31m# 参数需要是可迭代类型\u001B[0m\u001B[1;33m\u001B[0m\u001B[1;33m\u001B[0m\u001B[1;33m\u001B[0m\u001B[0m\n\u001B[0;32m     31\u001B[0m \u001B[1;32mwith\u001B[0m \u001B[0mopen\u001B[0m\u001B[1;33m(\u001B[0m\u001B[1;34m'./data/data2.txt'\u001B[0m\u001B[1;33m,\u001B[0m\u001B[1;34m'w'\u001B[0m\u001B[1;33m)\u001B[0m \u001B[1;32mas\u001B[0m \u001B[0mf\u001B[0m\u001B[1;33m:\u001B[0m\u001B[1;33m\u001B[0m\u001B[1;33m\u001B[0m\u001B[0m\n\u001B[1;32m---> 32\u001B[1;33m     \u001B[0mtmp\u001B[0m \u001B[1;33m=\u001B[0m \u001B[0mf\u001B[0m\u001B[1;33m.\u001B[0m\u001B[0mwritelines\u001B[0m\u001B[1;33m(\u001B[0m\u001B[1;36m123\u001B[0m\u001B[1;33m)\u001B[0m\u001B[1;33m\u001B[0m\u001B[1;33m\u001B[0m\u001B[0m\n\u001B[0m\u001B[0;32m     33\u001B[0m     \u001B[0mprint\u001B[0m\u001B[1;33m(\u001B[0m\u001B[0mtmp\u001B[0m\u001B[1;33m)\u001B[0m\u001B[1;33m\u001B[0m\u001B[1;33m\u001B[0m\u001B[0m\n\u001B[0;32m     34\u001B[0m     \u001B[0mprint\u001B[0m\u001B[1;33m(\u001B[0m\u001B[0mtype\u001B[0m\u001B[1;33m(\u001B[0m\u001B[0mtmp\u001B[0m\u001B[1;33m)\u001B[0m\u001B[1;33m)\u001B[0m\u001B[1;33m\u001B[0m\u001B[1;33m\u001B[0m\u001B[0m\n",
      "\u001B[1;31mTypeError\u001B[0m: 'int' object is not iterable"
     ]
    }
   ],
   "source": [
    "# 写入一个字符串，返回写入的字符数，总是等于字符串的长度\n",
    "with open('./resource/data2.txt','w') as f:\n",
    "    tmp1 = f.write(\"aaa\")\n",
    "    print(tmp1)\n",
    "    print(type(tmp1))\n",
    "\n",
    "    tmp2 = f.write(\"bbb\")\n",
    "    print(tmp2)\n",
    "    print(type(tmp2))\n",
    "print(\"----------------------\")\n",
    "\n",
    "# 必须是字符串\n",
    "# with open('./resource/data2.txt','w') as f:\n",
    "#     tmp = f.write(['aaa'])\n",
    "#     print(tmp) # TypeError: write() argument must be str, not list\n",
    "#     print(type(tmp))\n",
    "# print(\"----------------------\")\n",
    "\n",
    "# 写入一个字符串，返回Node，类型为NoneType\n",
    "with open('./resource/data2.txt','w') as f:\n",
    "    tmp1 = f.writelines(\"aaa\")\n",
    "    print(tmp1)\n",
    "    print(type(tmp1))\n",
    "\n",
    "    tmp2 = f.writelines(\"bbb\")\n",
    "    print(tmp2)\n",
    "    print(type(tmp2))\n",
    "print(\"----------------------\")\n",
    "\n",
    "# 参数需要是可迭代类型\n",
    "# with open('./resource/data2.txt','w') as f:\n",
    "#     tmp = f.writelines(123)\n",
    "#     print(tmp)  # TypeError: 'int' object is not iterable\n",
    "#     print(type(tmp))\n",
    "# print(\"----------------------\")\n",
    "\n",
    "# 写入一个列表\n",
    "with open('./resource/data2.txt','w') as f:\n",
    "    tmp = f.writelines([\"aaa\"])\n",
    "    print(tmp)\n",
    "    print(type(tmp))\n",
    "print(\"----------------------\")\n",
    "\n",
    "# 写入一个字典\n",
    "with open('./resource/data2.txt','w') as f:\n",
    "    tmp1 = f.writelines({\"a\":\"123\",\"b\":\"456\"})\n",
    "    print(tmp1)\n",
    "    print(type(tmp1))\n",
    "print(\"----------------------\")\n",
    "\n",
    "# 可迭代类型里面的元素必须是字符串\n",
    "with open('./resource/data2.txt','w') as f:\n",
    "    tmp = f.writelines([123])\n",
    "    print(tmp)  # TypeError: write() argument must be str, not int\n",
    "    print(type(tmp))\n"
   ],
   "metadata": {
    "collapsed": false,
    "pycharm": {
     "name": "#%%\n"
    }
   }
  }
 ],
 "metadata": {
  "kernelspec": {
   "display_name": "Python 3",
   "language": "python",
   "name": "python3"
  },
  "language_info": {
   "codemirror_mode": {
    "name": "ipython",
    "version": 2
   },
   "file_extension": ".py",
   "mimetype": "text/x-python",
   "name": "python",
   "nbconvert_exporter": "python",
   "pygments_lexer": "ipython2",
   "version": "2.7.6"
  }
 },
 "nbformat": 4,
 "nbformat_minor": 0
}