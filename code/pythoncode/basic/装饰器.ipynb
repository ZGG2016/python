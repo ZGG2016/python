{
 "cells": [
  {
   "cell_type": "markdown",
   "metadata": {
    "collapsed": true,
    "pycharm": {
     "name": "#%% md\n"
    }
   },
   "source": [
    "## 1 高阶函数"
   ]
  },
  {
   "cell_type": "code",
   "source": [
    "# 函数定义与调用\n",
    "def f(x, y):\n",
    "    print(\"function: f(x, y)......\")\n",
    "    return (x + y) * 2\n",
    "\n",
    "print(f)\n",
    "print(f(1, 2))\n",
    "print(\"----------------\")\n",
    "\n",
    "# 函数作为值进行传递\n",
    "f1 = f\n",
    "print(f1)\n",
    "print(f1(1, 2))\n",
    "print(\"----------------\")\n",
    "\n",
    "# 函数作为参数进行传递\n",
    "def f3(x, y, func):\n",
    "    print(\"function: f3(x, y, func)......\")\n",
    "    return func(x, y)\n",
    "\n",
    "print(f3)\n",
    "print(f3(1, 2, f))\n",
    "print(\"----------------\")\n",
    "\n",
    "# 函数作为函数返回值返回\n",
    "def f4():\n",
    "    def func():\n",
    "        return 1\n",
    "    return func\n",
    "\n",
    "print(f4)\n",
    "print(f4())\n",
    "print(f4()())\n",
    "# print(f4()()) ==>\n",
    "t = f4()\n",
    "print(t())"
   ],
   "metadata": {
    "collapsed": false,
    "pycharm": {
     "name": "#%%\n"
    }
   },
   "execution_count": 8,
   "outputs": [
    {
     "name": "stdout",
     "output_type": "stream",
     "text": [
      "<function f at 0x000001FDF3525A60>\n",
      "function: f(x, y)......\n",
      "6\n",
      "----------------\n",
      "<function f at 0x000001FDF3525A60>\n",
      "function: f(x, y)......\n",
      "6\n",
      "----------------\n",
      "<function f3 at 0x000001FDF3522550>\n",
      "function: f3(x, y, func)......\n",
      "function: f(x, y)......\n",
      "6\n",
      "----------------\n",
      "<function f4 at 0x000001FDF3522C10>\n",
      "<function f4.<locals>.func at 0x000001FDF3522D30>\n",
      "1\n",
      "1\n"
     ]
    }
   ]
  },
  {
   "cell_type": "code",
   "execution_count": 15,
   "outputs": [
    {
     "name": "stdout",
     "output_type": "stream",
     "text": [
      "[1, 4, 9]\n",
      "----------------\n",
      "6\n",
      "----------------\n",
      "[1, 3]\n",
      "----------------\n",
      "[1, -2, 4, -6]\n",
      "[('a', 1), ('b', 2), ('c', 3), ('d', 4)]\n"
     ]
    }
   ],
   "source": [
    "from functools import reduce\n",
    "\n",
    "# 一些高阶函数\n",
    "# map\n",
    "def f5(x):\n",
    "    return x * x\n",
    "\n",
    "m = map(f5, [1, 2, 3])\n",
    "print(list(m))\n",
    "print(\"----------------\")\n",
    "\n",
    "# reduce\n",
    "def f6(x ,y):\n",
    "    return x + y\n",
    "r = reduce(f6, [1, 2, 3])\n",
    "print(r)\n",
    "print(\"----------------\")\n",
    "\n",
    "# filter\n",
    "def f7(x):\n",
    "    return x % 2 == 1\n",
    "fi = filter(f7, [1, 2, 3])\n",
    "print(list(fi))\n",
    "print(\"----------------\")\n",
    "\n",
    "# sorted\n",
    "s = sorted([4, -2, 1, -6], key=abs)\n",
    "print(s)\n",
    "\n",
    "d = [('c',3), ('a',1), ('d',4), ('b',2)]\n",
    "def f8(x):\n",
    "    return x[1]\n",
    "ss = sorted(d, key=f8)\n",
    "print(ss)"
   ],
   "metadata": {
    "collapsed": false,
    "pycharm": {
     "name": "#%%\n"
    }
   }
  },
  {
   "cell_type": "markdown",
   "source": [
    "## 2 闭包\n",
    "如果一个函数，访问到了它的外部（局部）变量的值，那么这个函数和他所处的环境，称为闭包。\n",
    "\n",
    "参考：[https://www.liaoxuefeng.com/wiki/1016959663602400/1017434209254976](https://www.liaoxuefeng.com/wiki/1016959663602400/1017434209254976)"
   ],
   "metadata": {
    "collapsed": false,
    "pycharm": {
     "name": "#%% md\n"
    }
   }
  },
  {
   "cell_type": "code",
   "execution_count": 19,
   "outputs": [
    {
     "name": "stdout",
     "output_type": "stream",
     "text": [
      "<function lazy_sum at 0x000001FDF1990F70>\n",
      "<function lazy_sum.<locals>.add at 0x000001FDF1990AF0>\n",
      "6\n"
     ]
    }
   ],
   "source": [
    "def lazy_sum(*args):\n",
    "    def add():\n",
    "        ax = 0\n",
    "        for n in args:\n",
    "            ax = ax + n\n",
    "        return ax\n",
    "    return add\n",
    "\n",
    "ls = lazy_sum(1, 2, 3)\n",
    "print(lazy_sum)\n",
    "# `ls = lazy_sum(1, 2, 3)` 返回的是 add 函数，此时并不会被立即执行计算结果，而是执行 `ls()` 调用这个函数时才能输出结果\n",
    "print(ls)\n",
    "print(ls())\n",
    "\n",
    "# 内部的 add 函数引用了其外部的 args 变量，\n",
    "# 当 lazy_sum 执行完成，返回 add 函数时，args 变量保存在返回的 add 函数中\n",
    "# （应该随着 lazy_sum 执行完成，释放 args 变量占用的空间，但它没有释放，保存在了 add 函数中），\n",
    "# 当调用 add 函数时，就会使用这个 args 变量，输出结果。"
   ],
   "metadata": {
    "collapsed": false,
    "pycharm": {
     "name": "#%%\n"
    }
   }
  },
  {
   "cell_type": "code",
   "source": [
    "# 返回函数不要引用任何循环变量，或者后续会发生变化的变量\n",
    "def count():\n",
    "    fs = []\n",
    "    for i in range(1, 4):\n",
    "        def f9():\n",
    "             return i*i\n",
    "        print(\"f9...\", f9)\n",
    "        fs.append(f9)\n",
    "    return fs\n",
    "\n",
    "f91, f92, f93 = count()\n",
    "print(f91)\n",
    "print(f92)\n",
    "print(f93)\n",
    "# 以下结果都是9\n",
    "# 定义的f9函数引用了外部的变量i，\n",
    "# 执行 `f91, f92, f93 = count()` 后，f9函数并不会被立即执行，只是把定义的这个f9函数放进了一个列表里，而此时，i已变成了3，\n",
    "# 当调用这三个函数时，函数执行计算结果，结果都成为了9\n",
    "print(f91())\n",
    "print(f92())\n",
    "print(f93())"
   ],
   "metadata": {
    "collapsed": false,
    "pycharm": {
     "name": "#%%\n"
    }
   },
   "execution_count": null,
   "outputs": []
  },
  {
   "cell_type": "code",
   "execution_count": 24,
   "outputs": [
    {
     "name": "stdout",
     "output_type": "stream",
     "text": [
      "f10(i)... <function count.<locals>.f10.<locals>.g at 0x000001FDF3525430>\n",
      "f10(i)... <function count.<locals>.f10.<locals>.g at 0x000001FDF1990D30>\n",
      "f10(i)... <function count.<locals>.f10.<locals>.g at 0x000001FDF1990790>\n",
      "1\n",
      "4\n",
      "9\n"
     ]
    }
   ],
   "source": [
    "# 如果一定要引用循环变量怎么办？\n",
    "# 方法是再创建一个函数，用该函数的参数(j)绑定循环变量当前的值(i)，无论该循环变量后续如何更改，已绑定到函数参数的值不变\n",
    "# （传给f10的值i，就保存在了f10的局部变量中，此时，函数g引用的外部变量就是f10的局部变量）\n",
    "def count():\n",
    "    def f10(j):\n",
    "        def g():\n",
    "            return j*j\n",
    "        return g\n",
    "    fs = []\n",
    "    for i in range(1, 4):\n",
    "        print(\"f10(i)...\", f10(i))\n",
    "        fs.append(f10(i)) # f10(i)立刻被执行，因此i的当前值被传入f10()\n",
    "    return fs\n",
    "\n",
    "f101, f102, f103 = count()\n",
    "print(f101())\n",
    "print(f102())\n",
    "print(f103())"
   ],
   "metadata": {
    "collapsed": false,
    "pycharm": {
     "name": "#%%\n"
    }
   }
  },
  {
   "cell_type": "code",
   "source": [
    "# 使用闭包，就是内层函数引用了外层函数的局部变量。如果对外层变量赋值，就会存在问题，需要给引用的外部变量使用 nonlocal 修饰。\n",
    "# 不加上 `nonlocal x` 就表示 x 成为 fn 的局部变量，但没有初始化所以报错，\n",
    "# 加上 `nonlocal x` 就表示 x 不是 fn 的局部变量，且已被初始化\n",
    "def inc():\n",
    "    x = 0\n",
    "    def fn():\n",
    "        nonlocal x\n",
    "        x = x + 1\n",
    "        return x\n",
    "    return fn\n",
    "\n",
    "f = inc()\n",
    "print(f()) # 1\n",
    "print(f()) # 2\n",
    "\n",
    "# 所以，使用闭包时，对外层变量赋值前，需要先使用 nonlocal 声明该变量不是当前函数的局部变量"
   ],
   "metadata": {
    "collapsed": false,
    "pycharm": {
     "name": "#%%\n"
    }
   },
   "execution_count": 25,
   "outputs": [
    {
     "name": "stdout",
     "output_type": "stream",
     "text": [
      "1\n",
      "1\n"
     ]
    }
   ]
  },
  {
   "cell_type": "markdown",
   "source": [
    "## 3 装饰器\n",
    "\n",
    "[https://www.liaoxuefeng.com/wiki/1016959663602400/1017451662295584](https://www.liaoxuefeng.com/wiki/1016959663602400/1017451662295584)"
   ],
   "metadata": {
    "collapsed": false,
    "pycharm": {
     "name": "#%% md\n"
    }
   }
  },
  {
   "cell_type": "code",
   "execution_count": 33,
   "outputs": [
    {
     "name": "stdout",
     "output_type": "stream",
     "text": [
      "call now():\n",
      "2015-3-25\n",
      "-----------------------\n",
      "<function log.<locals>.wrapper at 0x000001FDF356F9D0>\n",
      "call wrapper():\n",
      "call now():\n",
      "2015-3-25\n"
     ]
    }
   ],
   "source": [
    "# 使用装饰器可以运行些预备代码，也可以在运行后执行一些清理工作。\n",
    "\n",
    "# 定义一个装饰器函数，它是一个高阶函数，返回值是一个函数，形成闭包。\n",
    "def log(func):\n",
    "    def wrapper(*args, **kw):\n",
    "        print('call %s():' % func.__name__)\n",
    "        return func(*args, **kw)\n",
    "    return wrapper\n",
    "\n",
    "\"\"\"\n",
    "用log装饰器修饰now()，相当于log(now)，返回 wrapper函数 对象，当使用这个对象时，会执行wrapper函数内的语句.\n",
    "\n",
    "wrapper()函数的参数定义是`(*args, **kw)`，因此，wrapper()函数可以接受任意参数的调用。\n",
    "\n",
    "在wrapper()函数内，首先打印日志，再紧接着调用原始函数。\n",
    "\"\"\"\n",
    "@log\n",
    "def now():\n",
    "    print('2015-3-25')\n",
    "\n",
    "now()\n",
    "print(\"-----------------------\")\n",
    "n = log(now)\n",
    "print(n)\n",
    "n()"
   ],
   "metadata": {
    "collapsed": false,
    "pycharm": {
     "name": "#%%\n"
    }
   }
  },
  {
   "cell_type": "code",
   "execution_count": 34,
   "outputs": [
    {
     "name": "stdout",
     "output_type": "stream",
     "text": [
      "execute now():\n",
      "2015-3-25\n"
     ]
    }
   ],
   "source": [
    "# 如果decorator本身需要传入参数，那就需要编写一个返回decorator的高阶函数，写出来会更复杂。比如，要自定义log的文本：\n",
    "def log(text):\n",
    "    def decorator(func):\n",
    "        def wrapper(*args, **kw):\n",
    "            print('%s %s():' % (text, func.__name__))\n",
    "            return func(*args, **kw)\n",
    "        return wrapper\n",
    "    return decorator\n",
    "\n",
    "# 这个3层嵌套的decorator用法如下：\n",
    "@log('execute')\n",
    "def now():\n",
    "    print('2015-3-25')\n",
    "now()\n",
    "print(\"-----------------------\")\n",
    "\n",
    "# 和两层嵌套的decorator相比，3层嵌套的效果是这样的：\n",
    "now = log('execute')(now)\n",
    "# 我们来剖析上面的语句，首先执行log(‘execute’)，返回的是decorator函数，再调用返回的函数，参数是now函数，返回值最终是wrapper函数。"
   ],
   "metadata": {
    "collapsed": false,
    "pycharm": {
     "name": "#%%\n"
    }
   }
  },
  {
   "cell_type": "code",
   "execution_count": null,
   "outputs": [],
   "source": [
    "# 以上两种decorator的定义都没有问题，但还差最后一步。因为我们讲了函数也是对象，它有__name__等属性，\n",
    "# 但你去看经过decorator装饰之后的函数，它们的__name__已经从原来的’now’变成了’wrapper’：\n",
    "\n",
    "print(now.__name__)\n",
    "\n",
    "# 因为返回的那个wrapper()函数名字就是’wrapper’，所以，需要把原始函数的__name__等属性复制到wrapper()函数中，否则，有些依赖函数签名的代码执行就会出错。\n",
    "\n",
    "# 不需要编写wrapper.__name__ = func.__name__这样的代码，Python内置的functools.wraps就是干这个事的，所以，一个完整的decorator的写法如下：\n",
    "\n",
    "import functools\n",
    "\n",
    "def log(func):\n",
    "    @functools.wraps(func)\n",
    "    def wrapper(*args, **kw):\n",
    "        print('call %s():' % func.__name__)\n",
    "        return func(*args, **kw)\n",
    "    return wrapper\n",
    "\n",
    "\n",
    "# 或者针对带参数的decorator：\n",
    "def log(text):\n",
    "    def decorator(func):\n",
    "        @functools.wraps(func)\n",
    "        def wrapper(*args, **kw):\n",
    "            print('%s %s():' % (text, func.__name__))\n",
    "            return func(*args, **kw)\n",
    "        return wrapper\n",
    "    return decorator\n"
   ],
   "metadata": {
    "collapsed": false,
    "pycharm": {
     "name": "#%%\n"
    }
   }
  }
 ],
 "metadata": {
  "kernelspec": {
   "display_name": "Python 3",
   "language": "python",
   "name": "python3"
  },
  "language_info": {
   "codemirror_mode": {
    "name": "ipython",
    "version": 2
   },
   "file_extension": ".py",
   "mimetype": "text/x-python",
   "name": "python",
   "nbconvert_exporter": "python",
   "pygments_lexer": "ipython2",
   "version": "2.7.6"
  }
 },
 "nbformat": 4,
 "nbformat_minor": 0
}