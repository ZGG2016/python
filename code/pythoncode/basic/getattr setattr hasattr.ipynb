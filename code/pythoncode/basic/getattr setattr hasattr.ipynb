{
 "cells": [
  {
   "cell_type": "markdown",
   "metadata": {
    "collapsed": true,
    "pycharm": {
     "name": "#%% md\n"
    }
   },
   "source": [
    "getattr 用于返回一个对象的属性值\n",
    "\n",
    "setattr 将一个对象的属性设置成给定的值"
   ]
  },
  {
   "cell_type": "code",
   "execution_count": 1,
   "outputs": [],
   "source": [
    "class Person:\n",
    "    name = \"zhangsan\"\n",
    "\n",
    "    def sleep(self):\n",
    "        print(\"person sleep....\")"
   ],
   "metadata": {
    "collapsed": false,
    "pycharm": {
     "name": "#%%\n"
    }
   }
  },
  {
   "cell_type": "code",
   "execution_count": 3,
   "outputs": [
    {
     "name": "stdout",
     "output_type": "stream",
     "text": [
      "zhangsan\n",
      "zhangsan\n",
      "15\n",
      "person sleep....\n",
      "-------------------\n",
      "{'name': 'zhangsan', 'age': 18}\n",
      "helper.py f.....\n",
      "-------------------\n",
      "lisi\n"
     ]
    }
   ],
   "source": [
    "p = Person()\n",
    "print(p.name)\n",
    "print(getattr(p, 'name'))  # 等同 p.name\n",
    "print(getattr(p, 'age', 15)) # 给不存在的属性赋一个默认值\n",
    "# print(getattr(p, 'age')) # AttributeError: 'Person' object has no attribute 'age'\n",
    "\n",
    "f1 = getattr(p, 'sleep')\n",
    "f1()\n",
    "print('-------------------')\n",
    "\n",
    "import helper\n",
    "print(getattr(helper,'d'))\n",
    "f2 = getattr(helper,'f')\n",
    "f2()\n",
    "print('-------------------')\n",
    "\n",
    "setattr(p,'name', 'lisi')\n",
    "print(getattr(p, 'name'))"
   ],
   "metadata": {
    "collapsed": false,
    "pycharm": {
     "name": "#%%\n"
    }
   }
  },
  {
   "cell_type": "markdown",
   "source": [
    "hasattr 用于判断对象是否包含对应的属性"
   ],
   "metadata": {
    "collapsed": false
   }
  },
  {
   "cell_type": "code",
   "execution_count": 15,
   "outputs": [
    {
     "name": "stdout",
     "output_type": "stream",
     "text": [
      "True\n",
      "False\n",
      "True\n",
      "------------------\n",
      "zhangsan 满分\n",
      "lisi 没有满分\n"
     ]
    }
   ],
   "source": [
    "p = Person()\n",
    "print(hasattr(p, 'name'))\n",
    "print(hasattr(p, 'age'))\n",
    "print(hasattr(p, 'sleep'))\n",
    "print('------------------')\n",
    "\n",
    "# 用在类内部\n",
    "class Student:\n",
    "    def __init__(self, name, flag=True):\n",
    "        self.name = name\n",
    "        if flag:\n",
    "            self.grade = 100\n",
    "\n",
    "    def f(self):\n",
    "        if hasattr(self, 'grade'):\n",
    "            print(self.name + \" 满分\")\n",
    "        else:\n",
    "            print(self.name + \" 没有满分\")\n",
    "\n",
    "s1 = Student('zhangsan')\n",
    "s1.f()\n",
    "s2 = Student('lisi', flag=False)\n",
    "s2.f()"
   ],
   "metadata": {
    "collapsed": false,
    "pycharm": {
     "name": "#%%\n"
    }
   }
  }
 ],
 "metadata": {
  "kernelspec": {
   "display_name": "Python 3",
   "language": "python",
   "name": "python3"
  },
  "language_info": {
   "codemirror_mode": {
    "name": "ipython",
    "version": 2
   },
   "file_extension": ".py",
   "mimetype": "text/x-python",
   "name": "python",
   "nbconvert_exporter": "python",
   "pygments_lexer": "ipython2",
   "version": "2.7.6"
  }
 },
 "nbformat": 4,
 "nbformat_minor": 0
}