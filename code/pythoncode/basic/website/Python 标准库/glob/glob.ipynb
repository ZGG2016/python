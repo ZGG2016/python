{
 "cells": [
  {
   "cell_type": "code",
   "execution_count": 2,
   "metadata": {
    "collapsed": true
   },
   "outputs": [],
   "source": [
    "import glob\n",
    "# https://docs.python.org/zh-cn/3.8/library/glob.html"
   ]
  },
  {
   "cell_type": "code",
   "execution_count": 23,
   "outputs": [
    {
     "name": "stdout",
     "output_type": "stream",
     "text": [
      "['.\\\\data\\\\1.txt']\n",
      "['.\\\\data\\\\subdata\\\\3.doc']\n",
      "['.\\\\data\\\\1.txt', '.\\\\data\\\\subdata\\\\4.txt', '.\\\\data\\\\subdata\\\\subsubdata\\\\6.txt']\n",
      "['.\\\\data\\\\subdata\\\\4.txt']\n",
      "['.\\\\data\\\\.5.txt']\n",
      "['.\\\\data\\\\subdata\\\\4.txt']\n",
      "['.\\\\data\\\\subdata\\\\4.txt']\n",
      "['.\\\\data\\\\1.txt', '.\\\\data\\\\2.png']\n",
      "['.\\\\data\\\\1.txt', '.\\\\data\\\\2.png']\n"
     ]
    }
   ],
   "source": [
    "# 返回匹配 pathname 的可能为空的路径名列表，其中的元素必须为包含路径信息的字符串。\n",
    "#     pathname 可以是绝对路径 (如 /usr/src/Python-1.5/Makefile) 或相对路径 (如 ../../Tools/*/*.gif)，\n",
    "#     并且可包含 shell 风格的通配符。\n",
    "# 如果 recursive 为真值，则模式 \"**\" 将匹配目录中的任何文件以及零个或多个目录、子目录和符号链接\n",
    "print(glob.glob(\".\\\\data\\\\*.txt\"))\n",
    "print(glob.glob(\".\\\\data\\\\**\\\\*.doc\", recursive=True))\n",
    "print(glob.glob(\".\\\\data\\\\**\\\\*.txt\", recursive=True))\n",
    "print(glob.glob(\".\\\\data\\\\**\\\\*.txt\"))\n",
    "print(glob.glob(\".\\\\data\\\\.5*\"))\n",
    "print(glob.glob(\".\\\\data\\\\*\\\\*.txt\"))\n",
    "print(glob.glob(\".\\\\data\\\\*\\\\*.txt\", recursive=True))\n",
    "print(glob.glob(\".\\\\data\\\\[0-9].*\"))\n",
    "print(glob.glob(\".\\\\data\\\\?.*\"))"
   ],
   "metadata": {
    "collapsed": false,
    "pycharm": {
     "name": "#%%\n"
    }
   }
  },
  {
   "cell_type": "code",
   "execution_count": 25,
   "outputs": [
    {
     "name": "stdout",
     "output_type": "stream",
     "text": [
      "[]\n",
      ".\\data\\8[[]8.txt\n"
     ]
    }
   ],
   "source": [
    "# 转义所有特殊字符 ('?', '*' 和 '[')。 这适用于当你想要匹配可能带有特殊字符的任意字符串字面值的情况。\n",
    "print(glob.glob(\".\\\\data\\\\8[8.txt\"))\n",
    "print(glob.escape(\".\\\\data\\\\8[8.txt\"))"
   ],
   "metadata": {
    "collapsed": false,
    "pycharm": {
     "name": "#%%\n"
    }
   }
  }
 ],
 "metadata": {
  "kernelspec": {
   "display_name": "Python 3",
   "language": "python",
   "name": "python3"
  },
  "language_info": {
   "codemirror_mode": {
    "name": "ipython",
    "version": 2
   },
   "file_extension": ".py",
   "mimetype": "text/x-python",
   "name": "python",
   "nbconvert_exporter": "python",
   "pygments_lexer": "ipython2",
   "version": "2.7.6"
  }
 },
 "nbformat": 4,
 "nbformat_minor": 0
}