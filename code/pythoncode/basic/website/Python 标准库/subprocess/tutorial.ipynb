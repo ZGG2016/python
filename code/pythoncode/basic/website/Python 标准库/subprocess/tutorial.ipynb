{
 "cells": [
  {
   "cell_type": "code",
   "execution_count": 4,
   "metadata": {
    "collapsed": true
   },
   "outputs": [],
   "source": [
    "import subprocess\n"
   ]
  },
  {
   "cell_type": "markdown",
   "source": [
    "[https://docs.python.org/zh-cn/3.8/library/subprocess.html](https://docs.python.org/zh-cn/3.8/library/subprocess.html)\n",
    "\n",
    "推荐的调用子进程的方式是在任何它支持的用例中使用 run() 函数。对于更进阶的用例，也可以使用底层的 Popen 接口。\n",
    "\n",
    "参考：\n",
    "\n",
    "[https://blog.csdn.net/qdPython/article/details/131457509](https://blog.csdn.net/qdPython/article/details/131457509)\n",
    "\n",
    "[https://www.cnblogs.com/iamjianghao/p/11896564.html](https://www.cnblogs.com/iamjianghao/p/11896564.html)"
   ],
   "metadata": {
    "collapsed": false
   }
  },
  {
   "cell_type": "code",
   "execution_count": 20,
   "outputs": [
    {
     "name": "stdout",
     "output_type": "stream",
     "text": [
      "['python', 'test_subprocess.py']\n",
      "0\n",
      "这是不输入参数的输出内容\n",
      "\n"
     ]
    }
   ],
   "source": [
    "\"\"\"\n",
    "1.列出当前目录中的文件\n",
    "2.shell为 True，将通过操作系统的 shell 执行指定的命令\n",
    "3.如果 capture_output 设为 true，stdout 和 stderr 将会被捕获\n",
    "4.默认情况下, 文件对象是以二进制模式打开的。\n",
    "  如果 encoding 或者 error 被指定, 或者 text 被设为 True,\n",
    "  标准输入, 标准输出和标准错误的文件对象将通过指定的 encoding 和 errors 以文本模式打开\n",
    "\"\"\"\n",
    "cp = subprocess.run([\"python\", \"test_subprocess.py\"], shell=True, capture_output=True, text=True)\n",
    "print(cp.args)\n",
    "# 子进程的退出状态码. 通常来说, 一个为 0 的退出码表示进程运行正常.\n",
    "print(cp.returncode)\n",
    "# 如果 run() 是设置了 encoding, errors 或者 text=True 来运行，那么从子进程捕获到的标准输出.\n",
    "print(cp.stdout)"
   ],
   "metadata": {
    "collapsed": false,
    "pycharm": {
     "name": "#%%\n"
    }
   }
  },
  {
   "cell_type": "code",
   "execution_count": 21,
   "outputs": [
    {
     "name": "stdout",
     "output_type": "stream",
     "text": [
      "这是不输入参数的输出内容\n",
      "\n",
      "\n"
     ]
    }
   ],
   "source": [
    "# stdout 和 stderr 参数不应当与 capture_output 同时提供。\n",
    "# 如果你希望捕获并将两个流合并在一起，使用 stdout=PIPE 和 stderr=STDOUT 来代替 capture_output\n",
    "cp = subprocess.run([\"python\", \"test_subprocess.py\"], shell=True, stdout=subprocess.PIPE, stderr=subprocess.PIPE,\n",
    "                    text=True)\n",
    "print(cp.stdout)\n",
    "print(cp.stderr)"
   ],
   "metadata": {
    "collapsed": false,
    "pycharm": {
     "name": "#%%\n"
    }
   }
  },
  {
   "cell_type": "code",
   "execution_count": 13,
   "outputs": [
    {
     "ename": "CalledProcessError",
     "evalue": "Command '['exit 1']' returned non-zero exit status 1.",
     "output_type": "error",
     "traceback": [
      "\u001B[1;31m---------------------------------------------------------------------------\u001B[0m",
      "\u001B[1;31mCalledProcessError\u001B[0m                        Traceback (most recent call last)",
      "\u001B[1;32m~\\AppData\\Local\\Temp/ipykernel_5216/3297462725.py\u001B[0m in \u001B[0;36m<module>\u001B[1;34m\u001B[0m\n\u001B[0;32m      1\u001B[0m \u001B[1;31m# 如果 check 设为 True, 并且进程以非零状态码退出, 一个 CalledProcessError 异常将被抛出\u001B[0m\u001B[1;33m\u001B[0m\u001B[1;33m\u001B[0m\u001B[1;33m\u001B[0m\u001B[0m\n\u001B[1;32m----> 2\u001B[1;33m \u001B[0mcp\u001B[0m \u001B[1;33m=\u001B[0m \u001B[0msubprocess\u001B[0m\u001B[1;33m.\u001B[0m\u001B[0mrun\u001B[0m\u001B[1;33m(\u001B[0m\u001B[1;33m[\u001B[0m\u001B[1;34m\"exit 1\"\u001B[0m\u001B[1;33m]\u001B[0m\u001B[1;33m,\u001B[0m \u001B[0mshell\u001B[0m\u001B[1;33m=\u001B[0m\u001B[1;32mTrue\u001B[0m\u001B[1;33m,\u001B[0m \u001B[0mcheck\u001B[0m\u001B[1;33m=\u001B[0m\u001B[1;32mTrue\u001B[0m\u001B[1;33m)\u001B[0m\u001B[1;33m\u001B[0m\u001B[1;33m\u001B[0m\u001B[0m\n\u001B[0m\u001B[0;32m      3\u001B[0m \u001B[0mprint\u001B[0m\u001B[1;33m(\u001B[0m\u001B[0mcp\u001B[0m\u001B[1;33m.\u001B[0m\u001B[0mreturncode\u001B[0m\u001B[1;33m)\u001B[0m\u001B[1;33m\u001B[0m\u001B[1;33m\u001B[0m\u001B[0m\n",
      "\u001B[1;32me:\\python\\python38\\lib\\subprocess.py\u001B[0m in \u001B[0;36mrun\u001B[1;34m(input, capture_output, timeout, check, *popenargs, **kwargs)\u001B[0m\n\u001B[0;32m    510\u001B[0m         \u001B[0mretcode\u001B[0m \u001B[1;33m=\u001B[0m \u001B[0mprocess\u001B[0m\u001B[1;33m.\u001B[0m\u001B[0mpoll\u001B[0m\u001B[1;33m(\u001B[0m\u001B[1;33m)\u001B[0m\u001B[1;33m\u001B[0m\u001B[1;33m\u001B[0m\u001B[0m\n\u001B[0;32m    511\u001B[0m         \u001B[1;32mif\u001B[0m \u001B[0mcheck\u001B[0m \u001B[1;32mand\u001B[0m \u001B[0mretcode\u001B[0m\u001B[1;33m:\u001B[0m\u001B[1;33m\u001B[0m\u001B[1;33m\u001B[0m\u001B[0m\n\u001B[1;32m--> 512\u001B[1;33m             raise CalledProcessError(retcode, process.args,\n\u001B[0m\u001B[0;32m    513\u001B[0m                                      output=stdout, stderr=stderr)\n\u001B[0;32m    514\u001B[0m     \u001B[1;32mreturn\u001B[0m \u001B[0mCompletedProcess\u001B[0m\u001B[1;33m(\u001B[0m\u001B[0mprocess\u001B[0m\u001B[1;33m.\u001B[0m\u001B[0margs\u001B[0m\u001B[1;33m,\u001B[0m \u001B[0mretcode\u001B[0m\u001B[1;33m,\u001B[0m \u001B[0mstdout\u001B[0m\u001B[1;33m,\u001B[0m \u001B[0mstderr\u001B[0m\u001B[1;33m)\u001B[0m\u001B[1;33m\u001B[0m\u001B[1;33m\u001B[0m\u001B[0m\n",
      "\u001B[1;31mCalledProcessError\u001B[0m: Command '['exit 1']' returned non-zero exit status 1."
     ]
    }
   ],
   "source": [
    "# 如果 check 设为 True, 并且进程以非零状态码退出, 一个 CalledProcessError 异常将被抛出\n",
    "cp = subprocess.run([\"exit 1\"], shell=True, check=True)\n",
    "print(cp.returncode)"
   ],
   "metadata": {
    "collapsed": false,
    "pycharm": {
     "name": "#%%\n"
    }
   }
  },
  {
   "cell_type": "code",
   "execution_count": 22,
   "outputs": [
    {
     "name": "stdout",
     "output_type": "stream",
     "text": [
      "this is a string\n",
      "\n"
     ]
    }
   ],
   "source": [
    "# input 参数将被传递给 Popen.communicate() 以及子进程的 stdin。 如果使用此参数，它必须是一个字节序列。\n",
    "cp = subprocess.run([\"python\", \"./test_subprocess.py\"], stdout=subprocess.PIPE, input=\"this is a string\",\n",
    "                    encoding=\"utf8\")\n",
    "print(cp.stdout)\n"
   ],
   "metadata": {
    "collapsed": false,
    "pycharm": {
     "name": "#%%\n"
    }
   }
  },
  {
   "cell_type": "markdown",
   "source": [
    "## Popen"
   ],
   "metadata": {
    "collapsed": false,
    "pycharm": {
     "name": "#%% md\n"
    }
   }
  },
  {
   "cell_type": "code",
   "execution_count": 14,
   "outputs": [
    {
     "name": "stdout",
     "output_type": "stream",
     "text": [
      "这是不输入参数的输出内容\n",
      "\n",
      "这是不输入参数的输出内容\n",
      "\n"
     ]
    }
   ],
   "source": [
    "# args 应当是一个程序参数的序列或者是一个单独的字符串或 path-like object\n",
    "# 如果 args 是序列，则要运行的程序为 args 中的第一项\n",
    "r1 = subprocess.Popen([\"python\", \"./test_subprocess.py\"], stdout=subprocess.PIPE, text=True)\n",
    "print(r1.stdout.read())\n",
    "\n",
    "r2 = subprocess.Popen(\"python ./test_subprocess.py\", stdout=subprocess.PIPE, text=True)\n",
    "print(r2.stdout.read())"
   ],
   "metadata": {
    "collapsed": false,
    "pycharm": {
     "name": "#%%\n"
    }
   }
  },
  {
   "cell_type": "code",
   "execution_count": 13,
   "outputs": [
    {
     "name": "stdout",
     "output_type": "stream",
     "text": [
      "['python', './test_subprocess.py', '-n', 'tom']\n",
      "这是不输入参数的输出内容\n",
      "tom\n",
      "\n"
     ]
    }
   ],
   "source": [
    "# shlex.split() 可以演示如何确定 args 适当的拆分形式\n",
    "import shlex\n",
    "\n",
    "command_line = input()  # python ./test_subprocess.py -n tom\n",
    "args = shlex.split(command_line)\n",
    "# 由 shell 中的空格分隔的选项（例如 -n）和参数（例如 tom ）位于分开的列表元素中\n",
    "print(args)\n",
    "r = subprocess.Popen(args, stdout=subprocess.PIPE, text=True)\n",
    "print(r.stdout.read())\n",
    "# 而在需要时使用引号或反斜杠转义的参数在 shell 是单独的列表元素。"
   ],
   "metadata": {
    "collapsed": false,
    "pycharm": {
     "name": "#%%\n"
    }
   }
  },
  {
   "cell_type": "code",
   "execution_count": 15,
   "outputs": [
    {
     "ename": "FileNotFoundError",
     "evalue": "[WinError 3] 系统找不到指定的路径。",
     "output_type": "error",
     "traceback": [
      "\u001B[1;31m---------------------------------------------------------------------------\u001B[0m",
      "\u001B[1;31mFileNotFoundError\u001B[0m                         Traceback (most recent call last)",
      "\u001B[1;32m~\\AppData\\Local\\Temp/ipykernel_5556/2413664185.py\u001B[0m in \u001B[0;36m<module>\u001B[1;34m\u001B[0m\n\u001B[1;32m----> 1\u001B[1;33m \u001B[0mr\u001B[0m \u001B[1;33m=\u001B[0m \u001B[0msubprocess\u001B[0m\u001B[1;33m.\u001B[0m\u001B[0mPopen\u001B[0m\u001B[1;33m(\u001B[0m\u001B[1;33m[\u001B[0m\u001B[1;34m\"python\"\u001B[0m\u001B[1;33m,\u001B[0m \u001B[1;34m\"./test_subprocess.py\"\u001B[0m\u001B[1;33m,\u001B[0m \u001B[1;34m\"-n\"\u001B[0m\u001B[1;33m,\u001B[0m \u001B[1;34m\"tom\"\u001B[0m\u001B[1;33m]\u001B[0m\u001B[1;33m,\u001B[0m \u001B[0mexecutable\u001B[0m\u001B[1;33m=\u001B[0m\u001B[1;34m\"python ./test_subprocess.py -n zhangsan\"\u001B[0m \u001B[1;33m,\u001B[0m \u001B[0mstdout\u001B[0m\u001B[1;33m=\u001B[0m\u001B[0msubprocess\u001B[0m\u001B[1;33m.\u001B[0m\u001B[0mPIPE\u001B[0m\u001B[1;33m,\u001B[0m \u001B[0mtext\u001B[0m\u001B[1;33m=\u001B[0m\u001B[1;32mTrue\u001B[0m\u001B[1;33m)\u001B[0m\u001B[1;33m\u001B[0m\u001B[1;33m\u001B[0m\u001B[0m\n\u001B[0m\u001B[0;32m      2\u001B[0m \u001B[0mprint\u001B[0m\u001B[1;33m(\u001B[0m\u001B[0mr\u001B[0m\u001B[1;33m.\u001B[0m\u001B[0mstdout\u001B[0m\u001B[1;33m.\u001B[0m\u001B[0mread\u001B[0m\u001B[1;33m(\u001B[0m\u001B[1;33m)\u001B[0m\u001B[1;33m)\u001B[0m\u001B[1;33m\u001B[0m\u001B[1;33m\u001B[0m\u001B[0m\n",
      "\u001B[1;32me:\\python\\python38\\lib\\subprocess.py\u001B[0m in \u001B[0;36m__init__\u001B[1;34m(self, args, bufsize, executable, stdin, stdout, stderr, preexec_fn, close_fds, shell, cwd, env, universal_newlines, startupinfo, creationflags, restore_signals, start_new_session, pass_fds, encoding, errors, text)\u001B[0m\n\u001B[0;32m    852\u001B[0m                             encoding=encoding, errors=errors)\n\u001B[0;32m    853\u001B[0m \u001B[1;33m\u001B[0m\u001B[0m\n\u001B[1;32m--> 854\u001B[1;33m             self._execute_child(args, executable, preexec_fn, close_fds,\n\u001B[0m\u001B[0;32m    855\u001B[0m                                 \u001B[0mpass_fds\u001B[0m\u001B[1;33m,\u001B[0m \u001B[0mcwd\u001B[0m\u001B[1;33m,\u001B[0m \u001B[0menv\u001B[0m\u001B[1;33m,\u001B[0m\u001B[1;33m\u001B[0m\u001B[1;33m\u001B[0m\u001B[0m\n\u001B[0;32m    856\u001B[0m                                 \u001B[0mstartupinfo\u001B[0m\u001B[1;33m,\u001B[0m \u001B[0mcreationflags\u001B[0m\u001B[1;33m,\u001B[0m \u001B[0mshell\u001B[0m\u001B[1;33m,\u001B[0m\u001B[1;33m\u001B[0m\u001B[1;33m\u001B[0m\u001B[0m\n",
      "\u001B[1;32me:\\python\\python38\\lib\\subprocess.py\u001B[0m in \u001B[0;36m_execute_child\u001B[1;34m(self, args, executable, preexec_fn, close_fds, pass_fds, cwd, env, startupinfo, creationflags, shell, p2cread, p2cwrite, c2pread, c2pwrite, errread, errwrite, unused_restore_signals, unused_start_new_session)\u001B[0m\n\u001B[0;32m   1305\u001B[0m             \u001B[1;31m# Start the process\u001B[0m\u001B[1;33m\u001B[0m\u001B[1;33m\u001B[0m\u001B[1;33m\u001B[0m\u001B[0m\n\u001B[0;32m   1306\u001B[0m             \u001B[1;32mtry\u001B[0m\u001B[1;33m:\u001B[0m\u001B[1;33m\u001B[0m\u001B[1;33m\u001B[0m\u001B[0m\n\u001B[1;32m-> 1307\u001B[1;33m                 hp, ht, pid, tid = _winapi.CreateProcess(executable, args,\n\u001B[0m\u001B[0;32m   1308\u001B[0m                                          \u001B[1;31m# no special security\u001B[0m\u001B[1;33m\u001B[0m\u001B[1;33m\u001B[0m\u001B[1;33m\u001B[0m\u001B[0m\n\u001B[0;32m   1309\u001B[0m                                          \u001B[1;32mNone\u001B[0m\u001B[1;33m,\u001B[0m \u001B[1;32mNone\u001B[0m\u001B[1;33m,\u001B[0m\u001B[1;33m\u001B[0m\u001B[1;33m\u001B[0m\u001B[0m\n",
      "\u001B[1;31mFileNotFoundError\u001B[0m: [WinError 3] 系统找不到指定的路径。"
     ]
    }
   ],
   "source": [
    "# executable 参数指定一个要执行的替换程序\n",
    "# 比如由 /bin/sh 替换为 /bin/bash"
   ],
   "metadata": {
    "collapsed": false,
    "pycharm": {
     "name": "#%%\n"
    }
   }
  },
  {
   "cell_type": "code",
   "execution_count": 5,
   "outputs": [
    {
     "name": "stdout",
     "output_type": "stream",
     "text": [
      "F:/a 目录下的输出内容\n",
      "\n"
     ]
    }
   ],
   "source": [
    "# 如果 cwd 不为 None，此函数在执行子进程前会将当前工作目录改为 cwd\n",
    "r2 = subprocess.Popen(\"python ./test_subprocess.py\", cwd=\"F:\\\\a\", stdout=subprocess.PIPE, text=True)\n",
    "print(r2.stdout.read())"
   ],
   "metadata": {
    "collapsed": false,
    "pycharm": {
     "name": "#%%\n"
    }
   }
  },
  {
   "cell_type": "code",
   "execution_count": 8,
   "outputs": [
    {
     "name": "stdout",
     "output_type": "stream",
     "text": [
      "这是不输入参数的输出内容\n",
      "\n"
     ]
    }
   ],
   "source": [
    "# Popen 对象支持通过 with 语句作为上下文管理器，在退出时关闭文件描述符并等待进程:\n",
    "with subprocess.Popen([\"python\", \"./test_subprocess.py\"], stdout=subprocess.PIPE, text=True) as proc:\n",
    "    print(proc.stdout.read())"
   ],
   "metadata": {
    "collapsed": false,
    "pycharm": {
     "name": "#%%\n"
    }
   }
  },
  {
   "cell_type": "code",
   "execution_count": 18,
   "outputs": [
    {
     "name": "stdout",
     "output_type": "stream",
     "text": [
      "communicate方法\n",
      "\n"
     ]
    }
   ],
   "source": [
    "# 与进程交互：将数据发送到 stdin。 从 stdout 和 stderr 读取数据，直到抵达文件结尾。\n",
    "# 返回一个 (stdout_data, stderr_data) 元组\n",
    "r = subprocess.Popen(\"python ./test_subprocess.py\", stdin=subprocess.PIPE, stdout=subprocess.PIPE, text=True)\n",
    "outs, errs = r.communicate(input=\"communicate方法\", timeout=1)\n",
    "print(outs)"
   ],
   "metadata": {
    "collapsed": false,
    "pycharm": {
     "name": "#%%\n"
    }
   }
  },
  {
   "cell_type": "code",
   "execution_count": 27,
   "outputs": [
    {
     "name": "stdout",
     "output_type": "stream",
     "text": [
      " 驱动器 H 中的卷是 张国光U盘\n",
      " 卷的序列号是 3D33-F24F\n",
      "\n",
      " H:\\python\\code\\pythoncode\\basic\\website\\Python 标准库\\subprocess 的目录\n",
      "\n",
      "2023/11/02  16:36    <DIR>          .\n",
      "2023/11/02  16:36    <DIR>          ..\n",
      "2023/11/14  10:39            16,976 tutorial.ipynb\n",
      "2023/11/14  10:36               344 test_subprocess.py\n",
      "               2 个文件         17,320 字节\n",
      "               2 个目录 13,161,119,744 可用字节\n",
      "\n",
      "\n",
      " 驱动器 H 中的卷是 张国光U盘\n",
      " 卷的序列号是 3D33-F24F\n",
      "\n",
      " H:\\python\\code\\pythoncode\\basic\\website\\Python 标准库\\subprocess 的目录\n",
      "\n",
      "2023/11/02  16:36    <DIR>          .\n",
      "2023/11/02  16:36    <DIR>          ..\n",
      "2023/11/14  10:39            16,976 tutorial.ipynb\n",
      "2023/11/14  10:36               344 test_subprocess.py\n",
      "               2 个文件         17,320 字节\n",
      "               2 个目录 13,161,119,744 可用字节\n",
      "\n",
      "\n"
     ]
    }
   ],
   "source": [
    "r1 = subprocess.Popen([\"dir\", \".\"], stdout=subprocess.PIPE, shell=True)\n",
    "r2 = subprocess.Popen(\"python ./test_subprocess.py\", stdin=r1.stdout, stdout=subprocess.PIPE, text=True)\n",
    "r1.stdout.close()\n",
    "out = r2.communicate()[0]\n",
    "print(out)\n",
    "\n",
    "r = subprocess.Popen(\"dir . | python ./test_subprocess.py\", shell=True, stdout=subprocess.PIPE, text=True)\n",
    "out = r.communicate()[0]\n",
    "print(out)"
   ],
   "metadata": {
    "collapsed": false,
    "pycharm": {
     "name": "#%%\n"
    }
   }
  }
 ],
 "metadata": {
  "kernelspec": {
   "display_name": "Python 3",
   "language": "python",
   "name": "python3"
  },
  "language_info": {
   "codemirror_mode": {
    "name": "ipython",
    "version": 2
   },
   "file_extension": ".py",
   "mimetype": "text/x-python",
   "name": "python",
   "nbconvert_exporter": "python",
   "pygments_lexer": "ipython2",
   "version": "2.7.6"
  }
 },
 "nbformat": 4,
 "nbformat_minor": 0
}