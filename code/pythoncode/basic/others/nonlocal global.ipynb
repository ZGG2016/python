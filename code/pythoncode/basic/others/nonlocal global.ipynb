{
 "cells": [
  {
   "cell_type": "markdown",
   "metadata": {
    "collapsed": true,
    "pycharm": {
     "name": "#%% md\n"
    }
   },
   "source": [
    "## 1 nonlocal\n",
    "\n",
    "\tnonlocal_stmt ::=  \"nonlocal\" identifier (\",\" identifier)*\n",
    "\n",
    "使得所列出的名称指向 之前在最近的包含作用域中 绑定的 除全局变量以外 的变量。\n",
    "\n",
    "这种功能很重要，因为绑定的默认行为是先搜索局部命名空间。这个语句**允许被封装的代码重新绑定局部作用域以外且非全局（模块）作用域当中的变量**。\n",
    "\n",
    "语句中列出的名称必须指向 之前存在于包含作用域之中 的绑定。\n",
    "\n",
    "语句中列出的名称不得与 之前存在于局部作用域中 的绑定 相冲突。"
   ]
  },
  {
   "cell_type": "code",
   "execution_count": 7,
   "outputs": [
    {
     "name": "stdout",
     "output_type": "stream",
     "text": [
      "inner a = java\n",
      "2944705420144\n",
      "------------\n",
      "outer a = python\n",
      "2944751468272\n"
     ]
    }
   ],
   "source": [
    "def outerf():\n",
    "    a = \"python\"\n",
    "\n",
    "    def innerf():\n",
    "        a = \"java\"\n",
    "        print(\"inner a = \" +a)\n",
    "        print(id(a))\n",
    "\n",
    "    innerf()\n",
    "    print(\"------------\")\n",
    "\n",
    "    print(\"outer a = \" +a)\n",
    "    print(id(a))\n",
    "\n",
    "outerf()\n"
   ],
   "metadata": {
    "collapsed": false,
    "pycharm": {
     "name": "#%%\n"
    }
   }
  },
  {
   "cell_type": "code",
   "execution_count": 6,
   "outputs": [
    {
     "name": "stdout",
     "output_type": "stream",
     "text": [
      "inner a = java\n",
      "2944705420144\n",
      "------------\n",
      "outer a = java\n",
      "2944705420144\n"
     ]
    }
   ],
   "source": [
    "def outerf():\n",
    "    a = \"python\"\n",
    "\n",
    "    def innerf():\n",
    "        nonlocal a\n",
    "        a = \"java\"\n",
    "        print(\"inner a = \" +a)\n",
    "        print(id(a))\n",
    "\n",
    "    innerf()\n",
    "    print(\"------------\")\n",
    "\n",
    "    print(\"outer a = \" +a)\n",
    "    print(id(a))\n",
    "\n",
    "outerf()\n"
   ],
   "metadata": {
    "collapsed": false,
    "pycharm": {
     "name": "#%%\n"
    }
   }
  },
  {
   "cell_type": "code",
   "execution_count": 5,
   "outputs": [
    {
     "name": "stdout",
     "output_type": "stream",
     "text": [
      "2\n",
      "140722135303888\n",
      "------------\n",
      "2\n",
      "140722135303888\n"
     ]
    }
   ],
   "source": [
    "def outerf():\n",
    "    a = 1\n",
    "\n",
    "    def innerf():\n",
    "        nonlocal a  # 没有这条语句，会报错\n",
    "        a += 1\n",
    "        print(a)\n",
    "        print(id(a))\n",
    "\n",
    "    innerf()\n",
    "    print(\"------------\")\n",
    "\n",
    "    print(a)\n",
    "    print(id(a))\n",
    "\n",
    "outerf()\n"
   ],
   "metadata": {
    "collapsed": false,
    "pycharm": {
     "name": "#%%\n"
    }
   }
  },
  {
   "cell_type": "markdown",
   "source": [
    "## 2 global\n",
    "\n",
    "\tglobal_stmt ::=  \"global\" identifier (\",\" identifier)*\n",
    "\n",
    "作用于整个当前代码块的声明。\n",
    "\n",
    "它意味着**所列出的标识符将被解读为全局变量**。\n",
    "\n",
    "要给全局变量赋值不可能不用到 global 关键字，不过自由变量也可以指向全局变量，而不必声明为全局变量。\n",
    "\n",
    "在 global 语句中列出的名称，不得在同一代码块内 该 global 语句之前 的位置中使用。\n",
    "\n",
    "在 global 语句中列出的名称不得被定义为正式形参，不也得出现于 for 循环的控制目标、class 定义、函数定义、import 语句或变量标注之中。\n",
    "\n",
    "CPython implementation detail:\n",
    "\n",
    "\t当前的实现并未强制要求所有的上述限制，但程序不应当滥用这样的自由，因为未来的实现可能会改为强制要求，并静默地改变程序的含义。\n",
    "\n",
    "程序员注意事项:\n",
    "\n",
    "\tglobal 是对解析器的指令。\n",
    "\n",
    "\t它仅对与 global 语句同时被解析的代码起作用。\n",
    "\n",
    "\t特别地，包含在提供给内置 exec() 函数字符串或代码对象中的 global 语句并不会影响 包含 该函数调用的代码块，而包含在这种字符串中的代码也不会受到包含该函数调用的代码中的 global 语句影响。\n",
    "\n",
    "\t这同样适用于 eval() 和 compile() 函数。"
   ],
   "metadata": {
    "collapsed": false,
    "pycharm": {
     "name": "#%% md\n"
    }
   }
  },
  {
   "cell_type": "code",
   "execution_count": 4,
   "outputs": [
    {
     "name": "stdout",
     "output_type": "stream",
     "text": [
      "inner a = java\n",
      "2944705420144\n",
      "------------\n",
      "outer a = python\n",
      "2944751468272\n"
     ]
    }
   ],
   "source": [
    "a = \"python\"\n",
    "def f():\n",
    "    a = \"java\"\n",
    "    print(\"inner a = \" +a)\n",
    "    print(id(a))\n",
    "\n",
    "f()\n",
    "print(\"------------\")\n",
    "print(\"outer a = \" +a)\n",
    "print(id(a))\n"
   ],
   "metadata": {
    "collapsed": false,
    "pycharm": {
     "name": "#%%\n"
    }
   }
  },
  {
   "cell_type": "code",
   "execution_count": 3,
   "outputs": [
    {
     "name": "stdout",
     "output_type": "stream",
     "text": [
      "inner a = java\n",
      "2944705420144\n",
      "------------\n",
      "outer a = java\n",
      "2944705420144\n"
     ]
    }
   ],
   "source": [
    "a = \"python\"\n",
    "def f():\n",
    "    global a\n",
    "    a = \"java\"\n",
    "    print(\"inner a = \" +a)\n",
    "    print(id(a))\n",
    "\n",
    "f()\n",
    "print(\"------------\")\n",
    "print(\"outer a = \" +a)\n",
    "print(id(a))\n"
   ],
   "metadata": {
    "collapsed": false,
    "pycharm": {
     "name": "#%%\n"
    }
   }
  },
  {
   "cell_type": "code",
   "execution_count": 2,
   "outputs": [
    {
     "name": "stdout",
     "output_type": "stream",
     "text": [
      "f1 a = java\n",
      "2944705420144\n",
      "f2 a = java\n",
      "2944705420144\n"
     ]
    }
   ],
   "source": [
    "a = \"python\"\n",
    "def f1():\n",
    "    global a\n",
    "    a = \"java\"\n",
    "    print(\"f1 a = \" +a)\n",
    "    print(id(a))\n",
    "\n",
    "def f2():\n",
    "    print(\"f2 a = \" +a)\n",
    "    print(id(a))\n",
    "\n",
    "f1()\n",
    "f2()\n"
   ],
   "metadata": {
    "collapsed": false,
    "pycharm": {
     "name": "#%%\n"
    }
   }
  },
  {
   "cell_type": "code",
   "execution_count": 1,
   "outputs": [
    {
     "name": "stdout",
     "output_type": "stream",
     "text": [
      "2\n",
      "140722135303888\n",
      "-----------\n",
      "2\n",
      "140722135303888\n"
     ]
    }
   ],
   "source": [
    "a = 1\n",
    "def f1():\n",
    "    global a\n",
    "    a += 1\n",
    "    print(a)\n",
    "    print(id(a))\n",
    "\n",
    "def f2():\n",
    "    print(a)\n",
    "    print(id(a))\n",
    "\n",
    "f1()\n",
    "print(\"-----------\")\n",
    "f2()\n"
   ],
   "metadata": {
    "collapsed": false,
    "pycharm": {
     "name": "#%%\n"
    }
   }
  },
  {
   "cell_type": "markdown",
   "source": [
    "[nonlocal](https://docs.python.org/zh-cn/3.8/reference/simple_stmts.html#nonlocal)\n",
    "[global](https://docs.python.org/zh-cn/3.8/reference/simple_stmts.html#global)\n"
   ],
   "metadata": {
    "collapsed": false,
    "pycharm": {
     "name": "#%% md\n"
    }
   }
  }
 ],
 "metadata": {
  "kernelspec": {
   "display_name": "Python 3",
   "language": "python",
   "name": "python3"
  },
  "language_info": {
   "codemirror_mode": {
    "name": "ipython",
    "version": 2
   },
   "file_extension": ".py",
   "mimetype": "text/x-python",
   "name": "python",
   "nbconvert_exporter": "python",
   "pygments_lexer": "ipython2",
   "version": "2.7.6"
  }
 },
 "nbformat": 4,
 "nbformat_minor": 0
}