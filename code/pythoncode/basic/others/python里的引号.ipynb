{
 "cells": [
  {
   "cell_type": "markdown",
   "metadata": {
    "collapsed": true,
    "pycharm": {
     "name": "#%% md\n"
    }
   },
   "source": [
    "## 1 多行注释\n",
    "\n",
    "三个双引号、三个单引号是多行注释"
   ]
  },
  {
   "cell_type": "code",
   "execution_count": null,
   "outputs": [],
   "source": [
    "\"\"\"\n",
    "print(\"aaaa\")\n",
    "print(\"bbbb\")\n",
    "\"\"\"\n",
    "\n",
    "'''\n",
    "print(\"aaaa\")\n",
    "print(\"bbbb\")\n",
    "'''"
   ],
   "metadata": {
    "collapsed": false,
    "pycharm": {
     "name": "#%%\n"
    }
   }
  },
  {
   "cell_type": "markdown",
   "source": [
    "## 2 定义字符串"
   ],
   "metadata": {
    "collapsed": false
   }
  },
  {
   "cell_type": "code",
   "execution_count": 1,
   "outputs": [
    {
     "name": "stdout",
     "output_type": "stream",
     "text": [
      "aaaa aaaa\n",
      "aa'bb'\n",
      "aa\"bb\"\n",
      "zhangsan:12\n",
      "zhangsan:12\n",
      "let's go\n",
      "let's go\n"
     ]
    }
   ],
   "source": [
    "# 普通定义字符串\n",
    "s1 = \"aaaa\"\n",
    "s2 = 'aaaa'\n",
    "print(s1,s2)\n",
    "\n",
    "# 单引号与双引号互相嵌套使用\n",
    "s3 = \"aa'bb'\"\n",
    "s4 = 'aa\"bb\"'\n",
    "print(s3)\n",
    "print(s4)\n",
    "\n",
    "# s5 = \"aa\"bb\"\"  # 错误用法\n",
    "\n",
    "# 格式控制\n",
    "s6 = \"zhangsan:%d\" % 12\n",
    "s7 = 'zhangsan:%d' % 12\n",
    "print(s6)\n",
    "print(s7)\n",
    "\n",
    "# 转义\n",
    "s8 = \"let's go\"\n",
    "s9 = 'let\\'s go'\n",
    "# s10 = 'let's go' # 报错\n",
    "print(s8)\n",
    "print(s9)"
   ],
   "metadata": {
    "collapsed": false,
    "pycharm": {
     "name": "#%%\n"
    }
   }
  },
  {
   "cell_type": "code",
   "execution_count": 2,
   "outputs": [
    {
     "name": "stdout",
     "output_type": "stream",
     "text": [
      "aaa\n",
      "\n",
      "bbb\n",
      "ccc\tddd\n",
      "\n"
     ]
    }
   ],
   "source": [
    "# 三引号定义字符串\n",
    "s3 = \"\"\"aaa\\n\n",
    "bbb\\nccc\\tddd\n",
    "\"\"\"\n",
    "print(s3)\n"
   ],
   "metadata": {
    "collapsed": false,
    "pycharm": {
     "name": "#%%\n"
    }
   }
  },
  {
   "cell_type": "markdown",
   "source": [
    "三引号可以将复杂的字符串进行赋值。\n",
    "\n",
    "Python 三引号允许一个字符串跨多行，字符串中可以包含换行符、制表符以及其他特殊字符。\n",
    "\n",
    "三引号的语法是一对连续的单引号或者双引号（通常都是成对的用）。\n",
    "\n",
    "三引号让程序员从引号和特殊字符串的泥潭里面解脱出来，自始至终保持一小块字符串的格式是所谓的WYSIWYG（所见即所得）格式的。\n",
    "\n",
    "一个典型的用例是，当你需要一块HTML或者SQL时，这时当用三引号标记，使用传统的转义字符体系将十分费神。"
   ],
   "metadata": {
    "collapsed": false
   }
  },
  {
   "cell_type": "code",
   "execution_count": null,
   "outputs": [],
   "source": [
    "errHTML = '''\n",
    "<HTML><HEAD><TITLE>\n",
    "Friends CGI Demo</TITLE></HEAD>\n",
    "<BODY><H3>ERROR</H3>\n",
    "<B>%s</B><P>\n",
    "<FORM><INPUT TYPE=button VALUE=Back\n",
    "ONCLICK=\"window.history.back()\"></FORM>\n",
    "</BODY></HTML>\n",
    "'''\n",
    "\n",
    "cursor.execute('''\n",
    "CREATE TABLE users (\n",
    "login VARCHAR(8),\n",
    "uid INTEGER,\n",
    "prid INTEGER)\n",
    "''')\n"
   ],
   "metadata": {
    "collapsed": false,
    "pycharm": {
     "name": "#%%\n"
    }
   }
  }
 ],
 "metadata": {
  "kernelspec": {
   "display_name": "Python 3",
   "language": "python",
   "name": "python3"
  },
  "language_info": {
   "codemirror_mode": {
    "name": "ipython",
    "version": 2
   },
   "file_extension": ".py",
   "mimetype": "text/x-python",
   "name": "python",
   "nbconvert_exporter": "python",
   "pygments_lexer": "ipython2",
   "version": "2.7.6"
  }
 },
 "nbformat": 4,
 "nbformat_minor": 0
}