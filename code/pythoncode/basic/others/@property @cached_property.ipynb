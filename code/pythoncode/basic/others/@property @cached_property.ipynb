{
 "cells": [
  {
   "cell_type": "markdown",
   "metadata": {
    "collapsed": true,
    "pycharm": {
     "name": "#%% md\n"
    }
   },
   "source": [
    "## @property\n",
    "\n",
    "```\n",
    "class property(fget=None, fset=None, fdel=None, doc=None)\n",
    "```\n",
    "    返回 property 属性。\n",
    "\n",
    "    - fget 是获取属性值的函数\n",
    "    - fset 是用于设置属性值的函数\n",
    "    - fdel 是用于删除属性值的函数\n",
    "    - doc 为属性对象创建文档字符串\n"
   ]
  },
  {
   "cell_type": "code",
   "execution_count": 2,
   "outputs": [
    {
     "name": "stdout",
     "output_type": "stream",
     "text": [
      "10\n",
      "----------\n",
      "20\n"
     ]
    }
   ],
   "source": [
    "# 在类中创建三个方法类似于 java 中的 getter setter 方法，再使用 property 类，创建一个 x 属性\n",
    "import random\n",
    "\n",
    "class C:\n",
    "    def __init__(self):\n",
    "        self._x = None\n",
    "\n",
    "    def getx(self):\n",
    "        return self._x\n",
    "\n",
    "    def setx(self, value):\n",
    "        self._x = value\n",
    "\n",
    "    def delx(self):\n",
    "        del self._x\n",
    "\n",
    "    x = property(getx, setx, delx, \"x property\")\n",
    "\n",
    "\n",
    "c = C()\n",
    "c.setx(10)\n",
    "print(c.getx())\n",
    "print(\"----------\")\n",
    "\n",
    "c.x = 20\n",
    "print(c.x)"
   ],
   "metadata": {
    "collapsed": false,
    "pycharm": {
     "name": "#%%\n"
    }
   }
  },
  {
   "cell_type": "code",
   "execution_count": 4,
   "outputs": [
    {
     "name": "stdout",
     "output_type": "stream",
     "text": [
      "20\n"
     ]
    }
   ],
   "source": [
    "class CC:\n",
    "    def __init__(self):\n",
    "        self._x = None\n",
    "\n",
    "    # 相当于创建了一个 x 属性\n",
    "    @property\n",
    "    def x(self):\n",
    "        return self._x\n",
    "\n",
    "    # 用 x 属性的 setter 方法装饰，把 setter 方法变成属性赋值\n",
    "    # 如果不写，就是创建一个只读属性\n",
    "    # 这样可以在设置值的时候，进行校验\n",
    "    @x.setter\n",
    "    def x(self, value):\n",
    "        self._x = value\n",
    "\n",
    "    @x.deleter\n",
    "    def x(self):\n",
    "        del self._x\n",
    "\n",
    "\n",
    "cc = CC()\n",
    "cc.x = 20\n",
    "print(cc.x)"
   ],
   "metadata": {
    "collapsed": false,
    "pycharm": {
     "name": "#%%\n"
    }
   }
  },
  {
   "cell_type": "markdown",
   "source": [
    "## @cached_property\n",
    "\n",
    "将一个类方法转换为特征属性，一次性计算该特征属性的值，然后将其缓存为实例生命周期内的普通属性。\n",
    "\n",
    "类似于 property() 但增加了缓存功能。"
   ],
   "metadata": {
    "collapsed": false,
    "pycharm": {
     "name": "#%% md\n"
    }
   }
  },
  {
   "cell_type": "code",
   "execution_count": 15,
   "outputs": [
    {
     "name": "stdout",
     "output_type": "stream",
     "text": [
      "mean t-->  5\n",
      "7.8\n",
      "7.8\n",
      "{'_data': [1, 2, 3, 4, 4], 'mean': 7.8}\n",
      "sum t-->  9\n",
      "23\n",
      "sum t-->  7\n",
      "21\n",
      "{'_data': [1, 2, 3, 4, 4], 'mean': 7.8}\n"
     ]
    }
   ],
   "source": [
    "import random\n",
    "import statistics\n",
    "from functools import cached_property\n",
    "\n",
    "class DataSet:\n",
    "    def __init__(self, sequence_of_numbers):\n",
    "        self._data = sequence_of_numbers\n",
    "\n",
    "    @cached_property\n",
    "    def mean(self):\n",
    "        t = random.randint(1, 10)\n",
    "        print(\"mean t--> \", t)\n",
    "        return statistics.mean(self._data) + t\n",
    "\n",
    "    @property\n",
    "    def sum(self):\n",
    "        t = random.randint(1, 10)\n",
    "        print(\"sum t--> \", t)\n",
    "        return sum(self._data) + t\n",
    "\n",
    "\n",
    "ds = DataSet([1, 2, 3, 4, 4])\n",
    "print(ds.mean)\n",
    "print(ds.mean)\n",
    "print(ds.__dict__)\n",
    "print(ds.sum)\n",
    "print(ds.sum)\n",
    "print(ds.__dict__)"
   ],
   "metadata": {
    "collapsed": false,
    "pycharm": {
     "name": "#%%\n"
    }
   }
  }
 ],
 "metadata": {
  "kernelspec": {
   "display_name": "Python 3",
   "language": "python",
   "name": "python3"
  },
  "language_info": {
   "codemirror_mode": {
    "name": "ipython",
    "version": 2
   },
   "file_extension": ".py",
   "mimetype": "text/x-python",
   "name": "python",
   "nbconvert_exporter": "python",
   "pygments_lexer": "ipython2",
   "version": "2.7.6"
  }
 },
 "nbformat": 4,
 "nbformat_minor": 0
}