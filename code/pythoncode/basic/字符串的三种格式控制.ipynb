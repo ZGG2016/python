{
 "cells": [
  {
   "cell_type": "markdown",
   "metadata": {
    "collapsed": true,
    "pycharm": {
     "name": "#%% md\n"
    }
   },
   "source": [
    "## 1 简单使用"
   ]
  },
  {
   "cell_type": "code",
   "execution_count": 2,
   "outputs": [
    {
     "name": "stdout",
     "output_type": "stream",
     "text": [
      "zhangsan:12,lisi:13\n",
      "zhangsan:12,lisi:13\n",
      "zhangsan:12,lisi:13\n"
     ]
    }
   ],
   "source": [
    "print(\"zhangsan:%d,lisi:%d\" % (12,13))\n",
    "print(\"zhangsan:{},lisi:{}\".format(12,13))\n",
    "a1 = 12;a2 = 13\n",
    "print(f\"zhangsan:{a1},lisi:{a2}\")"
   ],
   "metadata": {
    "collapsed": false,
    "pycharm": {
     "name": "#%%\n"
    }
   }
  },
  {
   "cell_type": "markdown",
   "source": [
    "## 2 printf 风格的字符串格式化\n"
   ],
   "metadata": {
    "collapsed": false
   }
  },
  {
   "cell_type": "code",
   "execution_count": 31,
   "outputs": [
    {
     "name": "stdout",
     "output_type": "stream",
     "text": [
      "he has 333.22 yuan\n",
      "he has 333.22 yuan\n",
      "he has  333.22 yuan\n",
      "1.2000\n",
      "1.20\n"
     ]
    }
   ],
   "source": [
    "# % 最小字段宽度.精度 转换类型\n",
    "print(\"he has %3.2f yuan\" % 333.222)\n",
    "print(\"he has %6.2f yuan\" % 333.222)\n",
    "print(\"he has %7.2f yuan\" % 333.222)\n",
    "# 精度: 如果指定为 `*` (星号)，则元组的第一个值是精度，第二个值是要转换的对象\n",
    "print(\"%.*f\" % (4, 1.2))\n",
    "# 最小字段宽度: 如果指定为 `*` (星号)，则元组的第一个值是精度，第二个值是要转换的对象\n",
    "print(\"%*.2f\" % (3, 1.2))"
   ],
   "metadata": {
    "collapsed": false,
    "pycharm": {
     "name": "#%%\n"
    }
   }
  },
  {
   "cell_type": "code",
   "execution_count": 25,
   "outputs": [
    {
     "name": "stdout",
     "output_type": "stream",
     "text": [
      "Python has 002 quote types.\n",
      "Python has 2   quote types.\n",
      "Python has 2   quote types.\n",
      "Python has  2 quote types.\n",
      "Python has  +2 quote types.\n",
      "Python has +2 quote types.\n"
     ]
    }
   ],
   "source": [
    "# % (映射键)转换标记 最小字段宽度 转换类型\n",
    "# 转换标记有+,-,''或0\n",
    "# print(\"he has %(amount)+3.2f yuan\" % {\"amount\":333.222})\n",
    "# 0 为数字值填充零字符\n",
    "print(\"Python has %(number)03d quote types.\" % {\"number\": 2})\n",
    "# - 值将靠左对齐（如果同时给出 '0' 转换，则会覆盖后者）\n",
    "print(\"Python has %(number)-3d quote types.\" % {\"number\": 2})\n",
    "print(\"Python has %(number)-03d quote types.\" % {\"number\": 2})\n",
    "# 空格 转换产生的正数（或空字符串）前将留出一个空格\n",
    "print(\"Python has %(number) 1d quote types.\" % {\"number\": 2})\n",
    "# + 显示于转换结果的开头（会覆盖 \"空格\" 旗标）\n",
    "print(\"Python has %(number)+3d quote types.\" % {\"number\": 2})\n",
    "print(\"Python has %(number)+1d quote types.\" % {\"number\": 2})\n"
   ],
   "metadata": {
    "collapsed": false,
    "pycharm": {
     "name": "#%%\n"
    }
   }
  },
  {
   "cell_type": "markdown",
   "source": [
    "## 3 str.format()\n",
    "\n",
    "- 字符串的 `str.format()` 方法: `<模板字符串>.format(<逗号分隔的参数>)`\n",
    "- 使用 `{` 和 `}` 来标记变量将被替换的位置，并且可以提供详细的格式化指令，但你还需要提供要格式化的信息。\n"
   ],
   "metadata": {
    "collapsed": false
   }
  },
  {
   "cell_type": "code",
   "execution_count": 32,
   "outputs": [
    {
     "name": "stdout",
     "output_type": "stream",
     "text": [
      "We are the knights who say \"Ni!\"\n"
     ]
    }
   ],
   "source": [
    "print('We are the {} who say \"{}!\"'.format('knights', 'Ni'))"
   ],
   "metadata": {
    "collapsed": false,
    "pycharm": {
     "name": "#%%\n"
    }
   }
  },
  {
   "cell_type": "markdown",
   "source": [
    "花括号中的数字可用来表示传递给 str.format() 方法的对象的位置"
   ],
   "metadata": {
    "collapsed": false
   }
  },
  {
   "cell_type": "code",
   "execution_count": 33,
   "outputs": [
    {
     "name": "stdout",
     "output_type": "stream",
     "text": [
      "spam and eggs\n",
      "eggs and spam\n"
     ]
    }
   ],
   "source": [
    "print('{0} and {1}'.format('spam', 'eggs'))\n",
    "print('{1} and {0}'.format('spam', 'eggs'))"
   ],
   "metadata": {
    "collapsed": false,
    "pycharm": {
     "name": "#%%\n"
    }
   }
  },
  {
   "cell_type": "markdown",
   "source": [
    "在 str.format() 方法中使用关键字参数，则使用参数的名称引用它们的值"
   ],
   "metadata": {
    "collapsed": false
   }
  },
  {
   "cell_type": "code",
   "execution_count": 34,
   "outputs": [
    {
     "name": "stdout",
     "output_type": "stream",
     "text": [
      "This spam is absolutely horrible.\n"
     ]
    }
   ],
   "source": [
    "print('This {food} is {adjective}.'.format(\n",
    "      food='spam', adjective='absolutely horrible'))"
   ],
   "metadata": {
    "collapsed": false,
    "pycharm": {
     "name": "#%%\n"
    }
   }
  },
  {
   "cell_type": "markdown",
   "source": [
    "位置和关键字参数可以任意组合"
   ],
   "metadata": {
    "collapsed": false
   }
  },
  {
   "cell_type": "code",
   "execution_count": 35,
   "outputs": [
    {
     "name": "stdout",
     "output_type": "stream",
     "text": [
      "The story of Bill, Manfred, and Georg.\n"
     ]
    }
   ],
   "source": [
    "print('The story of {0}, {1}, and {other}.'.format('Bill', 'Manfred',other='Georg'))"
   ],
   "metadata": {
    "collapsed": false,
    "pycharm": {
     "name": "#%%\n"
    }
   }
  },
  {
   "cell_type": "markdown",
   "source": [
    "`<模板字符串>` 的槽除了包括参数序号，还可以包括格式控制信息。此时，槽的内部样式如下：\n",
    "\n",
    "    {<参数序号>: <格式控制标记>}\n",
    "\n",
    "其中，`<格式控制标记>` 用来控制参数显示时的格式，包括：`<填充><对齐><宽度><,><.精度><类型>`6 个字段，这些字段都是可选的，可以组合使用。\n",
    "\n",
    "- <填充>：指<宽度>内除了参数外的字符采用什么方式表示，默认采用空格，可以通过<填充>更换。\n",
    "- <对齐>：指参数在<宽度>内输出时的对齐方式，分别使用<、>和^三个符号表示左对齐、右对齐和居中对齐。\n",
    "- <宽度>：指当前槽的设定输出字符宽度，如果该槽对应的format()参数长度比<宽度>设定值大，则使用参数实际长度。如果该值的实际位数小于指定宽度，则位数将被默认以空格字符补充。"
   ],
   "metadata": {
    "collapsed": false,
    "pycharm": {
     "name": "#%% md\n"
    }
   }
  },
  {
   "cell_type": "code",
   "execution_count": 40,
   "outputs": [
    {
     "name": "stdout",
     "output_type": "stream",
     "text": [
      "he is a ***man****,has ######3.41\n"
     ]
    }
   ],
   "source": [
    "print(\"he is a {0:*^10},has {1:#>10.2f}\".format(\"man\",3.412))"
   ],
   "metadata": {
    "collapsed": false,
    "pycharm": {
     "name": "#%%\n"
    }
   }
  },
  {
   "cell_type": "markdown",
   "source": [
    "如果你有一个非常长的格式字符串，你不想把它拆开，\n",
    "那么你最好是【按名称而不是按位置】引用变量来进行格式化。\n",
    "\n",
    "这可以通过简单地【传递字典】并使用方括号 `[]` 访问键来完成。"
   ],
   "metadata": {
    "collapsed": false
   }
  },
  {
   "cell_type": "code",
   "execution_count": 36,
   "outputs": [
    {
     "name": "stdout",
     "output_type": "stream",
     "text": [
      "Jack: 4098; Sjoerd: 4127; Dcab: 8637678\n"
     ]
    }
   ],
   "source": [
    "table = {'Sjoerd': 4127, 'Jack': 4098, 'Dcab': 8637678}\n",
    "print('Jack: {0[Jack]:d}; Sjoerd: {0[Sjoerd]:d}; '  # 0 是位置\n",
    "      'Dcab: {0[Dcab]:d}'.format(table))"
   ],
   "metadata": {
    "collapsed": false,
    "pycharm": {
     "name": "#%%\n"
    }
   }
  },
  {
   "cell_type": "markdown",
   "source": [
    "可以通过使用 `**` 符号将 table 作为关键字参数传递。\n",
    "\n",
    "这在与内置函数 `vars()` 结合使用时非常有用，它会返回包含所有局部变量的字典。"
   ],
   "metadata": {
    "collapsed": false
   }
  },
  {
   "cell_type": "code",
   "execution_count": 37,
   "outputs": [
    {
     "name": "stdout",
     "output_type": "stream",
     "text": [
      "Jack: 4098; Sjoerd: 4127; Dcab: 8637678\n"
     ]
    }
   ],
   "source": [
    "table = {'Sjoerd': 4127, 'Jack': 4098, 'Dcab': 8637678}\n",
    "print('Jack: {Jack:d}; Sjoerd: {Sjoerd:d}; Dcab: {Dcab:d}'.format(**table))"
   ],
   "metadata": {
    "collapsed": false,
    "pycharm": {
     "name": "#%%\n"
    }
   }
  },
  {
   "cell_type": "code",
   "execution_count": 38,
   "outputs": [
    {
     "name": "stdout",
     "output_type": "stream",
     "text": [
      "name: time\n"
     ]
    }
   ],
   "source": [
    "import time\n",
    "# print(vars(time))\n",
    "print('name: {__name__}'.format(**vars(time)))"
   ],
   "metadata": {
    "collapsed": false,
    "pycharm": {
     "name": "#%%\n"
    }
   }
  },
  {
   "cell_type": "code",
   "execution_count": 39,
   "outputs": [
    {
     "name": "stdout",
     "output_type": "stream",
     "text": [
      " 1   1    1\n",
      " 2   4    8\n",
      " 3   9   27\n",
      " 4  16   64\n",
      " 5  25  125\n",
      " 6  36  216\n",
      " 7  49  343\n",
      " 8  64  512\n",
      " 9  81  729\n",
      "10 100 1000\n"
     ]
    }
   ],
   "source": [
    "#下面几行代码生成一组整齐的列，其中包含给定的整数和它的平方以及立方:\n",
    "for x in range(1, 11):\n",
    "    print('{0:2d} {1:3d} {2:4d}'.format(x, x*x, x*x*x))\n"
   ],
   "metadata": {
    "collapsed": false,
    "pycharm": {
     "name": "#%%\n"
    }
   }
  },
  {
   "cell_type": "markdown",
   "source": [
    "## 4 f 或 F\n",
    "\n",
    "- 要使用 格式化字符串字面值 ，请在字符串的开始引号或三引号之前加上一个 f 或 F 。\n",
    "- 在此字符串中，你可以在 `{` 和 `}` 字符之间写可以引用的变量或字面值的 Python 表达式。"
   ],
   "metadata": {
    "collapsed": false
   }
  },
  {
   "cell_type": "code",
   "execution_count": 41,
   "outputs": [
    {
     "name": "stdout",
     "output_type": "stream",
     "text": [
      "Results of the 2016 Referendum\n",
      "Results of the 2017 Referendum\n"
     ]
    }
   ],
   "source": [
    "year = 2016\n",
    "event = 'Referendum'\n",
    "print(f'Results of the {year} {event}')\n",
    "print(f'Results of the {year+1} {event}')"
   ],
   "metadata": {
    "collapsed": false,
    "pycharm": {
     "name": "#%%\n"
    }
   }
  },
  {
   "cell_type": "markdown",
   "source": [
    "可选的格式说明符可以跟在表达式后面"
   ],
   "metadata": {
    "collapsed": false
   }
  },
  {
   "cell_type": "code",
   "execution_count": 42,
   "outputs": [
    {
     "name": "stdout",
     "output_type": "stream",
     "text": [
      "The value of pi is approximately 3.142.\n"
     ]
    }
   ],
   "source": [
    "import math\n",
    "print(f'The value of pi is approximately {math.pi:.3f}.')"
   ],
   "metadata": {
    "collapsed": false,
    "pycharm": {
     "name": "#%%\n"
    }
   }
  },
  {
   "cell_type": "markdown",
   "source": [
    "在 `:` 后传递一个整数可以让该字段成为最小字符宽度。这在使列对齐时很有用"
   ],
   "metadata": {
    "collapsed": false
   }
  },
  {
   "cell_type": "code",
   "execution_count": 43,
   "outputs": [
    {
     "name": "stdout",
     "output_type": "stream",
     "text": [
      "Sjoerd     ==>       4127\n",
      "Jack       ==>       4098\n",
      "Dcab       ==>       7678\n"
     ]
    }
   ],
   "source": [
    "table = {'Sjoerd': 4127, 'Jack': 4098, 'Dcab': 7678}\n",
    "for name, phone in table.items():\n",
    "    print(f'{name:10} ==> {phone:10d}')"
   ],
   "metadata": {
    "collapsed": false,
    "pycharm": {
     "name": "#%%\n"
    }
   }
  },
  {
   "cell_type": "markdown",
   "source": [
    "其他的修饰符可用于在格式化之前转化值。\n",
    "\n",
    "`!a` 应用 ascii() ，`!s` 应用 str()，还有 `!r` 应用 repr():"
   ],
   "metadata": {
    "collapsed": false
   }
  },
  {
   "cell_type": "code",
   "execution_count": 44,
   "outputs": [
    {
     "name": "stdout",
     "output_type": "stream",
     "text": [
      "My hovercraft is full of eels.\n",
      "My hovercraft is full of eels.\n",
      "My hovercraft is full of 'eels'.\n"
     ]
    }
   ],
   "source": [
    "animals = 'eels'\n",
    "print(f'My hovercraft is full of {animals}.')\n",
    "print(f'My hovercraft is full of {animals!s}.')\n",
    "print(f'My hovercraft is full of {animals!r}.')"
   ],
   "metadata": {
    "collapsed": false,
    "pycharm": {
     "name": "#%%\n"
    }
   }
  },
  {
   "cell_type": "markdown",
   "source": [
    "## 5 Template 类\n",
    "\n",
    "string 模块包含一个通用的 Template 类，允许用户在不更改应用逻辑的情况下定制自己的应用。\n",
    "\n",
    "上述格式化操作是通过占位符实现的，占位符由 `$` 加上合法的 Python 标识符（只能包含字母、数字和下划线）构成。\n",
    "\n",
    "一旦使用花括号将占位符括起来，就可以在后面直接跟上更多的字母和数字而无需空格分割。`$$` 将被转义成单个字符 `$`:"
   ],
   "metadata": {
    "collapsed": false
   }
  },
  {
   "cell_type": "code",
   "execution_count": 45,
   "outputs": [
    {
     "name": "stdout",
     "output_type": "stream",
     "text": [
      "zhangsan likes apple\n"
     ]
    }
   ],
   "source": [
    "from string import Template"
   ],
   "metadata": {
    "collapsed": false,
    "pycharm": {
     "name": "#%%\n"
    }
   }
  },
  {
   "cell_type": "code",
   "execution_count": 48,
   "outputs": [
    {
     "name": "stdout",
     "output_type": "stream",
     "text": [
      "Nottinghamfolk send $10 to the ditch fund.\n"
     ]
    }
   ],
   "source": [
    "t = Template('${village}folk send $$10 to $cause.')\n",
    "t1 = t.substitute(village='Nottingham', cause='the ditch fund')\n",
    "print(t1)"
   ],
   "metadata": {
    "collapsed": false,
    "pycharm": {
     "name": "#%%\n"
    }
   }
  },
  {
   "cell_type": "markdown",
   "source": [
    "如果在字典或关键字参数中未提供某个占位符的值，那么 substitute() 方法将抛出 KeyError。\n",
    "\n",
    "对于邮件合并类型的应用，用户提供的数据有可能是不完整的，此时使用 safe_substitute() 方法更加合适 —— 如果数据缺失，它会直接将占位符原样保留\n"
   ],
   "metadata": {
    "collapsed": false
   }
  },
  {
   "cell_type": "code",
   "execution_count": 49,
   "outputs": [
    {
     "ename": "KeyError",
     "evalue": "'owner'",
     "output_type": "error",
     "traceback": [
      "\u001B[1;31m---------------------------------------------------------------------------\u001B[0m",
      "\u001B[1;31mKeyError\u001B[0m                                  Traceback (most recent call last)",
      "\u001B[1;32m~\\AppData\\Local\\Temp/ipykernel_19816/3335412064.py\u001B[0m in \u001B[0;36m<module>\u001B[1;34m\u001B[0m\n\u001B[0;32m      1\u001B[0m \u001B[0mt\u001B[0m \u001B[1;33m=\u001B[0m \u001B[0mTemplate\u001B[0m\u001B[1;33m(\u001B[0m\u001B[1;34m'Return the $item to $owner.'\u001B[0m\u001B[1;33m)\u001B[0m\u001B[1;33m\u001B[0m\u001B[1;33m\u001B[0m\u001B[0m\n\u001B[0;32m      2\u001B[0m \u001B[0md\u001B[0m \u001B[1;33m=\u001B[0m \u001B[0mdict\u001B[0m\u001B[1;33m(\u001B[0m\u001B[0mitem\u001B[0m\u001B[1;33m=\u001B[0m\u001B[1;34m'unladen swallow'\u001B[0m\u001B[1;33m)\u001B[0m\u001B[1;33m\u001B[0m\u001B[1;33m\u001B[0m\u001B[0m\n\u001B[1;32m----> 3\u001B[1;33m \u001B[0mt1\u001B[0m \u001B[1;33m=\u001B[0m \u001B[0mt\u001B[0m\u001B[1;33m.\u001B[0m\u001B[0msubstitute\u001B[0m\u001B[1;33m(\u001B[0m\u001B[0md\u001B[0m\u001B[1;33m)\u001B[0m\u001B[1;33m\u001B[0m\u001B[1;33m\u001B[0m\u001B[0m\n\u001B[0m\u001B[0;32m      4\u001B[0m \u001B[0mprint\u001B[0m\u001B[1;33m(\u001B[0m\u001B[0mt1\u001B[0m\u001B[1;33m)\u001B[0m\u001B[1;33m\u001B[0m\u001B[1;33m\u001B[0m\u001B[0m\n\u001B[0;32m      5\u001B[0m \u001B[1;33m\u001B[0m\u001B[0m\n",
      "\u001B[1;32me:\\python\\python38\\lib\\string.py\u001B[0m in \u001B[0;36msubstitute\u001B[1;34m(self, mapping, **kws)\u001B[0m\n\u001B[0;32m    124\u001B[0m             raise ValueError('Unrecognized named group in pattern',\n\u001B[0;32m    125\u001B[0m                              self.pattern)\n\u001B[1;32m--> 126\u001B[1;33m         \u001B[1;32mreturn\u001B[0m \u001B[0mself\u001B[0m\u001B[1;33m.\u001B[0m\u001B[0mpattern\u001B[0m\u001B[1;33m.\u001B[0m\u001B[0msub\u001B[0m\u001B[1;33m(\u001B[0m\u001B[0mconvert\u001B[0m\u001B[1;33m,\u001B[0m \u001B[0mself\u001B[0m\u001B[1;33m.\u001B[0m\u001B[0mtemplate\u001B[0m\u001B[1;33m)\u001B[0m\u001B[1;33m\u001B[0m\u001B[1;33m\u001B[0m\u001B[0m\n\u001B[0m\u001B[0;32m    127\u001B[0m \u001B[1;33m\u001B[0m\u001B[0m\n\u001B[0;32m    128\u001B[0m     \u001B[1;32mdef\u001B[0m \u001B[0msafe_substitute\u001B[0m\u001B[1;33m(\u001B[0m\u001B[0mself\u001B[0m\u001B[1;33m,\u001B[0m \u001B[0mmapping\u001B[0m\u001B[1;33m=\u001B[0m\u001B[0m_sentinel_dict\u001B[0m\u001B[1;33m,\u001B[0m \u001B[1;33m/\u001B[0m\u001B[1;33m,\u001B[0m \u001B[1;33m**\u001B[0m\u001B[0mkws\u001B[0m\u001B[1;33m)\u001B[0m\u001B[1;33m:\u001B[0m\u001B[1;33m\u001B[0m\u001B[1;33m\u001B[0m\u001B[0m\n",
      "\u001B[1;32me:\\python\\python38\\lib\\string.py\u001B[0m in \u001B[0;36mconvert\u001B[1;34m(mo)\u001B[0m\n\u001B[0;32m    117\u001B[0m             \u001B[0mnamed\u001B[0m \u001B[1;33m=\u001B[0m \u001B[0mmo\u001B[0m\u001B[1;33m.\u001B[0m\u001B[0mgroup\u001B[0m\u001B[1;33m(\u001B[0m\u001B[1;34m'named'\u001B[0m\u001B[1;33m)\u001B[0m \u001B[1;32mor\u001B[0m \u001B[0mmo\u001B[0m\u001B[1;33m.\u001B[0m\u001B[0mgroup\u001B[0m\u001B[1;33m(\u001B[0m\u001B[1;34m'braced'\u001B[0m\u001B[1;33m)\u001B[0m\u001B[1;33m\u001B[0m\u001B[1;33m\u001B[0m\u001B[0m\n\u001B[0;32m    118\u001B[0m             \u001B[1;32mif\u001B[0m \u001B[0mnamed\u001B[0m \u001B[1;32mis\u001B[0m \u001B[1;32mnot\u001B[0m \u001B[1;32mNone\u001B[0m\u001B[1;33m:\u001B[0m\u001B[1;33m\u001B[0m\u001B[1;33m\u001B[0m\u001B[0m\n\u001B[1;32m--> 119\u001B[1;33m                 \u001B[1;32mreturn\u001B[0m \u001B[0mstr\u001B[0m\u001B[1;33m(\u001B[0m\u001B[0mmapping\u001B[0m\u001B[1;33m[\u001B[0m\u001B[0mnamed\u001B[0m\u001B[1;33m]\u001B[0m\u001B[1;33m)\u001B[0m\u001B[1;33m\u001B[0m\u001B[1;33m\u001B[0m\u001B[0m\n\u001B[0m\u001B[0;32m    120\u001B[0m             \u001B[1;32mif\u001B[0m \u001B[0mmo\u001B[0m\u001B[1;33m.\u001B[0m\u001B[0mgroup\u001B[0m\u001B[1;33m(\u001B[0m\u001B[1;34m'escaped'\u001B[0m\u001B[1;33m)\u001B[0m \u001B[1;32mis\u001B[0m \u001B[1;32mnot\u001B[0m \u001B[1;32mNone\u001B[0m\u001B[1;33m:\u001B[0m\u001B[1;33m\u001B[0m\u001B[1;33m\u001B[0m\u001B[0m\n\u001B[0;32m    121\u001B[0m                 \u001B[1;32mreturn\u001B[0m \u001B[0mself\u001B[0m\u001B[1;33m.\u001B[0m\u001B[0mdelimiter\u001B[0m\u001B[1;33m\u001B[0m\u001B[1;33m\u001B[0m\u001B[0m\n",
      "\u001B[1;31mKeyError\u001B[0m: 'owner'"
     ]
    }
   ],
   "source": [
    "t = Template('Return the $item to $owner.')\n",
    "d = dict(item='unladen swallow')\n",
    "t1 = t.substitute(d)\n",
    "print(t1)"
   ],
   "metadata": {
    "collapsed": false,
    "pycharm": {
     "name": "#%%\n"
    }
   }
  },
  {
   "cell_type": "code",
   "execution_count": 50,
   "outputs": [
    {
     "name": "stdout",
     "output_type": "stream",
     "text": [
      "Return the unladen swallow to $owner.\n"
     ]
    }
   ],
   "source": [
    "t2 = t.safe_substitute(d)\n",
    "print(t2)"
   ],
   "metadata": {
    "collapsed": false,
    "pycharm": {
     "name": "#%%\n"
    }
   }
  },
  {
   "cell_type": "markdown",
   "source": [
    "Template 的子类可以自定义分隔符。"
   ],
   "metadata": {
    "collapsed": false
   }
  },
  {
   "cell_type": "code",
   "execution_count": 51,
   "outputs": [
    {
     "name": "stdout",
     "output_type": "stream",
     "text": [
      "Nottingham - folk\n"
     ]
    }
   ],
   "source": [
    "class BatchRename(Template):\n",
    "    delimiter = '%'\n",
    "\n",
    "t = BatchRename('%{village} - folk')\n",
    "t1 = t.substitute(village='Nottingham')\n",
    "print(t1)"
   ],
   "metadata": {
    "collapsed": false,
    "pycharm": {
     "name": "#%%\n"
    }
   }
  },
  {
   "cell_type": "code",
   "execution_count": null,
   "outputs": [],
   "source": [
    "# 例如，以下是某个照片浏览器的批量重命名功能，采用了百分号作为日期、照片序号和照片格式的占位符\n",
    "import time, os.path\n",
    "photofiles = ['img_1074.jpg', 'img_1076.jpg', 'img_1077.jpg']\n",
    "class BatchRename(Template):\n",
    "    delimiter = '%'\n",
    "fmt = input('Enter rename style (%d-date %n-seqnum %f-format):  ')\n",
    "# Ashley_%n%f  %{d}_%{n}%{f}\n",
    "t = BatchRename(fmt)\n",
    "date = time.strftime('%d%b%y')\n",
    "for i, filename in enumerate(photofiles):\n",
    "    base, ext = os.path.splitext(filename)\n",
    "    print(date,i,ext)\n",
    "    newname = t.substitute(d=date, n=i, f=ext)\n",
    "    print('{0} --> {1}'.format(filename, newname))"
   ],
   "metadata": {
    "collapsed": false,
    "pycharm": {
     "name": "#%%\n"
    }
   }
  },
  {
   "cell_type": "markdown",
   "source": [
    "## 6 手动格式化字符串\n",
    "\n",
    "- 使用字符串切片和连接操作自己完成所有的字符串处理，以创建你可以想象的任何布局。\n",
    "- 字符串类型有一些方法可以执行将字符串填充到给定列宽的有用操作。"
   ],
   "metadata": {
    "collapsed": false
   }
  },
  {
   "cell_type": "code",
   "execution_count": 46,
   "outputs": [
    {
     "name": "stdout",
     "output_type": "stream",
     "text": [
      "a-b\n",
      "-abcdefg--\n"
     ]
    }
   ],
   "source": [
    "s1 = \"a\" + \"-\" + \"b\"\n",
    "print(s1)\n",
    "# 居中对齐，第1个参数指定宽度，第2个参数指定填充符\n",
    "s2 = \"abcdefg\".center(10,\"-\")\n",
    "print(s2)"
   ],
   "metadata": {
    "collapsed": false,
    "pycharm": {
     "name": "#%%\n"
    }
   }
  },
  {
   "cell_type": "code",
   "execution_count": 47,
   "outputs": [
    {
     "name": "stdout",
     "output_type": "stream",
     "text": [
      " 1   1    1\n",
      " 2   4    8\n",
      " 3   9   27\n",
      " 4  16   64\n",
      " 5  25  125\n",
      " 6  36  216\n",
      " 7  49  343\n",
      " 8  64  512\n",
      " 9  81  729\n",
      "10 100 1000\n"
     ]
    }
   ],
   "source": [
    "for x in range(1, 11):\n",
    "    print(repr(x).rjust(2), repr(x*x).rjust(3), end=' ')\n",
    "    # Note use of 'end' on previous line\n",
    "    print(repr(x*x*x).rjust(4))"
   ],
   "metadata": {
    "collapsed": false,
    "pycharm": {
     "name": "#%%\n"
    }
   }
  },
  {
   "cell_type": "markdown",
   "source": [
    "格式化操作符辅助指令:\n",
    "\n",
    "符号 | 功能\n",
    "---  |:---\n",
    "* | 定义宽度或者小数点精度\n",
    "- | 用做左对齐\n",
    "+ | 在正数前面显示加号( + )\n",
    "`<sp>` | 在正数前面显示空格\n",
    "\\# | 在八进制数前面显示零('0')，在十六进制前面显示'0x'或者'0X'(取决于用的是'x'还是'X')\n",
    "0 | 显示的数字前面填充'0'而不是默认的空格\n",
    "% | '%%'输出一个单一的'%'\n",
    "(var) | 映射变量(字典参数)\n",
    "m.n. | m 是显示的最小总宽度,n 是小数点后的位数(如果可用的话)\n",
    "\n",
    "字符串格式化符号:\n",
    "\n",
    "符号 | 描述\n",
    "---  |:---\n",
    "%c | 格式化字符及其ASCII码\n",
    "%s | 格式化字符串\n",
    "%d | 格式化整数\n",
    "%u | 格式化无符号整型\n",
    "%o | 格式化无符号八进制数\n",
    "%x | 格式化无符号十六进制数\n",
    "%X | 格式化无符号十六进制数（大写）\n",
    "%f | 格式化浮点数字，可指定小数点后的精度\n",
    "%e | 用科学计数法格式化浮点数\n",
    "%E | 作用同%e，用科学计数法格式化浮点数\n",
    "%g | %f和%e的简写\n",
    "%G | %F 和 %E 的简写\n",
    "%p | 用十六进制数格式化变量的地址"
   ],
   "metadata": {
    "collapsed": false
   }
  }
 ],
 "metadata": {
  "kernelspec": {
   "display_name": "Python 3",
   "language": "python",
   "name": "python3"
  },
  "language_info": {
   "codemirror_mode": {
    "name": "ipython",
    "version": 2
   },
   "file_extension": ".py",
   "mimetype": "text/x-python",
   "name": "python",
   "nbconvert_exporter": "python",
   "pygments_lexer": "ipython2",
   "version": "2.7.6"
  }
 },
 "nbformat": 4,
 "nbformat_minor": 0
}