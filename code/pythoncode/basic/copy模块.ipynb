{
 "cells": [
  {
   "cell_type": "code",
   "metadata": {
    "collapsed": true,
    "pycharm": {
     "name": "#%%\n"
    }
   },
   "source": [
    "# python 里的赋值语句并不会赋值对象，它们会创建一个目标和对象的绑定关系。\n",
    "a = 3   # 为3创建了一个引用\n",
    "b = a   # 并不是把 a 赋值给 b，而是为 3 创建了另一个引用\n",
    "\n",
    "print(id(a))\n",
    "print(id(b))"
   ],
   "execution_count": 1,
   "outputs": [
    {
     "name": "stdout",
     "output_type": "stream",
     "text": [
      "140722884773616\n",
      "140722884773616\n"
     ]
    }
   ]
  },
  {
   "cell_type": "markdown",
   "source": [
    "所以，对于**可变的集合，或包含了可变元素的集合**的修改，就需要副本。这种改变操作作用于其副本，进而避免改变原对象。\n",
    "\n",
    "\t可变对象：字典(dict), 集合(set), 列表(list)\n",
    "\t不可变对象包含：整型(int), 字符串(string), 浮点型(float), 元组(tuple)"
   ],
   "metadata": {
    "collapsed": false,
    "pycharm": {
     "name": "#%% md\n"
    }
   }
  },
  {
   "cell_type": "markdown",
   "source": [
    "copy模块有浅拷贝和深拷贝。\n",
    "\n",
    "- copy.copy(x)  返回 x 的浅拷贝。\n",
    "- copy.deepcopy(x[, memo])  返回 x 的深拷贝。\n",
    "\n",
    "**两者不同之处仅和复合对象(包含其他对象的对象，如列表、类实例)相关：**\n",
    "\n",
    "- 浅拷贝：构造一个新的复合对象，为原始对象中的对象创建一个引用。\n",
    "- 深拷贝：构造一个新的复合对象，然后，递归地，为原始对象中的对象创建一个副本。"
   ],
   "metadata": {
    "collapsed": false
   }
  },
  {
   "cell_type": "code",
   "source": [
    "import copy"
   ],
   "metadata": {
    "collapsed": false,
    "pycharm": {
     "name": "#%%\n"
    }
   },
   "execution_count": 4,
   "outputs": []
  },
  {
   "cell_type": "code",
   "execution_count": 5,
   "outputs": [
    {
     "name": "stdout",
     "output_type": "stream",
     "text": [
      "140722884773680\n",
      "140722884773680\n",
      "140722884773680\n",
      "----------------\n",
      "140722884773712\n",
      "140722884773712\n",
      "140722884773712\n"
     ]
    }
   ],
   "source": [
    "# 对不可变对象效果一样\n",
    "a = 5\n",
    "ca = copy.copy(a)\n",
    "dca = copy.deepcopy(a)\n",
    "\n",
    "print(id(a))\n",
    "print(id(ca))\n",
    "print(id(dca))"
   ],
   "metadata": {
    "collapsed": false,
    "pycharm": {
     "name": "#%%\n"
    }
   }
  },
  {
   "cell_type": "code",
   "source": [
    "# 修改可变对象中的不可变元素，效果一样\n",
    "list_copy = [1,2,3,[4,5]]\n",
    "\n",
    "c = copy.copy(list_copy)\n",
    "dc = copy.deepcopy(list_copy)\n",
    "list_copy[2] = 6\n",
    "print(list_copy)\n",
    "print(c)\n",
    "print(dc)"
   ],
   "metadata": {
    "collapsed": false,
    "pycharm": {
     "name": "#%%\n"
    }
   },
   "execution_count": 7,
   "outputs": [
    {
     "name": "stdout",
     "output_type": "stream",
     "text": [
      "[1, 2, 6, [4, 5]]\n",
      "[1, 2, 3, [4, 5]]\n",
      "[1, 2, 3, [4, 5]]\n"
     ]
    }
   ]
  },
  {
   "cell_type": "code",
   "execution_count": 8,
   "outputs": [
    {
     "name": "stdout",
     "output_type": "stream",
     "text": [
      "[1, 2, 3, [4, 5]]\n",
      "[1, 2, 6, [4, 5]]\n",
      "[1, 2, 3, [4, 5]]\n"
     ]
    }
   ],
   "source": [
    "list_copy = [1,2,3,[4,5]]\n",
    "\n",
    "c = copy.copy(list_copy)\n",
    "dc = copy.deepcopy(list_copy)\n",
    "c[2] = 6\n",
    "print(list_copy)\n",
    "print(c)\n",
    "print(dc)\n"
   ],
   "metadata": {
    "collapsed": false,
    "pycharm": {
     "name": "#%%\n"
    }
   }
  },
  {
   "cell_type": "code",
   "execution_count": 9,
   "outputs": [
    {
     "name": "stdout",
     "output_type": "stream",
     "text": [
      "[1, 2, 3, [4, 5]]\n",
      "[1, 2, 3, [4, 5]]\n",
      "[1, 2, 6, [4, 5]]\n"
     ]
    }
   ],
   "source": [
    "list_copy = [1,2,3,[4,5]]\n",
    "\n",
    "c = copy.copy(list_copy)\n",
    "dc = copy.deepcopy(list_copy)\n",
    "dc[2] = 6\n",
    "print(list_copy)\n",
    "print(c)\n",
    "print(dc)"
   ],
   "metadata": {
    "collapsed": false,
    "pycharm": {
     "name": "#%%\n"
    }
   }
  },
  {
   "cell_type": "code",
   "execution_count": 10,
   "outputs": [
    {
     "name": "stdout",
     "output_type": "stream",
     "text": [
      "[1, 2, 3, [6, 5]]\n",
      "[1, 2, 3, [6, 5]]\n",
      "[1, 2, 3, [4, 5]]\n"
     ]
    }
   ],
   "source": [
    "# 修改可变对象中的可变元素，效果不一样\n",
    "list_copy = [1,2,3,[4,5]]\n",
    "\n",
    "c = copy.copy(list_copy)\n",
    "dc = copy.deepcopy(list_copy)\n",
    "\n",
    "list_copy[3][0] = 6\n",
    "print(list_copy)\n",
    "print(c)\n",
    "print(dc)"
   ],
   "metadata": {
    "collapsed": false,
    "pycharm": {
     "name": "#%%\n"
    }
   }
  },
  {
   "cell_type": "code",
   "execution_count": 11,
   "outputs": [
    {
     "name": "stdout",
     "output_type": "stream",
     "text": [
      "[1, 2, 3, [6, 5]]\n",
      "[1, 2, 3, [6, 5]]\n",
      "[1, 2, 3, [4, 5]]\n"
     ]
    }
   ],
   "source": [
    "list_copy = [1,2,3,[4,5]]\n",
    "\n",
    "c = copy.copy(list_copy)\n",
    "dc = copy.deepcopy(list_copy)\n",
    "c[3][0] = 6\n",
    "print(list_copy)\n",
    "print(c)\n",
    "print(dc)\n"
   ],
   "metadata": {
    "collapsed": false,
    "pycharm": {
     "name": "#%%\n"
    }
   }
  },
  {
   "cell_type": "code",
   "execution_count": 12,
   "outputs": [
    {
     "name": "stdout",
     "output_type": "stream",
     "text": [
      "[1, 2, 3, [4, 5]]\n",
      "[1, 2, 3, [4, 5]]\n",
      "[1, 2, 3, [6, 5]]\n"
     ]
    }
   ],
   "source": [
    "list_copy = [1,2,3,[4,5]]\n",
    "\n",
    "c = copy.copy(list_copy)\n",
    "dc = copy.deepcopy(list_copy)\n",
    "dc[3][0] = 6\n",
    "print(list_copy)\n",
    "print(c)\n",
    "print(dc)"
   ],
   "metadata": {
    "collapsed": false,
    "pycharm": {
     "name": "#%%\n"
    }
   }
  },
  {
   "cell_type": "markdown",
   "source": [
    "**深拷贝有两个问题，而浅拷贝不存在：**\n",
    "\n",
    "- 递归对象(直接或间接包含对自身引用的复合对象)可能导致递归循环。\n",
    "- 因为深拷贝复制了它能复制的所有内容，因此可能会过多复制(如本应该在副本之间共享的数据)。\n",
    "\n",
    "深拷贝为避免上述问题，通过：\n",
    "\n",
    "- 在复制过程中，保留复制对象的 memo 字典\n",
    "- 让用户定义的类重写复制操作，或复制的组件集。\n",
    "\n",
    "**可以通过定义特殊方法 `__copy__()` 和 `__deepcopy__()`，给一个类定义它自己的拷贝操作实现**。\n",
    "\n",
    "调用前者以实现浅层拷贝操作，该方法不用传入额外参数。\n",
    "调用后者以实现深层拷贝操作；它应传入一个参数即 memo 字典。\n",
    "\n",
    "如果 `__deepcopy__()` 实现需要创建一个组件的深层拷贝，它应当调用 `deepcopy()` 函数，\n",
    "并以该组件作为第一个参数，而将 memo 字典作为第二个参数。\n",
    "\n",
    "参考：[https://www.jianshu.com/p/e8a4d0b9b222](https://www.jianshu.com/p/e8a4d0b9b222)\n"
   ],
   "metadata": {
    "collapsed": false,
    "pycharm": {
     "name": "#%% md\n"
    }
   }
  },
  {
   "cell_type": "markdown",
   "source": [
    "**字典的浅拷贝使用 [dict.copy()](https://docs.python.org/zh-cn/3.8/library/stdtypes.html#dict.copy)。**"
   ],
   "metadata": {
    "collapsed": false
   }
  },
  {
   "cell_type": "code",
   "execution_count": 13,
   "outputs": [
    {
     "name": "stdout",
     "output_type": "stream",
     "text": [
      "1492507714944\n",
      "1492506751296\n",
      "{'a': 1, 'b': 2}\n",
      "{'a': 1, 'b': 3}\n",
      "{'a': 1, 'b': 2}\n"
     ]
    }
   ],
   "source": [
    "d = {'a':1,'b':2}\n",
    "\n",
    "cd = d.copy()\n",
    "\n",
    "print(id(d))\n",
    "print(id(cd))\n",
    "print(cd)\n",
    "\n",
    "# 修改值\n",
    "d['b'] = 3\n",
    "\n",
    "# 未影响cd\n",
    "print(d)\n",
    "print(cd)"
   ],
   "metadata": {
    "collapsed": false,
    "pycharm": {
     "name": "#%%\n"
    }
   }
  },
  {
   "cell_type": "code",
   "execution_count": 14,
   "outputs": [
    {
     "name": "stdout",
     "output_type": "stream",
     "text": [
      "1492506726016\n",
      "1492506725888\n",
      "{'a': 1, 'b': [2, 3]}\n",
      "{'a': 1, 'b': [4, 3]}\n",
      "{'a': 1, 'b': [4, 3]}\n"
     ]
    }
   ],
   "source": [
    "# 复合对象\n",
    "d2 = {'a':1,'b':[2,3]}\n",
    "cd2 = d2.copy()\n",
    "\n",
    "print(id(d2))\n",
    "print(id(cd2))\n",
    "print(cd2)\n",
    "\n",
    "# 修改值\n",
    "d2['b'][0] = 4\n",
    "\n",
    "# 影响cd2\n",
    "print(d2)\n",
    "print(cd2)\n",
    "\n",
    "# cd = d.deepcopy()\n",
    "# print(cd)  # AttributeError: 'dict' object has no attribute 'deepcopy'"
   ],
   "metadata": {
    "collapsed": false,
    "pycharm": {
     "name": "#%%\n"
    }
   }
  },
  {
   "cell_type": "code",
   "execution_count": 18,
   "outputs": [
    {
     "name": "stdout",
     "output_type": "stream",
     "text": [
      "{'a': 1, 'b': 2}\n",
      "{'a': 1, 'b': 3}\n",
      "{'a': 1, 'b': 2}\n",
      "---------------\n",
      "{'a': 1, 'b': [2, 3]}\n",
      "{'a': 1, 'b': [4, 3]}\n",
      "{'a': 1, 'b': [4, 3]}\n"
     ]
    }
   ],
   "source": [
    "# 使用 = 复制\n",
    "d = {'a':1,'b':2}\n",
    "cd3 = d\n",
    "print(cd3)\n",
    "\n",
    "d['b'] = 3\n",
    "print(d)\n",
    "print(cd) # 不影响cd\n",
    "print(\"---------------\")\n",
    "\n",
    "d2 = {'a':1,'b':[2,3]}\n",
    "cd3 = d2\n",
    "print(cd3)\n",
    "\n",
    "d2['b'][0] = 4\n",
    "print(d2)\n",
    "print(cd3)  # 影响cd3"
   ],
   "metadata": {
    "collapsed": false,
    "pycharm": {
     "name": "#%%\n"
    }
   }
  },
  {
   "cell_type": "markdown",
   "source": [
    "**列表的浅拷贝使用切片:`copied_list = original_list[:]`**"
   ],
   "metadata": {
    "collapsed": false,
    "pycharm": {
     "name": "#%% md\n"
    }
   }
  },
  {
   "cell_type": "code",
   "execution_count": 19,
   "outputs": [
    {
     "name": "stdout",
     "output_type": "stream",
     "text": [
      "1492520759168\n",
      "1492520761600\n",
      "[1, 2, 3]\n",
      "---------------\n",
      "[1, 2, 3, 4]\n",
      "[1, 2, 3]\n"
     ]
    }
   ],
   "source": [
    "# 列表\n",
    "l = [1,2,3]\n",
    "cl = l[:]\n",
    "\n",
    "print(id(l))\n",
    "print(id(cl))\n",
    "print(cl)\n",
    "print(\"---------------\")\n",
    "\n",
    "# 追加值\n",
    "l.append(4)\n",
    "\n",
    "# 未影响cl\n",
    "print(l)\n",
    "print(cl)"
   ],
   "metadata": {
    "collapsed": false,
    "pycharm": {
     "name": "#%%\n"
    }
   }
  },
  {
   "cell_type": "code",
   "execution_count": 20,
   "outputs": [
    {
     "name": "stdout",
     "output_type": "stream",
     "text": [
      "1492520758336\n",
      "1492520762624\n",
      "[1, 2, 3, 4]\n",
      "---------------\n",
      "[1, 2, 3, [6, 5]]\n",
      "[1, 2, 3, 4]\n"
     ]
    }
   ],
   "source": [
    "# 复合对象\n",
    "l2 = [1,2,3,[4,5]]\n",
    "cl2 = l[:]\n",
    "\n",
    "print(id(l2))\n",
    "print(id(cl2))\n",
    "print(cl2)\n",
    "print(\"---------------\")\n",
    "\n",
    "# 修改值\n",
    "l2[3][0]=6\n",
    "# 不影响cl2\n",
    "print(l2)\n",
    "print(cl2)\n",
    "\n"
   ],
   "metadata": {
    "collapsed": false,
    "pycharm": {
     "name": "#%%\n"
    }
   }
  }
 ],
 "metadata": {
  "kernelspec": {
   "display_name": "Python 3",
   "language": "python",
   "name": "python3"
  },
  "language_info": {
   "codemirror_mode": {
    "name": "ipython",
    "version": 2
   },
   "file_extension": ".py",
   "mimetype": "text/x-python",
   "name": "python",
   "nbconvert_exporter": "python",
   "pygments_lexer": "ipython2",
   "version": "2.7.6"
  }
 },
 "nbformat": 4,
 "nbformat_minor": 0
}