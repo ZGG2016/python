{
 "cells": [
  {
   "cell_type": "markdown",
   "metadata": {
    "collapsed": true,
    "pycharm": {
     "name": "#%% md\n"
    }
   },
   "source": [
    "## break\n",
    "\n",
    "- 它会终结 **最近** 的外层循环，如果循环有可选的 else 子句，也会跳过该子句。\n",
    "- 如果一个 for 循环被 break 所终结，该循环的控制目标会保持其当前值。\n",
    "- 当 break 将控制流传出一个带有 finally 子句的 try 语句时，该 finally 子句会先被执行然后再真正离开该循环。"
   ]
  },
  {
   "cell_type": "code",
   "execution_count": 5,
   "outputs": [
    {
     "name": "stdout",
     "output_type": "stream",
     "text": [
      "2\n"
     ]
    }
   ],
   "source": [
    "for n in range(2,6):\n",
    "    if n % 2 == 0:\n",
    "        print(n)\n",
    "        break\n"
   ],
   "metadata": {
    "collapsed": false,
    "pycharm": {
     "name": "#%%\n"
    }
   }
  },
  {
   "cell_type": "code",
   "execution_count": 7,
   "outputs": [
    {
     "name": "stdout",
     "output_type": "stream",
     "text": [
      "2\n"
     ]
    }
   ],
   "source": [
    "for n in range(2,6):\n",
    "    if n % 2 == 0:\n",
    "        print(n)\n",
    "        break\n",
    "else:\n",
    "    print(\"for循环完成\")"
   ],
   "metadata": {
    "collapsed": false,
    "pycharm": {
     "name": "#%%\n"
    }
   }
  },
  {
   "cell_type": "code",
   "execution_count": 11,
   "outputs": [
    {
     "name": "stdout",
     "output_type": "stream",
     "text": [
      "2 is a prime number\n",
      "外层for循环的里面，内层for循环的外面\n",
      "内层for循环的里面\n",
      "3 is a prime number\n",
      "外层for循环的里面，内层for循环的外面\n",
      "4 equals 2 * 0\n",
      "外层for循环的里面，内层for循环的外面\n",
      "内层for循环的里面\n",
      "内层for循环的里面\n",
      "内层for循环的里面\n",
      "5 is a prime number\n",
      "外层for循环的里面，内层for循环的外面\n",
      "外层for循环的外面\n"
     ]
    }
   ],
   "source": [
    "# 搜索素数的循环\n",
    "for n in range(2,6):\n",
    "    for x in range(2,n):\n",
    "        if n % x == 0:\n",
    "            print(n, 'equals', x, '*', x//n)\n",
    "            break\n",
    "        print(\"内层for循环的里面\")\n",
    "    else:\n",
    "        print(n, 'is a prime number')\n",
    "    print(\"外层for循环的里面，内层for循环的外面\")\n",
    "print(\"外层for循环的外面\")"
   ],
   "metadata": {
    "collapsed": false,
    "pycharm": {
     "name": "#%%\n"
    }
   }
  },
  {
   "cell_type": "code",
   "execution_count": 13,
   "outputs": [
    {
     "name": "stdout",
     "output_type": "stream",
     "text": [
      "2\n",
      "finally....\n"
     ]
    }
   ],
   "source": [
    "x = 2\n",
    "try:\n",
    "    for n in range(2,6):\n",
    "        if n % x == 0:\n",
    "            print(n)\n",
    "            break\n",
    "except ZeroDivisionError:\n",
    "    pass\n",
    "finally:\n",
    "    print(\"finally....\")"
   ],
   "metadata": {
    "collapsed": false,
    "pycharm": {
     "name": "#%%\n"
    }
   }
  },
  {
   "cell_type": "markdown",
   "source": [
    "## continue\n",
    "\n",
    "- 会继续执行**最近**的外层循环的下一个轮次\n",
    "- 当 continue 将控制流传出一个带有 finally 子句的 try 语句时，该 finally 子句会先被执行然后再真正开始循环的下一个轮次。[?]"
   ],
   "metadata": {
    "collapsed": false
   }
  },
  {
   "cell_type": "code",
   "execution_count": 15,
   "outputs": [
    {
     "name": "stdout",
     "output_type": "stream",
     "text": [
      "2\n",
      "----------\n",
      "4\n",
      "----------\n"
     ]
    }
   ],
   "source": [
    "for i in range(1,10):\n",
    "    if i % 3 == 0:\n",
    "        print(str(i) + \" 能整除3\")\n",
    "        continue\n",
    "    print(str(i) + \" 不能整除3\")"
   ],
   "metadata": {
    "collapsed": false,
    "pycharm": {
     "name": "#%%\n"
    }
   }
  },
  {
   "cell_type": "markdown",
   "source": [
    "## return\n",
    "- return 会离开当前函数调用，并以表达式列表 (或 None) 作为返回值。\n",
    "- 当 return 将控制流传出一个带有 finally 子句的 try 语句时，该 finally 子句会先被执行然后再真正离开该函数。"
   ],
   "metadata": {
    "collapsed": false,
    "pycharm": {
     "name": "#%% md\n"
    }
   }
  },
  {
   "cell_type": "code",
   "execution_count": 24,
   "outputs": [
    {
     "name": "stdout",
     "output_type": "stream",
     "text": [
      "None\n",
      "zhangsan\n"
     ]
    }
   ],
   "source": [
    "def f1():\n",
    "    return\n",
    "\n",
    "def f2():\n",
    "    return \"zhangsan\"\n",
    "\n",
    "print(f1())\n",
    "print(f2())\n"
   ],
   "metadata": {
    "collapsed": false,
    "pycharm": {
     "name": "#%%\n"
    }
   }
  },
  {
   "cell_type": "code",
   "execution_count": 25,
   "outputs": [
    {
     "name": "stdout",
     "output_type": "stream",
     "text": [
      "finally....\n",
      "True\n"
     ]
    }
   ],
   "source": [
    "def f3():\n",
    "    a = 2\n",
    "    try:\n",
    "        for b in range(2,6):\n",
    "            if a % b == 0:\n",
    "                return True\n",
    "    except ZeroDivisionError:\n",
    "        pass\n",
    "    finally:\n",
    "        print(\"finally....\")\n",
    "\n",
    "print(f3())"
   ],
   "metadata": {
    "collapsed": false,
    "pycharm": {
     "name": "#%%\n"
    }
   }
  },
  {
   "cell_type": "markdown",
   "source": [
    "## pass\n",
    "一个空操作，当它被执行时，什么都不发生。\n"
   ],
   "metadata": {
    "collapsed": false
   }
  },
  {
   "cell_type": "code",
   "execution_count": null,
   "outputs": [],
   "source": [
    "def f(arg): pass    # a function that does nothing (yet)\n",
    "\n",
    "class C: pass       # a class with no methods (yet)\n"
   ],
   "metadata": {
    "collapsed": false,
    "pycharm": {
     "name": "#%%\n"
    }
   }
  }
 ],
 "metadata": {
  "kernelspec": {
   "display_name": "Python 3",
   "language": "python",
   "name": "python3"
  },
  "language_info": {
   "codemirror_mode": {
    "name": "ipython",
    "version": 2
   },
   "file_extension": ".py",
   "mimetype": "text/x-python",
   "name": "python",
   "nbconvert_exporter": "python",
   "pygments_lexer": "ipython2",
   "version": "2.7.6"
  }
 },
 "nbformat": 4,
 "nbformat_minor": 0
}