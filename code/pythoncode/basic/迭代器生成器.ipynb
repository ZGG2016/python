{
 "cells": [
  {
   "cell_type": "markdown",
   "metadata": {
    "collapsed": true,
    "pycharm": {
     "name": "#%% md\n"
    }
   },
   "source": [
    "## 1、迭代器"
   ]
  },
  {
   "cell_type": "code",
   "execution_count": 1,
   "outputs": [
    {
     "name": "stdout",
     "output_type": "stream",
     "text": [
      "1\n",
      "2\n",
      "3\n",
      "1\n",
      "2\n",
      "3\n",
      "one\n",
      "two\n",
      "1\n",
      "2\n",
      "3\n"
     ]
    },
    {
     "ename": "FileNotFoundError",
     "evalue": "[Errno 2] No such file or directory: 'myfile.txt'",
     "output_type": "error",
     "traceback": [
      "\u001B[1;31m---------------------------------------------------------------------------\u001B[0m",
      "\u001B[1;31mFileNotFoundError\u001B[0m                         Traceback (most recent call last)",
      "\u001B[1;32m~\\AppData\\Local\\Temp/ipykernel_19620/2280008405.py\u001B[0m in \u001B[0;36m<module>\u001B[1;34m\u001B[0m\n\u001B[0;32m      7\u001B[0m \u001B[1;32mfor\u001B[0m \u001B[0mchar\u001B[0m \u001B[1;32min\u001B[0m \u001B[1;34m\"123\"\u001B[0m\u001B[1;33m:\u001B[0m\u001B[1;33m\u001B[0m\u001B[1;33m\u001B[0m\u001B[0m\n\u001B[0;32m      8\u001B[0m     \u001B[0mprint\u001B[0m\u001B[1;33m(\u001B[0m\u001B[0mchar\u001B[0m\u001B[1;33m)\u001B[0m\u001B[1;33m\u001B[0m\u001B[1;33m\u001B[0m\u001B[0m\n\u001B[1;32m----> 9\u001B[1;33m \u001B[1;32mfor\u001B[0m \u001B[0mline\u001B[0m \u001B[1;32min\u001B[0m \u001B[0mopen\u001B[0m\u001B[1;33m(\u001B[0m\u001B[1;34m\"myfile.txt\"\u001B[0m\u001B[1;33m)\u001B[0m\u001B[1;33m:\u001B[0m\u001B[1;33m\u001B[0m\u001B[1;33m\u001B[0m\u001B[0m\n\u001B[0m\u001B[0;32m     10\u001B[0m     \u001B[0mprint\u001B[0m\u001B[1;33m(\u001B[0m\u001B[0mline\u001B[0m\u001B[1;33m,\u001B[0m \u001B[0mend\u001B[0m\u001B[1;33m=\u001B[0m\u001B[1;34m''\u001B[0m\u001B[1;33m)\u001B[0m\u001B[1;33m\u001B[0m\u001B[1;33m\u001B[0m\u001B[0m\n\u001B[0;32m     11\u001B[0m \u001B[1;33m\u001B[0m\u001B[0m\n",
      "\u001B[1;31mFileNotFoundError\u001B[0m: [Errno 2] No such file or directory: 'myfile.txt'"
     ]
    }
   ],
   "source": [
    "for element in [1, 2, 3]:\n",
    "    print(element)\n",
    "for element in (1, 2, 3):\n",
    "    print(element)\n",
    "for key in {'one':1, 'two':2}:\n",
    "    print(key)\n",
    "for char in \"123\":\n",
    "    print(char)\n",
    "for line in open(\"myfile.txt\"):\n",
    "    print(line, end='')"
   ],
   "metadata": {
    "collapsed": false,
    "pycharm": {
     "name": "#%%\n"
    }
   }
  },
  {
   "cell_type": "markdown",
   "source": [
    "在幕后，for 语句会在容器对象（即列表、元组等）上调用 [`iter()`](https://docs.python.org/zh-cn/3.8/library/functions.html#iter)。\n",
    "\n",
    "`iter()` 返回一个定义了 [`__next__()`](https://docs.python.org/zh-cn/3.8/library/stdtypes.html#iterator.__next__) 方法的迭代器对象，`__next__()`将逐一访问容器中的元素。 当元素用尽时，`__next__()` 将引发 StopIteration 异常来通知终止 for 循环。\n",
    "\n",
    "可以使用 [`next()`](https://docs.python.org/zh-cn/3.8/library/functions.html#next) 内置函数来调用 `__next__()` 方法。这个例子显示了它的运作方式:"
   ],
   "metadata": {
    "collapsed": false,
    "pycharm": {
     "name": "#%% md\n"
    }
   }
  },
  {
   "cell_type": "code",
   "execution_count": 2,
   "outputs": [
    {
     "name": "stdout",
     "output_type": "stream",
     "text": [
      "<str_iterator object at 0x000001AA1ECE9BE0>\n",
      "a\n",
      "b\n",
      "c\n"
     ]
    },
    {
     "ename": "StopIteration",
     "evalue": "",
     "output_type": "error",
     "traceback": [
      "\u001B[1;31m---------------------------------------------------------------------------\u001B[0m",
      "\u001B[1;31mStopIteration\u001B[0m                             Traceback (most recent call last)",
      "\u001B[1;32m~\\AppData\\Local\\Temp/ipykernel_19620/2720590776.py\u001B[0m in \u001B[0;36m<module>\u001B[1;34m\u001B[0m\n\u001B[0;32m      5\u001B[0m \u001B[0mprint\u001B[0m\u001B[1;33m(\u001B[0m\u001B[0mnext\u001B[0m\u001B[1;33m(\u001B[0m\u001B[0mit\u001B[0m\u001B[1;33m)\u001B[0m\u001B[1;33m)\u001B[0m\u001B[1;33m\u001B[0m\u001B[1;33m\u001B[0m\u001B[0m\n\u001B[0;32m      6\u001B[0m \u001B[0mprint\u001B[0m\u001B[1;33m(\u001B[0m\u001B[0mnext\u001B[0m\u001B[1;33m(\u001B[0m\u001B[0mit\u001B[0m\u001B[1;33m)\u001B[0m\u001B[1;33m)\u001B[0m\u001B[1;33m\u001B[0m\u001B[1;33m\u001B[0m\u001B[0m\n\u001B[1;32m----> 7\u001B[1;33m \u001B[0mprint\u001B[0m\u001B[1;33m(\u001B[0m\u001B[0mnext\u001B[0m\u001B[1;33m(\u001B[0m\u001B[0mit\u001B[0m\u001B[1;33m)\u001B[0m\u001B[1;33m)\u001B[0m\u001B[1;33m\u001B[0m\u001B[1;33m\u001B[0m\u001B[0m\n\u001B[0m\u001B[0;32m      8\u001B[0m \u001B[1;33m\u001B[0m\u001B[0m\n",
      "\u001B[1;31mStopIteration\u001B[0m: "
     ]
    }
   ],
   "source": [
    "s = 'abc'\n",
    "it = iter(s)\n",
    "print(it)\n",
    "print(next(it))\n",
    "print(next(it))\n",
    "print(next(it))\n",
    "print(next(it))"
   ],
   "metadata": {
    "collapsed": false,
    "pycharm": {
     "name": "#%%\n"
    }
   }
  },
  {
   "cell_type": "markdown",
   "source": [
    "给类添加迭代器行为：定义一个 [`__iter__()`](https://docs.python.org/zh-cn/3.8/reference/datamodel.html#object.__iter__) 方法来返回一个带有 `__next__()` 方法的对象。 如果类已定义了 `__next__()`，则 `__iter__()` 可以简单地返回 `self`:"
   ],
   "metadata": {
    "collapsed": false,
    "pycharm": {
     "name": "#%% md\n"
    }
   }
  },
  {
   "cell_type": "code",
   "execution_count": 4,
   "outputs": [
    {
     "name": "stdout",
     "output_type": "stream",
     "text": [
      "<__main__.Reverse object at 0x000001AA1ECF2670>\n",
      "m\n",
      "a\n",
      "p\n",
      "s\n"
     ]
    }
   ],
   "source": [
    "class Reverse:\n",
    "    \"\"\"Iterator for looping over a sequence backwards.\"\"\"\n",
    "    def __init__(self, data):\n",
    "        self.data = data\n",
    "        self.index = len(data)\n",
    "\n",
    "    def __iter__(self):\n",
    "        return self\n",
    "\n",
    "    def __next__(self):\n",
    "        if self.index == 0:\n",
    "            raise StopIteration\n",
    "        self.index = self.index - 1\n",
    "        return self.data[self.index]\n",
    "\n",
    "rev = Reverse('spam')\n",
    "print(iter(rev))\n",
    "for char in rev:\n",
    "    print(char)"
   ],
   "metadata": {
    "collapsed": false,
    "pycharm": {
     "name": "#%%\n"
    }
   }
  },
  {
   "cell_type": "markdown",
   "source": [
    "## 2 生成器\n",
    "### 2.1 yield 表达式\n",
    "\n",
    "\tyield_atom       ::=  \"(\" yield_expression \")\"\n",
    "\tyield_expression ::=  \"yield\" [expression_list | \"from\" expression]\n",
    "\n",
    "\n",
    "**只能在函数定义的内部使用 yield 表达式，在一个函数体内使用 yield 表达式会使这个函数变成一个生成器函数**。"
   ],
   "metadata": {
    "collapsed": false,
    "pycharm": {
     "name": "#%% md\n"
    }
   }
  },
  {
   "cell_type": "code",
   "execution_count": null,
   "outputs": [],
   "source": [
    "def gen():  # defines a generator function\n",
    "    yield 123"
   ],
   "metadata": {
    "collapsed": false,
    "pycharm": {
     "name": "#%%\n"
    }
   }
  },
  {
   "cell_type": "markdown",
   "source": [
    "### 2.2 简要理解概念\n",
    "\n",
    "[官网原文](https://docs.python.org/zh-cn/3.8/glossary.html#term-generator-iterator)\n",
    "\n",
    "generator--生成器\n",
    "\n",
    "\t返回一个 generator iterator 的函数。\n",
    "\n",
    "\t它看起来很像普通函数，不同点在于其包含 yield 表达式，以便产生一系列值供给 for 循环使用或是通过 next() 函数逐一获取。\n",
    "\n",
    "\t通常是指生成器函数，但在某些情况下也可能是指生成器迭代器。如果需要清楚表达具体含义，请使用全称以避免歧义。\n",
    "\n",
    "generator iterator--生成器迭代器\n",
    "\n",
    "\tgenerator 函数所创建的对象。\n",
    "\n",
    "\t每个 yield 会临时暂停处理，记住当前位置执行状态（包括局部变量和挂起的 try 语句）。\n",
    "\n",
    "\t当该生成器迭代器恢复时，它会从离开位置继续执行（这与每次调用都从新开始的普通函数差别很大）。\n",
    "\n",
    "generator expression--成器表达式\n",
    "\n",
    "\t返回一个迭代器的表达式。\n",
    "\n",
    "\t它看起来很像普通表达式后面带有定义了一个循环变量、范围的 for 子句，以及一个可选的 if 子句。\n",
    "\n",
    "以下复合表达式会为外层函数生成一系列值:"
   ],
   "metadata": {
    "collapsed": false,
    "pycharm": {
     "name": "#%% md\n"
    }
   }
  },
  {
   "cell_type": "code",
   "execution_count": 5,
   "outputs": [
    {
     "name": "stdout",
     "output_type": "stream",
     "text": [
      "285\n"
     ]
    }
   ],
   "source": [
    "print(sum(i*i for i in range(10)))      # sum of squares 0, 1, 4, ... 81"
   ],
   "metadata": {
    "collapsed": false,
    "pycharm": {
     "name": "#%%\n"
    }
   }
  },
  {
   "cell_type": "markdown",
   "source": [
    "### 2.3 生成器-迭代器的方法\n",
    "\n",
    "被用于控制生成器函数的执行。\n",
    "\n",
    "请注意：生成器已经在执行时，调用以下任何方法都会引发 ValueError 异常。\n",
    "\n",
    "- generator.__next__()\n",
    "\n",
    "\t**开始一个生成器函数的执行，或从上次执行的 yield 表达式位置恢复执行**。\n",
    "\n",
    "\t当一个生成器函数通过 `__next__()` 方法恢复执行时，当前的 yield 表达式总是取值为 None。【注：注意区分 yield 表达式的值和返回给调用者的值】\n",
    "\n",
    "\t随后会继续执行到下一个 yield 表达式，其 expression_list 的值会返回给 ` __next__()` 的调用者。\n",
    "\n",
    "\t如果生成器没有产生下一个值就退出，则将引发 StopIteration 异常。\n",
    "\n",
    "\t**此方法通常是隐式地调用，例如通过 for 循环或是内置的 next() 函数**。\n",
    "\n",
    "- generator.send(value)\n",
    "\n",
    "\t**恢复执行，并向生成器函数“发送”一个值。 value 参数将成为当前 yield 表达式的结果**。\n",
    "\n",
    "\tsend() 方法会返回生成器所产生的下一个值，或者如果生成器没有产生下一个值就退出则会引发 StopIteration。\n",
    "\n",
    "\t**当调用 send() 来启动生成器时，它必须以 None 作为调用参数，因为这时没有可以接收值的 yield 表达式**。\n",
    "\n",
    "- generator.throw(type[, value[, traceback]])\n",
    "\n",
    "\t在生成器暂停的位置引发 type 类型的异常，并返回该生成器函数所产生的下一个值。\n",
    "\n",
    "\t如果生成器没有产生下一个值就退出，则将引发 StopIteration 异常。\n",
    "\n",
    "\t如果生成器函数没有捕获传入的异常，或引发了另一个异常，则该异常会被传播给调用者。\n",
    "\n",
    "- generator.close()\n",
    "\n",
    "\t在生成器函数暂停的位置引发 GeneratorExit。\n",
    "\n",
    "\t如果之后生成器函数正常退出、关闭或引发 GeneratorExit (由于未捕获该异常)则关闭并返回其调用者。 如果生成器产生了一个值，关闭会引发 RuntimeError。\n",
    "\n",
    "\t如果生成器引发任何其他异常，它会被传播给调用者。 如果生成器已经由于异常或正常退出则 close() 不会做任何事。"
   ],
   "metadata": {
    "collapsed": false,
    "pycharm": {
     "name": "#%% md\n"
    }
   }
  },
  {
   "cell_type": "markdown",
   "source": [
    "### 2.4、生成器理解"
   ],
   "metadata": {
    "collapsed": false,
    "pycharm": {
     "name": "#%% md\n"
    }
   }
  },
  {
   "cell_type": "code",
   "execution_count": null,
   "outputs": [],
   "source": [
    "# 理解生成器的工作过程\n",
    "def reverse(data):\n",
    "     for index in range(len(data)-1, -1, -1):\n",
    "         yield data[index]\n",
    "\n",
    "for char in reverse('golf'):\n",
    "     print(char)\n",
    "\n",
    "# next(iterator[, default]) : Return the next item from the iterator.\n",
    "# 上面的for循环相当于：\n",
    "# >>> g = reverse('golf')\n",
    "# >>> next(g)\n",
    "# 'f'\n",
    "# >>> next(g)\n",
    "# 'l'\n",
    "# >>> next(g)\n",
    "# 'o'\n",
    "# >>> next(g)\n",
    "# 'g'\n",
    "\n",
    "# 或相当于：\n",
    "# >>> g.__next__()\n",
    "# 'f'\n",
    "# >>> g.__next__()\n",
    "# 'l'\n",
    "# >>> g.__next__()\n",
    "# 'o'\n",
    "# >>> g.__next__()\n",
    "# 'g'\n",
    "# >>> g.__next__()   # 迭代完了\n",
    "# Traceback (most recent call last):\n",
    "#   File \"<stdin>\", line 1, in <module>\n",
    "# StopIteration"
   ],
   "metadata": {
    "collapsed": false,
    "pycharm": {
     "name": "#%%\n"
    }
   }
  },
  {
   "cell_type": "markdown",
   "source": [
    "当一个生成器函数被调用的时候，它返回一个迭代器，称为生成器迭代器。\n",
    "\n",
    "然后这个生成器迭代器来控制生成器函数的执行。当这个生成器迭代器的某一个方法被调用的时候【注：如`__next__()`】，生成器函数开始执行。\n",
    "\n",
    "这时会一直执行到第一个 yield 表达式，在此执行再次被挂起，给生成器迭代器的调用者返回 [expression_list](https://docs.python.org/zh-cn/3.8/reference/expressions.html#grammar-token-expression-list) 的值。【注：也就是返回'f''i'等值。参考 yield 表达式的语法格式部分】\n",
    "\n",
    "挂起后，所有局部状态都被保留下来，包括局部变量的当前绑定，指令指针，内部求值栈和任何异常处理的状态。\n",
    "\n",
    "通过调用生成器迭代器的某一个方法，生成器函数继续执行，此时函数的运行就和 `yield 表达式只是一个外部函数调用的情况` 完全一致。【注：继续执行时直接调用 yield 表达式】\n",
    "\n",
    "重新开始后，yield 表达式的值取决于调用的哪个方法来恢复执行。 如果用的是 `__next__()` (通常通过语言内置的 for 或是 next() 来调用) 那么结果就是 None。否则，如果用 send(), 那么结果就是传递给 send 方法的值。\n",
    "【注：是“yield 表达式的值”；参考下一节的`generator.__next__()`方法理解】"
   ],
   "metadata": {
    "collapsed": false,
    "pycharm": {
     "name": "#%% md\n"
    }
   }
  },
  {
   "cell_type": "code",
   "execution_count": 6,
   "outputs": [
    {
     "name": "stdout",
     "output_type": "stream",
     "text": [
      "<generator object reverse at 0x000001AA1F424DD0>\n",
      "f\n",
      "None\n",
      "l\n",
      "f\n",
      "aa\n",
      "l\n"
     ]
    }
   ],
   "source": [
    "# 理解：重新开始后，yield 表达式的值取决于调用的哪个方法来恢复执行。\n",
    "def reverse(data):\n",
    "    for index in range(len(data)-1, -1, -1):\n",
    "        y = yield data[index]\n",
    "        print(y)\n",
    "\n",
    "g = reverse('golf')\n",
    "print(g)\n",
    "print(g.__next__())\n",
    "print(g.__next__())\n",
    "\n",
    "g = reverse('golf')\n",
    "print(g.send(None))\n",
    "print(g.send('aa'))"
   ],
   "metadata": {
    "collapsed": false,
    "pycharm": {
     "name": "#%%\n"
    }
   }
  },
  {
   "cell_type": "markdown",
   "source": [
    "### 2.5、例子"
   ],
   "metadata": {
    "collapsed": false,
    "pycharm": {
     "name": "#%% md\n"
    }
   }
  },
  {
   "cell_type": "code",
   "execution_count": 7,
   "outputs": [
    {
     "name": "stdout",
     "output_type": "stream",
     "text": [
      "Execution starts when 'next()' is called for the first time.\n",
      "1\n",
      "None\n",
      "2\n",
      "Don't forget to clean up when 'close()' is called.\n"
     ]
    }
   ],
   "source": [
    "# 整体理解生成器\n",
    "def echo(value=None):\n",
    "     print(\"Execution starts when 'next()' is called for the first time.\")\n",
    "     try:\n",
    "         while True:\n",
    "             try:\n",
    "                 value = (yield value)\n",
    "             except Exception as e:\n",
    "                 value = e\n",
    "     finally:\n",
    "         print(\"Don't forget to clean up when 'close()' is called.\")\n",
    "\n",
    "generator = echo(1)\n",
    "print(next(generator))\n",
    "print(next(generator))  # 迭代器里没有值了\n",
    "\n",
    "# 恢复执行，并向生成器函数“发送”一个值。 value 参数将成为当前 yield 表达式的结果\n",
    "print(generator.send(2))  # 这里的2发送给了`value = (yield value)`里的左边的value\n",
    "\n",
    "generator.throw(TypeError, \"spam\")\n",
    "\n",
    "generator.close()"
   ],
   "metadata": {
    "collapsed": false,
    "pycharm": {
     "name": "#%%\n"
    }
   }
  },
  {
   "cell_type": "markdown",
   "source": [
    "## 3、生成器表达式\n",
    "\n",
    "生成器表达式是**用圆括号括起来**的紧凑形式生成器标注。\n",
    "\n",
    "\tgenerator_expression ::=  \"(\" expression comp_for \")\"\n",
    "\n",
    "**生成器表达式会产生一个新的生成器对象。其句法与推导式相同，区别在于它是用圆括号而不是用方括号或花括号括起来的**。\n",
    "\n",
    "在生成器表达式中使用的变量会在为生成器对象调用 `__next__()` 方法的时候以惰性方式被求值（即与普通生成器相同的方式）。\n",
    "\n",
    "但是，最左侧 for 子句内的可迭代对象是会被立即求值的，因此它所造成的错误会在生成器表达式被定义时被检测到，而不是在获取第一个值时才出错。\n",
    "\n",
    "**后续的 for 子句以及最左侧 for 子句内的任何筛选条件无法在外层作用域内被求值**，因为它们可能会依赖于从最左侧可迭代对象获取的值。\n",
    "\n",
    "例如:\n",
    "\n",
    "\t(x*y for x in range(10) for y in range(x, x+10)).\n",
    "\n",
    "圆括号在只附带一个参数的调用中可以被省略。 详情参见 [调用](https://docs.python.org/zh-cn/3.8/reference/expressions.html#calls) 一节。\n",
    "\n",
    "为了避免干扰到生成器表达式本身的预期操作，**禁止在隐式定义的生成器中使用 yield 和 yield from 表达式**。\n"
   ],
   "metadata": {
    "collapsed": false,
    "pycharm": {
     "name": "#%% md\n"
    }
   }
  },
  {
   "cell_type": "markdown",
   "source": [
    "[英文官方文档](https://docs.python.org/3.8/reference/expressions.html#yield-expressions)\n",
    "\n",
    "[中文官方文档](https://docs.python.org/zh-cn/3.8/reference/expressions.html#yield-expressions)\n",
    "\n",
    "[帮助理解](https://www.cnblogs.com/jiangtu/p/6662272.html)\n"
   ],
   "metadata": {
    "collapsed": false,
    "pycharm": {
     "name": "#%% md\n"
    }
   }
  }
 ],
 "metadata": {
  "kernelspec": {
   "display_name": "Python 3",
   "language": "python",
   "name": "python3"
  },
  "language_info": {
   "codemirror_mode": {
    "name": "ipython",
    "version": 2
   },
   "file_extension": ".py",
   "mimetype": "text/x-python",
   "name": "python",
   "nbconvert_exporter": "python",
   "pygments_lexer": "ipython2",
   "version": "2.7.6"
  }
 },
 "nbformat": 4,
 "nbformat_minor": 0
}