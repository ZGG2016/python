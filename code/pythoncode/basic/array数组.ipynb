{
 "cells": [
  {
   "cell_type": "code",
   "execution_count": 2,
   "outputs": [],
   "source": [
    "from array import array"
   ],
   "metadata": {
    "collapsed": false,
    "pycharm": {
     "name": "#%%\n"
    }
   }
  },
  {
   "cell_type": "code",
   "execution_count": null,
   "outputs": [],
   "source": [
    "# class array.array(typecode[, initializer])\n",
    "# 一个包含由 typecode 限制类型的条目的新数组，并由可选的 initializer 值进行初始化，该值必须为一个列表、bytes-like object 或包含正确类型元素的可迭代对象。\n",
    "arr = array('b',[1,2,3,4,5])\n",
    "print(arr)\n",
    "\n",
    "# 在内部表示中一个数组项的字节长度。\n",
    "print(arr.itemsize)\n",
    "\n",
    "# array.append(x)\n",
    "# 添加一个值为 x 的新项到数组末尾。\n",
    "arr.append(6)\n",
    "print(arr)\n",
    "\n",
    "# array.buffer_info()\n",
    "# 返回一个元组 (address, length) 以给出用于存放数组内容的缓冲区元素的当前内存地址和长度。\n",
    "print(arr.buffer_info())\n",
    "\n",
    "# 数组对象支持普通的序列操作如索引、切片、拼接和重复等。\n",
    "# 当使用切片赋值时，所赋的值必须为具有相同类型码的数组对象；\n",
    "print(arr[0])\n",
    "print(arr[0:2])"
   ],
   "metadata": {
    "collapsed": false,
    "pycharm": {
     "name": "#%%\n"
    }
   }
  },
  {
   "cell_type": "code",
   "execution_count": 4,
   "outputs": [
    {
     "name": "stdout",
     "output_type": "stream",
     "text": [
      "array('b', [1, 2, 3, 4, 5, 1, 2, 3])\n",
      "array('b', [1, 2, 3, 4, 5, 1, 2, 3, 1, 2, 3])\n",
      "3\n"
     ]
    }
   ],
   "source": [
    "arr = array('b',[1,2,3,4,5])\n",
    "a = array('b',(1,2,3))\n",
    "\n",
    "# array.extend(iterable)\n",
    "# 将来自 iterable 的项添加到数组末尾。\n",
    "arr.extend(a)\n",
    "print(arr)\n",
    "\n",
    "arr.extend((1,2,3))\n",
    "print(arr)\n",
    "\n",
    "# TypeError: an integer is required (got type str)\n",
    "# arr.extend((\"a\",\"b\"))\n",
    "\n",
    "# array.count(x)\n",
    "# 返回 x 在数组中的出现次数。\n",
    "print(arr.count(1))"
   ],
   "metadata": {
    "collapsed": false,
    "pycharm": {
     "name": "#%%\n"
    }
   }
  },
  {
   "cell_type": "code",
   "execution_count": 3,
   "outputs": [
    {
     "name": "stdout",
     "output_type": "stream",
     "text": [
      "0\n",
      "1\n",
      "array('b', [1, 10, 2, 3, 4, 5])\n",
      "10\n",
      "array('b', [1, 2, 3, 4, 5])\n",
      "array('b', [2, 3, 4, 5])\n",
      "array('b', [5, 4, 3, 2])\n"
     ]
    }
   ],
   "source": [
    "arr = array('b',[1,2,3,4,5])\n",
    "\n",
    "# array.index(x)\n",
    "# 返回最小的 i 使得 i 为 x 在数组中首次出现的序号。\n",
    "print(arr.index(1))\n",
    "print(arr.index(2))\n",
    "\n",
    "# array.insert(i, x)\n",
    "# 将值 x 作为新项插入数组的 i 位置之前。 负值将被视为相对于数组末尾的位置。\n",
    "arr.insert(1,10)\n",
    "print(arr)\n",
    "\n",
    "# array.pop([i])\n",
    "# 从数组中移除序号为 i 的项并将其返回。\n",
    "t = arr.pop(1)\n",
    "print(t)\n",
    "print(arr)\n",
    "\n",
    "# array.remove(x)\n",
    "# 从数组中移除首次出现的 x。\n",
    "arr.remove(1)\n",
    "print(arr)\n",
    "\n",
    "# array.reverse()\n",
    "# 反转数组中各项的顺序。\n",
    "arr.reverse()\n",
    "print(arr)\n"
   ],
   "metadata": {
    "collapsed": false,
    "pycharm": {
     "name": "#%%\n"
    }
   }
  },
  {
   "cell_type": "code",
   "execution_count": 7,
   "outputs": [
    {
     "name": "stdout",
     "output_type": "stream",
     "text": [
      "array('u', 'abcdef')\n",
      "b'a\\x00b\\x00c\\x00d\\x00e\\x00f\\x00'\n",
      "array('u', 'gabcdef')\n"
     ]
    }
   ],
   "source": [
    "arr = array('u',\"abcdef\")\n",
    "print(arr)\n",
    "\n",
    "# array.tobytes()\n",
    "# 将数组转换为一个机器值数组并返回其字节表示\n",
    "arrb = arr.tobytes()\n",
    "print(arrb)\n",
    "\n",
    "# array.frombytes(s)\n",
    "# 添加来自字符串的项，将字符串解读为机器值的数组\n",
    "arrr = array('u',\"g\")\n",
    "arrr.frombytes(arrb)\n",
    "print(arrr)\n"
   ],
   "metadata": {
    "collapsed": false,
    "pycharm": {
     "name": "#%%\n"
    }
   }
  },
  {
   "cell_type": "code",
   "execution_count": 5,
   "outputs": [
    {
     "name": "stdout",
     "output_type": "stream",
     "text": [
      "array('b', [1, 2, 3, 4, 5, 1, 2, 3])\n"
     ]
    },
    {
     "data": {
      "text/plain": "[1, 2, 3, 4, 5, 1, 2, 3]"
     },
     "execution_count": 5,
     "metadata": {},
     "output_type": "execute_result"
    }
   ],
   "source": [
    "arr = array('b',[1,2,3,4,5])\n",
    "\n",
    "# array.fromlist(list)\n",
    "# 添加来自 list 的项。 这等价于 for x in list: a.append(x)，区别在于如果发生类型错误，数组将不会被改变。\n",
    "arr.fromlist([1,2,3])\n",
    "print(arr)\n",
    "\n",
    "# array.tolist()\n",
    "# 将数组转换为包含相同项的普通列表。\n",
    "arr.tolist()\n"
   ],
   "metadata": {
    "collapsed": false,
    "pycharm": {
     "name": "#%%\n"
    }
   }
  },
  {
   "cell_type": "code",
   "execution_count": 7,
   "outputs": [
    {
     "name": "stdout",
     "output_type": "stream",
     "text": [
      "array('u', 'abcd')\n",
      "array('u', 'abcdef')\n"
     ]
    }
   ],
   "source": [
    "arrs = array('u',\"abcd\")\n",
    "print(arrs)\n",
    "\n",
    "# array.tounicode()\n",
    "# 将数组转换为一个 Unicode 字符串。\n",
    "# 数组必须是类型为 'u' 的数组；否则将引发 ValueError。\n",
    "# 请使用 array.tobytes().decode(enc) 来从其他类型的数组生成 Unicode 字符串。\n",
    "arrs.tounicode()\n",
    "\n",
    "# array.fromunicode(s)\n",
    "# 使用来自给定 Unicode 字符串的数组扩展数组。\n",
    "# 数组必须是类型为 'u' 的数组；否则将引发 ValueError。\n",
    "# 请使用 array.frombytes(unicodestring.encode(enc)) 来将 Unicode 数据添加到其他类型的数组。\n",
    "arrs.fromunicode(\"ef\")\n",
    "print(arrs)\n"
   ],
   "metadata": {
    "collapsed": false,
    "pycharm": {
     "name": "#%%\n"
    }
   }
  },
  {
   "cell_type": "markdown",
   "source": [
    "[更多内容](https://docs.python.org/zh-cn/3.8/library/array.html)\n"
   ],
   "metadata": {
    "collapsed": false
   }
  }
 ],
 "metadata": {
  "kernelspec": {
   "display_name": "Python 3",
   "language": "python",
   "name": "python3"
  },
  "language_info": {
   "codemirror_mode": {
    "name": "ipython",
    "version": 2
   },
   "file_extension": ".py",
   "mimetype": "text/x-python",
   "name": "python",
   "nbconvert_exporter": "python",
   "pygments_lexer": "ipython2",
   "version": "2.7.6"
  }
 },
 "nbformat": 4,
 "nbformat_minor": 0
}