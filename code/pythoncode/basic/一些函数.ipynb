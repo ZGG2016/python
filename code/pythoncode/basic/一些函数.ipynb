{
 "cells": [
  {
   "cell_type": "markdown",
   "source": [
    "setdefault 如果给定的key在字典中，就返回对应的值，原字典保持不变，\n",
    "           如果不在字典中，就插入到字典中，返回给定的对应值"
   ],
   "metadata": {
    "collapsed": false
   }
  },
  {
   "cell_type": "code",
   "execution_count": 19,
   "outputs": [
    {
     "name": "stdout",
     "output_type": "stream",
     "text": [
      "{'a': 1, 'b': 2}\n",
      "1\n",
      "{'a': 1, 'b': 2, 'c': 3}\n",
      "3\n"
     ]
    }
   ],
   "source": [
    "d = {'a':1, 'b':2}\n",
    "a = d.setdefault('a', 11)\n",
    "print(d)\n",
    "print(a)\n",
    "c = d.setdefault('c', 3)\n",
    "print(d)\n",
    "print(c)"
   ],
   "metadata": {
    "collapsed": false,
    "pycharm": {
     "name": "#%%\n"
    }
   }
  },
  {
   "cell_type": "markdown",
   "source": [
    "字典 update() 函数把字典参数 dict2 的 key/value(键/值) 对更新到字典 dict 里。\n",
    "\n",
    "dict.update(dict2) 更新dict中已存在的项，添加不存在的项"
   ],
   "metadata": {
    "collapsed": false
   }
  },
  {
   "cell_type": "code",
   "execution_count": 1,
   "outputs": [
    {
     "name": "stdout",
     "output_type": "stream",
     "text": [
      "{'a': 2, 'b': 2, 'c': 3}\n"
     ]
    }
   ],
   "source": [
    "d = {'a':1, 'b':2}\n",
    "d2 = {'a':2, 'c':3}\n",
    "d.update(d2)\n",
    "print(d)\n"
   ],
   "metadata": {
    "collapsed": false,
    "pycharm": {
     "name": "#%%\n"
    }
   }
  }
 ],
 "metadata": {
  "kernelspec": {
   "display_name": "Python 3",
   "language": "python",
   "name": "python3"
  },
  "language_info": {
   "codemirror_mode": {
    "name": "ipython",
    "version": 2
   },
   "file_extension": ".py",
   "mimetype": "text/x-python",
   "name": "python",
   "nbconvert_exporter": "python",
   "pygments_lexer": "ipython2",
   "version": "2.7.6"
  }
 },
 "nbformat": 4,
 "nbformat_minor": 0
}